{
 "cells": [
  {
   "cell_type": "markdown",
   "metadata": {},
   "source": [
    "---\n",
    "\n",
    "_You are currently looking at **version 1.1** of this notebook. To download notebooks and datafiles, as well as get help on Jupyter notebooks in the Coursera platform, visit the [Jupyter Notebook FAQ](https://www.coursera.org/learn/python-data-analysis/resources/0dhYG) course resource._\n",
    "\n",
    "---"
   ]
  },
  {
   "cell_type": "markdown",
   "metadata": {},
   "source": [
    "# The Python Programming Language: Functions"
   ]
  },
  {
   "cell_type": "code",
   "execution_count": null,
   "metadata": {},
   "outputs": [],
   "source": [
    "x = 1\n",
    "y = 2\n",
    "x + y*9"
   ]
  },
  {
   "cell_type": "code",
   "execution_count": null,
   "metadata": {},
   "outputs": [],
   "source": [
    "y"
   ]
  },
  {
   "cell_type": "markdown",
   "metadata": {},
   "source": [
    "<br>\n",
    "`add_numbers` is a function that takes two numbers and adds them together."
   ]
  },
  {
   "cell_type": "code",
   "execution_count": null,
   "metadata": {},
   "outputs": [],
   "source": [
    "def add_numbers(x,y):\n",
    "    return x + y\n",
    "\n",
    "add_numbers(2.5,3)"
   ]
  },
  {
   "cell_type": "markdown",
   "metadata": {},
   "source": [
    "<br>\n",
    "`add_numbers` updated to take an optional 3rd parameter. Using `print` allows printing of multiple expressions within a single cell."
   ]
  },
  {
   "cell_type": "code",
   "execution_count": null,
   "metadata": {},
   "outputs": [],
   "source": [
    "def add_numbers(x,y,z = None):\n",
    "    if(z == None):\n",
    "        return x+y\n",
    "    else: \n",
    "        return x+y+z\n",
    "    \n",
    "print(add_numbers(12,3))\n",
    "print(add_numbers(12,3,4))"
   ]
  },
  {
   "cell_type": "markdown",
   "metadata": {},
   "source": [
    "<br>\n",
    "`add_numbers` updated to take an optional flag parameter."
   ]
  },
  {
   "cell_type": "code",
   "execution_count": null,
   "metadata": {},
   "outputs": [],
   "source": [
    "def add_numbers(x, y, z=None, flag=False):\n",
    "    if (flag):\n",
    "        print('Flag is true!')\n",
    "    if (z==None):\n",
    "        return x + y\n",
    "    else:\n",
    "        return x + y + z\n",
    "    \n",
    "print(add_numbers(1, 2, False))"
   ]
  },
  {
   "cell_type": "markdown",
   "metadata": {},
   "source": [
    "<br>\n",
    "Assign function `add_numbers` to variable `a`."
   ]
  },
  {
   "cell_type": "code",
   "execution_count": null,
   "metadata": {},
   "outputs": [],
   "source": [
    "def add_numbers(x,y):\n",
    "    return x+y\n",
    "\n",
    "a = add_numbers\n",
    "a(1,2)"
   ]
  },
  {
   "cell_type": "markdown",
   "metadata": {},
   "source": [
    "<br>\n",
    "# The Python Programming Language: Types and Sequences"
   ]
  },
  {
   "cell_type": "markdown",
   "metadata": {},
   "source": [
    "<br>\n",
    "Use `type` to return the object's type."
   ]
  },
  {
   "cell_type": "code",
   "execution_count": null,
   "metadata": {},
   "outputs": [],
   "source": [
    "type('This is a string')\n"
   ]
  },
  {
   "cell_type": "code",
   "execution_count": null,
   "metadata": {},
   "outputs": [],
   "source": [
    "type(None)"
   ]
  },
  {
   "cell_type": "code",
   "execution_count": null,
   "metadata": {},
   "outputs": [],
   "source": [
    "type(1)"
   ]
  },
  {
   "cell_type": "code",
   "execution_count": null,
   "metadata": {},
   "outputs": [],
   "source": [
    "type(1.0)"
   ]
  },
  {
   "cell_type": "code",
   "execution_count": null,
   "metadata": {},
   "outputs": [],
   "source": [
    "type(add_numbers)"
   ]
  },
  {
   "cell_type": "markdown",
   "metadata": {},
   "source": [
    "<br>\n",
    "Tuples are an immutable data structure (cannot be altered)."
   ]
  },
  {
   "cell_type": "code",
   "execution_count": 5,
   "metadata": {},
   "outputs": [
    {
     "data": {
      "text/plain": [
       "list"
      ]
     },
     "execution_count": 5,
     "metadata": {},
     "output_type": "execute_result"
    }
   ],
   "source": [
    "x = [1,2,'a']\n",
    "type(x)"
   ]
  },
  {
   "cell_type": "markdown",
   "metadata": {},
   "source": [
    "<br>\n",
    "Lists are a mutable data structure."
   ]
  },
  {
   "cell_type": "code",
   "execution_count": 4,
   "metadata": {},
   "outputs": [
    {
     "data": {
      "text/plain": [
       "list"
      ]
     },
     "execution_count": 4,
     "metadata": {},
     "output_type": "execute_result"
    }
   ],
   "source": [
    "x = [1, 'a', 2, 'b']\n",
    "type(x)"
   ]
  },
  {
   "cell_type": "markdown",
   "metadata": {},
   "source": [
    "<br>\n",
    "Use `append` to append an object to a list."
   ]
  },
  {
   "cell_type": "code",
   "execution_count": null,
   "metadata": {},
   "outputs": [],
   "source": [
    "x.append(3)\n",
    "print(x)\n"
   ]
  },
  {
   "cell_type": "markdown",
   "metadata": {},
   "source": [
    "<br>\n",
    "This is an example of how to loop through each item in the list."
   ]
  },
  {
   "cell_type": "code",
   "execution_count": null,
   "metadata": {},
   "outputs": [],
   "source": [
    "for item in x:\n",
    "    print(item)\n",
    "    "
   ]
  },
  {
   "cell_type": "markdown",
   "metadata": {},
   "source": [
    "<br>\n",
    "Or using the indexing operator:"
   ]
  },
  {
   "cell_type": "code",
   "execution_count": null,
   "metadata": {},
   "outputs": [],
   "source": [
    "i=0\n",
    "while( i != len(x) ):\n",
    "    print(x[i])\n",
    "    i = i + 1"
   ]
  },
  {
   "cell_type": "markdown",
   "metadata": {},
   "source": [
    "<br>\n",
    "Use `+` to concatenate lists."
   ]
  },
  {
   "cell_type": "code",
   "execution_count": null,
   "metadata": {},
   "outputs": [],
   "source": [
    "[1,2] + [3,4]"
   ]
  },
  {
   "cell_type": "markdown",
   "metadata": {},
   "source": [
    "<br>\n",
    "Use `*` to repeat lists."
   ]
  },
  {
   "cell_type": "code",
   "execution_count": null,
   "metadata": {},
   "outputs": [],
   "source": [
    "[1]*3"
   ]
  },
  {
   "cell_type": "markdown",
   "metadata": {},
   "source": [
    "<br>\n",
    "Use the `in` operator to check if something is inside a list."
   ]
  },
  {
   "cell_type": "code",
   "execution_count": null,
   "metadata": {},
   "outputs": [],
   "source": [
    "2 in [1, 2, 3]"
   ]
  },
  {
   "cell_type": "markdown",
   "metadata": {},
   "source": [
    "<br>\n",
    "Now let's look at strings. Use bracket notation to slice a string."
   ]
  },
  {
   "cell_type": "code",
   "execution_count": null,
   "metadata": {},
   "outputs": [],
   "source": [
    "x = 'abcde'\n",
    "print(x[0]) #first character\n",
    "print(x[0:1]) #first character, but we have explicitly set the end character\n",
    "print(x[0:2]) #first two characters\n"
   ]
  },
  {
   "cell_type": "markdown",
   "metadata": {},
   "source": [
    "<br>\n",
    "This will return the last element of the string."
   ]
  },
  {
   "cell_type": "code",
   "execution_count": null,
   "metadata": {},
   "outputs": [],
   "source": [
    "x[-1]"
   ]
  },
  {
   "cell_type": "markdown",
   "metadata": {},
   "source": [
    "<br>\n",
    "This will return the slice starting from the 4th element from the end and stopping before the 2nd element from the end."
   ]
  },
  {
   "cell_type": "code",
   "execution_count": null,
   "metadata": {},
   "outputs": [],
   "source": [
    "x[-4:-2]"
   ]
  },
  {
   "cell_type": "markdown",
   "metadata": {},
   "source": [
    "<br>\n",
    "This is a slice from the beginning of the string and stopping before the 3rd element."
   ]
  },
  {
   "cell_type": "code",
   "execution_count": null,
   "metadata": {},
   "outputs": [],
   "source": [
    "x[:3]"
   ]
  },
  {
   "cell_type": "markdown",
   "metadata": {},
   "source": [
    "<br>\n",
    "And this is a slice starting from the 3rd element of the string and going all the way to the end."
   ]
  },
  {
   "cell_type": "code",
   "execution_count": null,
   "metadata": {},
   "outputs": [],
   "source": [
    "x[3:]"
   ]
  },
  {
   "cell_type": "code",
   "execution_count": null,
   "metadata": {},
   "outputs": [],
   "source": [
    "firstname = 'Christopher'\n",
    "lastname = 'Brooks'\n",
    "\n",
    "print(firstname + ' ' + lastname)\n",
    "print(firstname*3)\n",
    "print('Chris' in firstname)\n"
   ]
  },
  {
   "cell_type": "markdown",
   "metadata": {},
   "source": [
    "<br>\n",
    "`split` returns a list of all the words in a string, or a list split on a specific character."
   ]
  },
  {
   "cell_type": "code",
   "execution_count": null,
   "metadata": {},
   "outputs": [],
   "source": [
    "name = 'Christopher Arthur Hansen Brooks'\n",
    "firstname = name.split(' ')[0] # [0] selects the first element of the list\n",
    "lastname = 'Christopher Arthur Hansen Brooks'.split(' ')[-1] # [-1] selects the last element of the list\n",
    "print(firstname)\n",
    "print(lastname)"
   ]
  },
  {
   "cell_type": "markdown",
   "metadata": {},
   "source": [
    "<br>\n",
    "Make sure you convert objects to strings before concatenating."
   ]
  },
  {
   "cell_type": "code",
   "execution_count": null,
   "metadata": {},
   "outputs": [],
   "source": [
    "'Chris' + 2"
   ]
  },
  {
   "cell_type": "code",
   "execution_count": null,
   "metadata": {},
   "outputs": [],
   "source": [
    "'Chris' + str(2)"
   ]
  },
  {
   "cell_type": "markdown",
   "metadata": {},
   "source": [
    "<br>\n",
    "Dictionaries associate keys with values."
   ]
  },
  {
   "cell_type": "code",
   "execution_count": null,
   "metadata": {},
   "outputs": [],
   "source": [
    "x = {'hq':'ha@','yg':'yg@'}\n",
    "x['yg']"
   ]
  },
  {
   "cell_type": "code",
   "execution_count": null,
   "metadata": {},
   "outputs": [],
   "source": [
    "x['Kevyn Collins-Thompson'] = 'KC@'\n",
    "x['Kevyn Collins-Thompson']"
   ]
  },
  {
   "cell_type": "markdown",
   "metadata": {},
   "source": [
    "<br>\n",
    "Iterate over all of the keys:"
   ]
  },
  {
   "cell_type": "code",
   "execution_count": null,
   "metadata": {
    "scrolled": true
   },
   "outputs": [],
   "source": [
    "for name in x:\n",
    "    print(name)"
   ]
  },
  {
   "cell_type": "markdown",
   "metadata": {},
   "source": [
    "<br>\n",
    "Iterate over all of the values:"
   ]
  },
  {
   "cell_type": "code",
   "execution_count": null,
   "metadata": {},
   "outputs": [],
   "source": [
    "for i in x.values():\n",
    "    print(i)"
   ]
  },
  {
   "cell_type": "markdown",
   "metadata": {},
   "source": [
    "<br>\n",
    "Iterate over all of the items in the list:"
   ]
  },
  {
   "cell_type": "code",
   "execution_count": null,
   "metadata": {},
   "outputs": [],
   "source": [
    "for name1, email in x.items():\n",
    "    print(name1)\n",
    "    print(email)"
   ]
  },
  {
   "cell_type": "markdown",
   "metadata": {},
   "source": [
    "<br>\n",
    "You can unpack a sequence into different variables:"
   ]
  },
  {
   "cell_type": "code",
   "execution_count": null,
   "metadata": {
    "collapsed": true
   },
   "outputs": [],
   "source": [
    "x = ('Christopher', 'Brooks', 'brooksch@umich.edu')\n",
    "fname, lname, email = x"
   ]
  },
  {
   "cell_type": "code",
   "execution_count": null,
   "metadata": {},
   "outputs": [],
   "source": [
    "fname"
   ]
  },
  {
   "cell_type": "code",
   "execution_count": null,
   "metadata": {},
   "outputs": [],
   "source": [
    "lname"
   ]
  },
  {
   "cell_type": "markdown",
   "metadata": {},
   "source": [
    "<br>\n",
    "Make sure the number of values you are unpacking matches the number of variables being assigned."
   ]
  },
  {
   "cell_type": "code",
   "execution_count": null,
   "metadata": {},
   "outputs": [],
   "source": [
    "x = ('Christopher', 'Brooks', 'brooksch@umich.edu', 'Ann Arbor')\n",
    "fname, lname, email,location = x\n",
    "print(location)"
   ]
  },
  {
   "cell_type": "markdown",
   "metadata": {},
   "source": [
    "<br>\n",
    "# The Python Programming Language: More on Strings"
   ]
  },
  {
   "cell_type": "code",
   "execution_count": null,
   "metadata": {},
   "outputs": [],
   "source": [
    "print('Chris' + 2)"
   ]
  },
  {
   "cell_type": "code",
   "execution_count": null,
   "metadata": {},
   "outputs": [],
   "source": [
    "print('Chris' + str(2))"
   ]
  },
  {
   "cell_type": "markdown",
   "metadata": {},
   "source": [
    "<br>\n",
    "Python has a built in method for convenient string formatting."
   ]
  },
  {
   "cell_type": "code",
   "execution_count": null,
   "metadata": {},
   "outputs": [],
   "source": [
    "sales_record = {\n",
    "'price': 3.24,\n",
    "'num_items': 4,\n",
    "'person': 'Chris'}\n",
    "\n",
    "sales_statement = '{} bought {} item(s) at a price of {} each for a total of {}'\n",
    "\n",
    "print(sales_statement.format(sales_record['person'],\n",
    "                             sales_record['num_items'],\n",
    "                             sales_record['price'],\n",
    "                             sales_record['num_items']*sales_record['price']))\n"
   ]
  },
  {
   "cell_type": "markdown",
   "metadata": {},
   "source": [
    "<br>\n",
    "# Reading and Writing CSV files"
   ]
  },
  {
   "cell_type": "markdown",
   "metadata": {},
   "source": [
    "<br>\n",
    "Let's import our datafile mpg.csv, which contains fuel economy data for 234 cars.\n",
    "\n",
    "* mpg : miles per gallon\n",
    "* class : car classification\n",
    "* cty : city mpg\n",
    "* cyl : # of cylinders\n",
    "* displ : engine displacement in liters\n",
    "* drv : f = front-wheel drive, r = rear wheel drive, 4 = 4wd\n",
    "* fl : fuel (e = ethanol E85, d = diesel, r = regular, p = premium, c = CNG)\n",
    "* hwy : highway mpg\n",
    "* manufacturer : automobile manufacturer\n",
    "* model : model of car\n",
    "* trans : type of transmission\n",
    "* year : model year"
   ]
  },
  {
   "cell_type": "code",
   "execution_count": 3,
   "metadata": {
    "scrolled": false
   },
   "outputs": [
    {
     "data": {
      "text/plain": [
       "[{'': '1',\n",
       "  'class': 'compact',\n",
       "  'cty': '18',\n",
       "  'cyl': '4',\n",
       "  'displ': '1.8',\n",
       "  'drv': 'f',\n",
       "  'fl': 'p',\n",
       "  'hwy': '29',\n",
       "  'manufacturer': 'audi',\n",
       "  'model': 'a4',\n",
       "  'trans': 'auto(l5)',\n",
       "  'year': '1999'},\n",
       " {'': '2',\n",
       "  'class': 'compact',\n",
       "  'cty': '21',\n",
       "  'cyl': '4',\n",
       "  'displ': '1.8',\n",
       "  'drv': 'f',\n",
       "  'fl': 'p',\n",
       "  'hwy': '29',\n",
       "  'manufacturer': 'audi',\n",
       "  'model': 'a4',\n",
       "  'trans': 'manual(m5)',\n",
       "  'year': '1999'},\n",
       " {'': '3',\n",
       "  'class': 'compact',\n",
       "  'cty': '20',\n",
       "  'cyl': '4',\n",
       "  'displ': '2',\n",
       "  'drv': 'f',\n",
       "  'fl': 'p',\n",
       "  'hwy': '31',\n",
       "  'manufacturer': 'audi',\n",
       "  'model': 'a4',\n",
       "  'trans': 'manual(m6)',\n",
       "  'year': '2008'},\n",
       " {'': '4',\n",
       "  'class': 'compact',\n",
       "  'cty': '21',\n",
       "  'cyl': '4',\n",
       "  'displ': '2',\n",
       "  'drv': 'f',\n",
       "  'fl': 'p',\n",
       "  'hwy': '30',\n",
       "  'manufacturer': 'audi',\n",
       "  'model': 'a4',\n",
       "  'trans': 'auto(av)',\n",
       "  'year': '2008'},\n",
       " {'': '5',\n",
       "  'class': 'compact',\n",
       "  'cty': '16',\n",
       "  'cyl': '6',\n",
       "  'displ': '2.8',\n",
       "  'drv': 'f',\n",
       "  'fl': 'p',\n",
       "  'hwy': '26',\n",
       "  'manufacturer': 'audi',\n",
       "  'model': 'a4',\n",
       "  'trans': 'auto(l5)',\n",
       "  'year': '1999'},\n",
       " {'': '6',\n",
       "  'class': 'compact',\n",
       "  'cty': '18',\n",
       "  'cyl': '6',\n",
       "  'displ': '2.8',\n",
       "  'drv': 'f',\n",
       "  'fl': 'p',\n",
       "  'hwy': '26',\n",
       "  'manufacturer': 'audi',\n",
       "  'model': 'a4',\n",
       "  'trans': 'manual(m5)',\n",
       "  'year': '1999'},\n",
       " {'': '7',\n",
       "  'class': 'compact',\n",
       "  'cty': '18',\n",
       "  'cyl': '6',\n",
       "  'displ': '3.1',\n",
       "  'drv': 'f',\n",
       "  'fl': 'p',\n",
       "  'hwy': '27',\n",
       "  'manufacturer': 'audi',\n",
       "  'model': 'a4',\n",
       "  'trans': 'auto(av)',\n",
       "  'year': '2008'},\n",
       " {'': '8',\n",
       "  'class': 'compact',\n",
       "  'cty': '18',\n",
       "  'cyl': '4',\n",
       "  'displ': '1.8',\n",
       "  'drv': '4',\n",
       "  'fl': 'p',\n",
       "  'hwy': '26',\n",
       "  'manufacturer': 'audi',\n",
       "  'model': 'a4 quattro',\n",
       "  'trans': 'manual(m5)',\n",
       "  'year': '1999'},\n",
       " {'': '9',\n",
       "  'class': 'compact',\n",
       "  'cty': '16',\n",
       "  'cyl': '4',\n",
       "  'displ': '1.8',\n",
       "  'drv': '4',\n",
       "  'fl': 'p',\n",
       "  'hwy': '25',\n",
       "  'manufacturer': 'audi',\n",
       "  'model': 'a4 quattro',\n",
       "  'trans': 'auto(l5)',\n",
       "  'year': '1999'},\n",
       " {'': '10',\n",
       "  'class': 'compact',\n",
       "  'cty': '20',\n",
       "  'cyl': '4',\n",
       "  'displ': '2',\n",
       "  'drv': '4',\n",
       "  'fl': 'p',\n",
       "  'hwy': '28',\n",
       "  'manufacturer': 'audi',\n",
       "  'model': 'a4 quattro',\n",
       "  'trans': 'manual(m6)',\n",
       "  'year': '2008'},\n",
       " {'': '11',\n",
       "  'class': 'compact',\n",
       "  'cty': '19',\n",
       "  'cyl': '4',\n",
       "  'displ': '2',\n",
       "  'drv': '4',\n",
       "  'fl': 'p',\n",
       "  'hwy': '27',\n",
       "  'manufacturer': 'audi',\n",
       "  'model': 'a4 quattro',\n",
       "  'trans': 'auto(s6)',\n",
       "  'year': '2008'},\n",
       " {'': '12',\n",
       "  'class': 'compact',\n",
       "  'cty': '15',\n",
       "  'cyl': '6',\n",
       "  'displ': '2.8',\n",
       "  'drv': '4',\n",
       "  'fl': 'p',\n",
       "  'hwy': '25',\n",
       "  'manufacturer': 'audi',\n",
       "  'model': 'a4 quattro',\n",
       "  'trans': 'auto(l5)',\n",
       "  'year': '1999'},\n",
       " {'': '13',\n",
       "  'class': 'compact',\n",
       "  'cty': '17',\n",
       "  'cyl': '6',\n",
       "  'displ': '2.8',\n",
       "  'drv': '4',\n",
       "  'fl': 'p',\n",
       "  'hwy': '25',\n",
       "  'manufacturer': 'audi',\n",
       "  'model': 'a4 quattro',\n",
       "  'trans': 'manual(m5)',\n",
       "  'year': '1999'},\n",
       " {'': '14',\n",
       "  'class': 'compact',\n",
       "  'cty': '17',\n",
       "  'cyl': '6',\n",
       "  'displ': '3.1',\n",
       "  'drv': '4',\n",
       "  'fl': 'p',\n",
       "  'hwy': '25',\n",
       "  'manufacturer': 'audi',\n",
       "  'model': 'a4 quattro',\n",
       "  'trans': 'auto(s6)',\n",
       "  'year': '2008'},\n",
       " {'': '15',\n",
       "  'class': 'compact',\n",
       "  'cty': '15',\n",
       "  'cyl': '6',\n",
       "  'displ': '3.1',\n",
       "  'drv': '4',\n",
       "  'fl': 'p',\n",
       "  'hwy': '25',\n",
       "  'manufacturer': 'audi',\n",
       "  'model': 'a4 quattro',\n",
       "  'trans': 'manual(m6)',\n",
       "  'year': '2008'},\n",
       " {'': '16',\n",
       "  'class': 'midsize',\n",
       "  'cty': '15',\n",
       "  'cyl': '6',\n",
       "  'displ': '2.8',\n",
       "  'drv': '4',\n",
       "  'fl': 'p',\n",
       "  'hwy': '24',\n",
       "  'manufacturer': 'audi',\n",
       "  'model': 'a6 quattro',\n",
       "  'trans': 'auto(l5)',\n",
       "  'year': '1999'},\n",
       " {'': '17',\n",
       "  'class': 'midsize',\n",
       "  'cty': '17',\n",
       "  'cyl': '6',\n",
       "  'displ': '3.1',\n",
       "  'drv': '4',\n",
       "  'fl': 'p',\n",
       "  'hwy': '25',\n",
       "  'manufacturer': 'audi',\n",
       "  'model': 'a6 quattro',\n",
       "  'trans': 'auto(s6)',\n",
       "  'year': '2008'},\n",
       " {'': '18',\n",
       "  'class': 'midsize',\n",
       "  'cty': '16',\n",
       "  'cyl': '8',\n",
       "  'displ': '4.2',\n",
       "  'drv': '4',\n",
       "  'fl': 'p',\n",
       "  'hwy': '23',\n",
       "  'manufacturer': 'audi',\n",
       "  'model': 'a6 quattro',\n",
       "  'trans': 'auto(s6)',\n",
       "  'year': '2008'},\n",
       " {'': '19',\n",
       "  'class': 'suv',\n",
       "  'cty': '14',\n",
       "  'cyl': '8',\n",
       "  'displ': '5.3',\n",
       "  'drv': 'r',\n",
       "  'fl': 'r',\n",
       "  'hwy': '20',\n",
       "  'manufacturer': 'chevrolet',\n",
       "  'model': 'c1500 suburban 2wd',\n",
       "  'trans': 'auto(l4)',\n",
       "  'year': '2008'},\n",
       " {'': '20',\n",
       "  'class': 'suv',\n",
       "  'cty': '11',\n",
       "  'cyl': '8',\n",
       "  'displ': '5.3',\n",
       "  'drv': 'r',\n",
       "  'fl': 'e',\n",
       "  'hwy': '15',\n",
       "  'manufacturer': 'chevrolet',\n",
       "  'model': 'c1500 suburban 2wd',\n",
       "  'trans': 'auto(l4)',\n",
       "  'year': '2008'},\n",
       " {'': '21',\n",
       "  'class': 'suv',\n",
       "  'cty': '14',\n",
       "  'cyl': '8',\n",
       "  'displ': '5.3',\n",
       "  'drv': 'r',\n",
       "  'fl': 'r',\n",
       "  'hwy': '20',\n",
       "  'manufacturer': 'chevrolet',\n",
       "  'model': 'c1500 suburban 2wd',\n",
       "  'trans': 'auto(l4)',\n",
       "  'year': '2008'},\n",
       " {'': '22',\n",
       "  'class': 'suv',\n",
       "  'cty': '13',\n",
       "  'cyl': '8',\n",
       "  'displ': '5.7',\n",
       "  'drv': 'r',\n",
       "  'fl': 'r',\n",
       "  'hwy': '17',\n",
       "  'manufacturer': 'chevrolet',\n",
       "  'model': 'c1500 suburban 2wd',\n",
       "  'trans': 'auto(l4)',\n",
       "  'year': '1999'},\n",
       " {'': '23',\n",
       "  'class': 'suv',\n",
       "  'cty': '12',\n",
       "  'cyl': '8',\n",
       "  'displ': '6',\n",
       "  'drv': 'r',\n",
       "  'fl': 'r',\n",
       "  'hwy': '17',\n",
       "  'manufacturer': 'chevrolet',\n",
       "  'model': 'c1500 suburban 2wd',\n",
       "  'trans': 'auto(l4)',\n",
       "  'year': '2008'},\n",
       " {'': '24',\n",
       "  'class': '2seater',\n",
       "  'cty': '16',\n",
       "  'cyl': '8',\n",
       "  'displ': '5.7',\n",
       "  'drv': 'r',\n",
       "  'fl': 'p',\n",
       "  'hwy': '26',\n",
       "  'manufacturer': 'chevrolet',\n",
       "  'model': 'corvette',\n",
       "  'trans': 'manual(m6)',\n",
       "  'year': '1999'},\n",
       " {'': '25',\n",
       "  'class': '2seater',\n",
       "  'cty': '15',\n",
       "  'cyl': '8',\n",
       "  'displ': '5.7',\n",
       "  'drv': 'r',\n",
       "  'fl': 'p',\n",
       "  'hwy': '23',\n",
       "  'manufacturer': 'chevrolet',\n",
       "  'model': 'corvette',\n",
       "  'trans': 'auto(l4)',\n",
       "  'year': '1999'},\n",
       " {'': '26',\n",
       "  'class': '2seater',\n",
       "  'cty': '16',\n",
       "  'cyl': '8',\n",
       "  'displ': '6.2',\n",
       "  'drv': 'r',\n",
       "  'fl': 'p',\n",
       "  'hwy': '26',\n",
       "  'manufacturer': 'chevrolet',\n",
       "  'model': 'corvette',\n",
       "  'trans': 'manual(m6)',\n",
       "  'year': '2008'},\n",
       " {'': '27',\n",
       "  'class': '2seater',\n",
       "  'cty': '15',\n",
       "  'cyl': '8',\n",
       "  'displ': '6.2',\n",
       "  'drv': 'r',\n",
       "  'fl': 'p',\n",
       "  'hwy': '25',\n",
       "  'manufacturer': 'chevrolet',\n",
       "  'model': 'corvette',\n",
       "  'trans': 'auto(s6)',\n",
       "  'year': '2008'},\n",
       " {'': '28',\n",
       "  'class': '2seater',\n",
       "  'cty': '15',\n",
       "  'cyl': '8',\n",
       "  'displ': '7',\n",
       "  'drv': 'r',\n",
       "  'fl': 'p',\n",
       "  'hwy': '24',\n",
       "  'manufacturer': 'chevrolet',\n",
       "  'model': 'corvette',\n",
       "  'trans': 'manual(m6)',\n",
       "  'year': '2008'},\n",
       " {'': '29',\n",
       "  'class': 'suv',\n",
       "  'cty': '14',\n",
       "  'cyl': '8',\n",
       "  'displ': '5.3',\n",
       "  'drv': '4',\n",
       "  'fl': 'r',\n",
       "  'hwy': '19',\n",
       "  'manufacturer': 'chevrolet',\n",
       "  'model': 'k1500 tahoe 4wd',\n",
       "  'trans': 'auto(l4)',\n",
       "  'year': '2008'},\n",
       " {'': '30',\n",
       "  'class': 'suv',\n",
       "  'cty': '11',\n",
       "  'cyl': '8',\n",
       "  'displ': '5.3',\n",
       "  'drv': '4',\n",
       "  'fl': 'e',\n",
       "  'hwy': '14',\n",
       "  'manufacturer': 'chevrolet',\n",
       "  'model': 'k1500 tahoe 4wd',\n",
       "  'trans': 'auto(l4)',\n",
       "  'year': '2008'},\n",
       " {'': '31',\n",
       "  'class': 'suv',\n",
       "  'cty': '11',\n",
       "  'cyl': '8',\n",
       "  'displ': '5.7',\n",
       "  'drv': '4',\n",
       "  'fl': 'r',\n",
       "  'hwy': '15',\n",
       "  'manufacturer': 'chevrolet',\n",
       "  'model': 'k1500 tahoe 4wd',\n",
       "  'trans': 'auto(l4)',\n",
       "  'year': '1999'},\n",
       " {'': '32',\n",
       "  'class': 'suv',\n",
       "  'cty': '14',\n",
       "  'cyl': '8',\n",
       "  'displ': '6.5',\n",
       "  'drv': '4',\n",
       "  'fl': 'd',\n",
       "  'hwy': '17',\n",
       "  'manufacturer': 'chevrolet',\n",
       "  'model': 'k1500 tahoe 4wd',\n",
       "  'trans': 'auto(l4)',\n",
       "  'year': '1999'},\n",
       " {'': '33',\n",
       "  'class': 'midsize',\n",
       "  'cty': '19',\n",
       "  'cyl': '4',\n",
       "  'displ': '2.4',\n",
       "  'drv': 'f',\n",
       "  'fl': 'r',\n",
       "  'hwy': '27',\n",
       "  'manufacturer': 'chevrolet',\n",
       "  'model': 'malibu',\n",
       "  'trans': 'auto(l4)',\n",
       "  'year': '1999'},\n",
       " {'': '34',\n",
       "  'class': 'midsize',\n",
       "  'cty': '22',\n",
       "  'cyl': '4',\n",
       "  'displ': '2.4',\n",
       "  'drv': 'f',\n",
       "  'fl': 'r',\n",
       "  'hwy': '30',\n",
       "  'manufacturer': 'chevrolet',\n",
       "  'model': 'malibu',\n",
       "  'trans': 'auto(l4)',\n",
       "  'year': '2008'},\n",
       " {'': '35',\n",
       "  'class': 'midsize',\n",
       "  'cty': '18',\n",
       "  'cyl': '6',\n",
       "  'displ': '3.1',\n",
       "  'drv': 'f',\n",
       "  'fl': 'r',\n",
       "  'hwy': '26',\n",
       "  'manufacturer': 'chevrolet',\n",
       "  'model': 'malibu',\n",
       "  'trans': 'auto(l4)',\n",
       "  'year': '1999'},\n",
       " {'': '36',\n",
       "  'class': 'midsize',\n",
       "  'cty': '18',\n",
       "  'cyl': '6',\n",
       "  'displ': '3.5',\n",
       "  'drv': 'f',\n",
       "  'fl': 'r',\n",
       "  'hwy': '29',\n",
       "  'manufacturer': 'chevrolet',\n",
       "  'model': 'malibu',\n",
       "  'trans': 'auto(l4)',\n",
       "  'year': '2008'},\n",
       " {'': '37',\n",
       "  'class': 'midsize',\n",
       "  'cty': '17',\n",
       "  'cyl': '6',\n",
       "  'displ': '3.6',\n",
       "  'drv': 'f',\n",
       "  'fl': 'r',\n",
       "  'hwy': '26',\n",
       "  'manufacturer': 'chevrolet',\n",
       "  'model': 'malibu',\n",
       "  'trans': 'auto(s6)',\n",
       "  'year': '2008'},\n",
       " {'': '38',\n",
       "  'class': 'minivan',\n",
       "  'cty': '18',\n",
       "  'cyl': '4',\n",
       "  'displ': '2.4',\n",
       "  'drv': 'f',\n",
       "  'fl': 'r',\n",
       "  'hwy': '24',\n",
       "  'manufacturer': 'dodge',\n",
       "  'model': 'caravan 2wd',\n",
       "  'trans': 'auto(l3)',\n",
       "  'year': '1999'},\n",
       " {'': '39',\n",
       "  'class': 'minivan',\n",
       "  'cty': '17',\n",
       "  'cyl': '6',\n",
       "  'displ': '3',\n",
       "  'drv': 'f',\n",
       "  'fl': 'r',\n",
       "  'hwy': '24',\n",
       "  'manufacturer': 'dodge',\n",
       "  'model': 'caravan 2wd',\n",
       "  'trans': 'auto(l4)',\n",
       "  'year': '1999'},\n",
       " {'': '40',\n",
       "  'class': 'minivan',\n",
       "  'cty': '16',\n",
       "  'cyl': '6',\n",
       "  'displ': '3.3',\n",
       "  'drv': 'f',\n",
       "  'fl': 'r',\n",
       "  'hwy': '22',\n",
       "  'manufacturer': 'dodge',\n",
       "  'model': 'caravan 2wd',\n",
       "  'trans': 'auto(l4)',\n",
       "  'year': '1999'},\n",
       " {'': '41',\n",
       "  'class': 'minivan',\n",
       "  'cty': '16',\n",
       "  'cyl': '6',\n",
       "  'displ': '3.3',\n",
       "  'drv': 'f',\n",
       "  'fl': 'r',\n",
       "  'hwy': '22',\n",
       "  'manufacturer': 'dodge',\n",
       "  'model': 'caravan 2wd',\n",
       "  'trans': 'auto(l4)',\n",
       "  'year': '1999'},\n",
       " {'': '42',\n",
       "  'class': 'minivan',\n",
       "  'cty': '17',\n",
       "  'cyl': '6',\n",
       "  'displ': '3.3',\n",
       "  'drv': 'f',\n",
       "  'fl': 'r',\n",
       "  'hwy': '24',\n",
       "  'manufacturer': 'dodge',\n",
       "  'model': 'caravan 2wd',\n",
       "  'trans': 'auto(l4)',\n",
       "  'year': '2008'},\n",
       " {'': '43',\n",
       "  'class': 'minivan',\n",
       "  'cty': '17',\n",
       "  'cyl': '6',\n",
       "  'displ': '3.3',\n",
       "  'drv': 'f',\n",
       "  'fl': 'r',\n",
       "  'hwy': '24',\n",
       "  'manufacturer': 'dodge',\n",
       "  'model': 'caravan 2wd',\n",
       "  'trans': 'auto(l4)',\n",
       "  'year': '2008'},\n",
       " {'': '44',\n",
       "  'class': 'minivan',\n",
       "  'cty': '11',\n",
       "  'cyl': '6',\n",
       "  'displ': '3.3',\n",
       "  'drv': 'f',\n",
       "  'fl': 'e',\n",
       "  'hwy': '17',\n",
       "  'manufacturer': 'dodge',\n",
       "  'model': 'caravan 2wd',\n",
       "  'trans': 'auto(l4)',\n",
       "  'year': '2008'},\n",
       " {'': '45',\n",
       "  'class': 'minivan',\n",
       "  'cty': '15',\n",
       "  'cyl': '6',\n",
       "  'displ': '3.8',\n",
       "  'drv': 'f',\n",
       "  'fl': 'r',\n",
       "  'hwy': '22',\n",
       "  'manufacturer': 'dodge',\n",
       "  'model': 'caravan 2wd',\n",
       "  'trans': 'auto(l4)',\n",
       "  'year': '1999'},\n",
       " {'': '46',\n",
       "  'class': 'minivan',\n",
       "  'cty': '15',\n",
       "  'cyl': '6',\n",
       "  'displ': '3.8',\n",
       "  'drv': 'f',\n",
       "  'fl': 'r',\n",
       "  'hwy': '21',\n",
       "  'manufacturer': 'dodge',\n",
       "  'model': 'caravan 2wd',\n",
       "  'trans': 'auto(l4)',\n",
       "  'year': '1999'},\n",
       " {'': '47',\n",
       "  'class': 'minivan',\n",
       "  'cty': '16',\n",
       "  'cyl': '6',\n",
       "  'displ': '3.8',\n",
       "  'drv': 'f',\n",
       "  'fl': 'r',\n",
       "  'hwy': '23',\n",
       "  'manufacturer': 'dodge',\n",
       "  'model': 'caravan 2wd',\n",
       "  'trans': 'auto(l6)',\n",
       "  'year': '2008'},\n",
       " {'': '48',\n",
       "  'class': 'minivan',\n",
       "  'cty': '16',\n",
       "  'cyl': '6',\n",
       "  'displ': '4',\n",
       "  'drv': 'f',\n",
       "  'fl': 'r',\n",
       "  'hwy': '23',\n",
       "  'manufacturer': 'dodge',\n",
       "  'model': 'caravan 2wd',\n",
       "  'trans': 'auto(l6)',\n",
       "  'year': '2008'},\n",
       " {'': '49',\n",
       "  'class': 'pickup',\n",
       "  'cty': '15',\n",
       "  'cyl': '6',\n",
       "  'displ': '3.7',\n",
       "  'drv': '4',\n",
       "  'fl': 'r',\n",
       "  'hwy': '19',\n",
       "  'manufacturer': 'dodge',\n",
       "  'model': 'dakota pickup 4wd',\n",
       "  'trans': 'manual(m6)',\n",
       "  'year': '2008'},\n",
       " {'': '50',\n",
       "  'class': 'pickup',\n",
       "  'cty': '14',\n",
       "  'cyl': '6',\n",
       "  'displ': '3.7',\n",
       "  'drv': '4',\n",
       "  'fl': 'r',\n",
       "  'hwy': '18',\n",
       "  'manufacturer': 'dodge',\n",
       "  'model': 'dakota pickup 4wd',\n",
       "  'trans': 'auto(l4)',\n",
       "  'year': '2008'},\n",
       " {'': '51',\n",
       "  'class': 'pickup',\n",
       "  'cty': '13',\n",
       "  'cyl': '6',\n",
       "  'displ': '3.9',\n",
       "  'drv': '4',\n",
       "  'fl': 'r',\n",
       "  'hwy': '17',\n",
       "  'manufacturer': 'dodge',\n",
       "  'model': 'dakota pickup 4wd',\n",
       "  'trans': 'auto(l4)',\n",
       "  'year': '1999'},\n",
       " {'': '52',\n",
       "  'class': 'pickup',\n",
       "  'cty': '14',\n",
       "  'cyl': '6',\n",
       "  'displ': '3.9',\n",
       "  'drv': '4',\n",
       "  'fl': 'r',\n",
       "  'hwy': '17',\n",
       "  'manufacturer': 'dodge',\n",
       "  'model': 'dakota pickup 4wd',\n",
       "  'trans': 'manual(m5)',\n",
       "  'year': '1999'},\n",
       " {'': '53',\n",
       "  'class': 'pickup',\n",
       "  'cty': '14',\n",
       "  'cyl': '8',\n",
       "  'displ': '4.7',\n",
       "  'drv': '4',\n",
       "  'fl': 'r',\n",
       "  'hwy': '19',\n",
       "  'manufacturer': 'dodge',\n",
       "  'model': 'dakota pickup 4wd',\n",
       "  'trans': 'auto(l5)',\n",
       "  'year': '2008'},\n",
       " {'': '54',\n",
       "  'class': 'pickup',\n",
       "  'cty': '14',\n",
       "  'cyl': '8',\n",
       "  'displ': '4.7',\n",
       "  'drv': '4',\n",
       "  'fl': 'r',\n",
       "  'hwy': '19',\n",
       "  'manufacturer': 'dodge',\n",
       "  'model': 'dakota pickup 4wd',\n",
       "  'trans': 'auto(l5)',\n",
       "  'year': '2008'},\n",
       " {'': '55',\n",
       "  'class': 'pickup',\n",
       "  'cty': '9',\n",
       "  'cyl': '8',\n",
       "  'displ': '4.7',\n",
       "  'drv': '4',\n",
       "  'fl': 'e',\n",
       "  'hwy': '12',\n",
       "  'manufacturer': 'dodge',\n",
       "  'model': 'dakota pickup 4wd',\n",
       "  'trans': 'auto(l5)',\n",
       "  'year': '2008'},\n",
       " {'': '56',\n",
       "  'class': 'pickup',\n",
       "  'cty': '11',\n",
       "  'cyl': '8',\n",
       "  'displ': '5.2',\n",
       "  'drv': '4',\n",
       "  'fl': 'r',\n",
       "  'hwy': '17',\n",
       "  'manufacturer': 'dodge',\n",
       "  'model': 'dakota pickup 4wd',\n",
       "  'trans': 'manual(m5)',\n",
       "  'year': '1999'},\n",
       " {'': '57',\n",
       "  'class': 'pickup',\n",
       "  'cty': '11',\n",
       "  'cyl': '8',\n",
       "  'displ': '5.2',\n",
       "  'drv': '4',\n",
       "  'fl': 'r',\n",
       "  'hwy': '15',\n",
       "  'manufacturer': 'dodge',\n",
       "  'model': 'dakota pickup 4wd',\n",
       "  'trans': 'auto(l4)',\n",
       "  'year': '1999'},\n",
       " {'': '58',\n",
       "  'class': 'suv',\n",
       "  'cty': '13',\n",
       "  'cyl': '6',\n",
       "  'displ': '3.9',\n",
       "  'drv': '4',\n",
       "  'fl': 'r',\n",
       "  'hwy': '17',\n",
       "  'manufacturer': 'dodge',\n",
       "  'model': 'durango 4wd',\n",
       "  'trans': 'auto(l4)',\n",
       "  'year': '1999'},\n",
       " {'': '59',\n",
       "  'class': 'suv',\n",
       "  'cty': '13',\n",
       "  'cyl': '8',\n",
       "  'displ': '4.7',\n",
       "  'drv': '4',\n",
       "  'fl': 'r',\n",
       "  'hwy': '17',\n",
       "  'manufacturer': 'dodge',\n",
       "  'model': 'durango 4wd',\n",
       "  'trans': 'auto(l5)',\n",
       "  'year': '2008'},\n",
       " {'': '60',\n",
       "  'class': 'suv',\n",
       "  'cty': '9',\n",
       "  'cyl': '8',\n",
       "  'displ': '4.7',\n",
       "  'drv': '4',\n",
       "  'fl': 'e',\n",
       "  'hwy': '12',\n",
       "  'manufacturer': 'dodge',\n",
       "  'model': 'durango 4wd',\n",
       "  'trans': 'auto(l5)',\n",
       "  'year': '2008'},\n",
       " {'': '61',\n",
       "  'class': 'suv',\n",
       "  'cty': '13',\n",
       "  'cyl': '8',\n",
       "  'displ': '4.7',\n",
       "  'drv': '4',\n",
       "  'fl': 'r',\n",
       "  'hwy': '17',\n",
       "  'manufacturer': 'dodge',\n",
       "  'model': 'durango 4wd',\n",
       "  'trans': 'auto(l5)',\n",
       "  'year': '2008'},\n",
       " {'': '62',\n",
       "  'class': 'suv',\n",
       "  'cty': '11',\n",
       "  'cyl': '8',\n",
       "  'displ': '5.2',\n",
       "  'drv': '4',\n",
       "  'fl': 'r',\n",
       "  'hwy': '16',\n",
       "  'manufacturer': 'dodge',\n",
       "  'model': 'durango 4wd',\n",
       "  'trans': 'auto(l4)',\n",
       "  'year': '1999'},\n",
       " {'': '63',\n",
       "  'class': 'suv',\n",
       "  'cty': '13',\n",
       "  'cyl': '8',\n",
       "  'displ': '5.7',\n",
       "  'drv': '4',\n",
       "  'fl': 'r',\n",
       "  'hwy': '18',\n",
       "  'manufacturer': 'dodge',\n",
       "  'model': 'durango 4wd',\n",
       "  'trans': 'auto(l5)',\n",
       "  'year': '2008'},\n",
       " {'': '64',\n",
       "  'class': 'suv',\n",
       "  'cty': '11',\n",
       "  'cyl': '8',\n",
       "  'displ': '5.9',\n",
       "  'drv': '4',\n",
       "  'fl': 'r',\n",
       "  'hwy': '15',\n",
       "  'manufacturer': 'dodge',\n",
       "  'model': 'durango 4wd',\n",
       "  'trans': 'auto(l4)',\n",
       "  'year': '1999'},\n",
       " {'': '65',\n",
       "  'class': 'pickup',\n",
       "  'cty': '12',\n",
       "  'cyl': '8',\n",
       "  'displ': '4.7',\n",
       "  'drv': '4',\n",
       "  'fl': 'r',\n",
       "  'hwy': '16',\n",
       "  'manufacturer': 'dodge',\n",
       "  'model': 'ram 1500 pickup 4wd',\n",
       "  'trans': 'manual(m6)',\n",
       "  'year': '2008'},\n",
       " {'': '66',\n",
       "  'class': 'pickup',\n",
       "  'cty': '9',\n",
       "  'cyl': '8',\n",
       "  'displ': '4.7',\n",
       "  'drv': '4',\n",
       "  'fl': 'e',\n",
       "  'hwy': '12',\n",
       "  'manufacturer': 'dodge',\n",
       "  'model': 'ram 1500 pickup 4wd',\n",
       "  'trans': 'auto(l5)',\n",
       "  'year': '2008'},\n",
       " {'': '67',\n",
       "  'class': 'pickup',\n",
       "  'cty': '13',\n",
       "  'cyl': '8',\n",
       "  'displ': '4.7',\n",
       "  'drv': '4',\n",
       "  'fl': 'r',\n",
       "  'hwy': '17',\n",
       "  'manufacturer': 'dodge',\n",
       "  'model': 'ram 1500 pickup 4wd',\n",
       "  'trans': 'auto(l5)',\n",
       "  'year': '2008'},\n",
       " {'': '68',\n",
       "  'class': 'pickup',\n",
       "  'cty': '13',\n",
       "  'cyl': '8',\n",
       "  'displ': '4.7',\n",
       "  'drv': '4',\n",
       "  'fl': 'r',\n",
       "  'hwy': '17',\n",
       "  'manufacturer': 'dodge',\n",
       "  'model': 'ram 1500 pickup 4wd',\n",
       "  'trans': 'auto(l5)',\n",
       "  'year': '2008'},\n",
       " {'': '69',\n",
       "  'class': 'pickup',\n",
       "  'cty': '12',\n",
       "  'cyl': '8',\n",
       "  'displ': '4.7',\n",
       "  'drv': '4',\n",
       "  'fl': 'r',\n",
       "  'hwy': '16',\n",
       "  'manufacturer': 'dodge',\n",
       "  'model': 'ram 1500 pickup 4wd',\n",
       "  'trans': 'manual(m6)',\n",
       "  'year': '2008'},\n",
       " {'': '70',\n",
       "  'class': 'pickup',\n",
       "  'cty': '9',\n",
       "  'cyl': '8',\n",
       "  'displ': '4.7',\n",
       "  'drv': '4',\n",
       "  'fl': 'e',\n",
       "  'hwy': '12',\n",
       "  'manufacturer': 'dodge',\n",
       "  'model': 'ram 1500 pickup 4wd',\n",
       "  'trans': 'manual(m6)',\n",
       "  'year': '2008'},\n",
       " {'': '71',\n",
       "  'class': 'pickup',\n",
       "  'cty': '11',\n",
       "  'cyl': '8',\n",
       "  'displ': '5.2',\n",
       "  'drv': '4',\n",
       "  'fl': 'r',\n",
       "  'hwy': '15',\n",
       "  'manufacturer': 'dodge',\n",
       "  'model': 'ram 1500 pickup 4wd',\n",
       "  'trans': 'auto(l4)',\n",
       "  'year': '1999'},\n",
       " {'': '72',\n",
       "  'class': 'pickup',\n",
       "  'cty': '11',\n",
       "  'cyl': '8',\n",
       "  'displ': '5.2',\n",
       "  'drv': '4',\n",
       "  'fl': 'r',\n",
       "  'hwy': '16',\n",
       "  'manufacturer': 'dodge',\n",
       "  'model': 'ram 1500 pickup 4wd',\n",
       "  'trans': 'manual(m5)',\n",
       "  'year': '1999'},\n",
       " {'': '73',\n",
       "  'class': 'pickup',\n",
       "  'cty': '13',\n",
       "  'cyl': '8',\n",
       "  'displ': '5.7',\n",
       "  'drv': '4',\n",
       "  'fl': 'r',\n",
       "  'hwy': '17',\n",
       "  'manufacturer': 'dodge',\n",
       "  'model': 'ram 1500 pickup 4wd',\n",
       "  'trans': 'auto(l5)',\n",
       "  'year': '2008'},\n",
       " {'': '74',\n",
       "  'class': 'pickup',\n",
       "  'cty': '11',\n",
       "  'cyl': '8',\n",
       "  'displ': '5.9',\n",
       "  'drv': '4',\n",
       "  'fl': 'r',\n",
       "  'hwy': '15',\n",
       "  'manufacturer': 'dodge',\n",
       "  'model': 'ram 1500 pickup 4wd',\n",
       "  'trans': 'auto(l4)',\n",
       "  'year': '1999'},\n",
       " {'': '75',\n",
       "  'class': 'suv',\n",
       "  'cty': '11',\n",
       "  'cyl': '8',\n",
       "  'displ': '4.6',\n",
       "  'drv': 'r',\n",
       "  'fl': 'r',\n",
       "  'hwy': '17',\n",
       "  'manufacturer': 'ford',\n",
       "  'model': 'expedition 2wd',\n",
       "  'trans': 'auto(l4)',\n",
       "  'year': '1999'},\n",
       " {'': '76',\n",
       "  'class': 'suv',\n",
       "  'cty': '11',\n",
       "  'cyl': '8',\n",
       "  'displ': '5.4',\n",
       "  'drv': 'r',\n",
       "  'fl': 'r',\n",
       "  'hwy': '17',\n",
       "  'manufacturer': 'ford',\n",
       "  'model': 'expedition 2wd',\n",
       "  'trans': 'auto(l4)',\n",
       "  'year': '1999'},\n",
       " {'': '77',\n",
       "  'class': 'suv',\n",
       "  'cty': '12',\n",
       "  'cyl': '8',\n",
       "  'displ': '5.4',\n",
       "  'drv': 'r',\n",
       "  'fl': 'r',\n",
       "  'hwy': '18',\n",
       "  'manufacturer': 'ford',\n",
       "  'model': 'expedition 2wd',\n",
       "  'trans': 'auto(l6)',\n",
       "  'year': '2008'},\n",
       " {'': '78',\n",
       "  'class': 'suv',\n",
       "  'cty': '14',\n",
       "  'cyl': '6',\n",
       "  'displ': '4',\n",
       "  'drv': '4',\n",
       "  'fl': 'r',\n",
       "  'hwy': '17',\n",
       "  'manufacturer': 'ford',\n",
       "  'model': 'explorer 4wd',\n",
       "  'trans': 'auto(l5)',\n",
       "  'year': '1999'},\n",
       " {'': '79',\n",
       "  'class': 'suv',\n",
       "  'cty': '15',\n",
       "  'cyl': '6',\n",
       "  'displ': '4',\n",
       "  'drv': '4',\n",
       "  'fl': 'r',\n",
       "  'hwy': '19',\n",
       "  'manufacturer': 'ford',\n",
       "  'model': 'explorer 4wd',\n",
       "  'trans': 'manual(m5)',\n",
       "  'year': '1999'},\n",
       " {'': '80',\n",
       "  'class': 'suv',\n",
       "  'cty': '14',\n",
       "  'cyl': '6',\n",
       "  'displ': '4',\n",
       "  'drv': '4',\n",
       "  'fl': 'r',\n",
       "  'hwy': '17',\n",
       "  'manufacturer': 'ford',\n",
       "  'model': 'explorer 4wd',\n",
       "  'trans': 'auto(l5)',\n",
       "  'year': '1999'},\n",
       " {'': '81',\n",
       "  'class': 'suv',\n",
       "  'cty': '13',\n",
       "  'cyl': '6',\n",
       "  'displ': '4',\n",
       "  'drv': '4',\n",
       "  'fl': 'r',\n",
       "  'hwy': '19',\n",
       "  'manufacturer': 'ford',\n",
       "  'model': 'explorer 4wd',\n",
       "  'trans': 'auto(l5)',\n",
       "  'year': '2008'},\n",
       " {'': '82',\n",
       "  'class': 'suv',\n",
       "  'cty': '13',\n",
       "  'cyl': '8',\n",
       "  'displ': '4.6',\n",
       "  'drv': '4',\n",
       "  'fl': 'r',\n",
       "  'hwy': '19',\n",
       "  'manufacturer': 'ford',\n",
       "  'model': 'explorer 4wd',\n",
       "  'trans': 'auto(l6)',\n",
       "  'year': '2008'},\n",
       " {'': '83',\n",
       "  'class': 'suv',\n",
       "  'cty': '13',\n",
       "  'cyl': '8',\n",
       "  'displ': '5',\n",
       "  'drv': '4',\n",
       "  'fl': 'r',\n",
       "  'hwy': '17',\n",
       "  'manufacturer': 'ford',\n",
       "  'model': 'explorer 4wd',\n",
       "  'trans': 'auto(l4)',\n",
       "  'year': '1999'},\n",
       " {'': '84',\n",
       "  'class': 'pickup',\n",
       "  'cty': '14',\n",
       "  'cyl': '6',\n",
       "  'displ': '4.2',\n",
       "  'drv': '4',\n",
       "  'fl': 'r',\n",
       "  'hwy': '17',\n",
       "  'manufacturer': 'ford',\n",
       "  'model': 'f150 pickup 4wd',\n",
       "  'trans': 'auto(l4)',\n",
       "  'year': '1999'},\n",
       " {'': '85',\n",
       "  'class': 'pickup',\n",
       "  'cty': '14',\n",
       "  'cyl': '6',\n",
       "  'displ': '4.2',\n",
       "  'drv': '4',\n",
       "  'fl': 'r',\n",
       "  'hwy': '17',\n",
       "  'manufacturer': 'ford',\n",
       "  'model': 'f150 pickup 4wd',\n",
       "  'trans': 'manual(m5)',\n",
       "  'year': '1999'},\n",
       " {'': '86',\n",
       "  'class': 'pickup',\n",
       "  'cty': '13',\n",
       "  'cyl': '8',\n",
       "  'displ': '4.6',\n",
       "  'drv': '4',\n",
       "  'fl': 'r',\n",
       "  'hwy': '16',\n",
       "  'manufacturer': 'ford',\n",
       "  'model': 'f150 pickup 4wd',\n",
       "  'trans': 'manual(m5)',\n",
       "  'year': '1999'},\n",
       " {'': '87',\n",
       "  'class': 'pickup',\n",
       "  'cty': '13',\n",
       "  'cyl': '8',\n",
       "  'displ': '4.6',\n",
       "  'drv': '4',\n",
       "  'fl': 'r',\n",
       "  'hwy': '16',\n",
       "  'manufacturer': 'ford',\n",
       "  'model': 'f150 pickup 4wd',\n",
       "  'trans': 'auto(l4)',\n",
       "  'year': '1999'},\n",
       " {'': '88',\n",
       "  'class': 'pickup',\n",
       "  'cty': '13',\n",
       "  'cyl': '8',\n",
       "  'displ': '4.6',\n",
       "  'drv': '4',\n",
       "  'fl': 'r',\n",
       "  'hwy': '17',\n",
       "  'manufacturer': 'ford',\n",
       "  'model': 'f150 pickup 4wd',\n",
       "  'trans': 'auto(l4)',\n",
       "  'year': '2008'},\n",
       " {'': '89',\n",
       "  'class': 'pickup',\n",
       "  'cty': '11',\n",
       "  'cyl': '8',\n",
       "  'displ': '5.4',\n",
       "  'drv': '4',\n",
       "  'fl': 'r',\n",
       "  'hwy': '15',\n",
       "  'manufacturer': 'ford',\n",
       "  'model': 'f150 pickup 4wd',\n",
       "  'trans': 'auto(l4)',\n",
       "  'year': '1999'},\n",
       " {'': '90',\n",
       "  'class': 'pickup',\n",
       "  'cty': '13',\n",
       "  'cyl': '8',\n",
       "  'displ': '5.4',\n",
       "  'drv': '4',\n",
       "  'fl': 'r',\n",
       "  'hwy': '17',\n",
       "  'manufacturer': 'ford',\n",
       "  'model': 'f150 pickup 4wd',\n",
       "  'trans': 'auto(l4)',\n",
       "  'year': '2008'},\n",
       " {'': '91',\n",
       "  'class': 'subcompact',\n",
       "  'cty': '18',\n",
       "  'cyl': '6',\n",
       "  'displ': '3.8',\n",
       "  'drv': 'r',\n",
       "  'fl': 'r',\n",
       "  'hwy': '26',\n",
       "  'manufacturer': 'ford',\n",
       "  'model': 'mustang',\n",
       "  'trans': 'manual(m5)',\n",
       "  'year': '1999'},\n",
       " {'': '92',\n",
       "  'class': 'subcompact',\n",
       "  'cty': '18',\n",
       "  'cyl': '6',\n",
       "  'displ': '3.8',\n",
       "  'drv': 'r',\n",
       "  'fl': 'r',\n",
       "  'hwy': '25',\n",
       "  'manufacturer': 'ford',\n",
       "  'model': 'mustang',\n",
       "  'trans': 'auto(l4)',\n",
       "  'year': '1999'},\n",
       " {'': '93',\n",
       "  'class': 'subcompact',\n",
       "  'cty': '17',\n",
       "  'cyl': '6',\n",
       "  'displ': '4',\n",
       "  'drv': 'r',\n",
       "  'fl': 'r',\n",
       "  'hwy': '26',\n",
       "  'manufacturer': 'ford',\n",
       "  'model': 'mustang',\n",
       "  'trans': 'manual(m5)',\n",
       "  'year': '2008'},\n",
       " {'': '94',\n",
       "  'class': 'subcompact',\n",
       "  'cty': '16',\n",
       "  'cyl': '6',\n",
       "  'displ': '4',\n",
       "  'drv': 'r',\n",
       "  'fl': 'r',\n",
       "  'hwy': '24',\n",
       "  'manufacturer': 'ford',\n",
       "  'model': 'mustang',\n",
       "  'trans': 'auto(l5)',\n",
       "  'year': '2008'},\n",
       " {'': '95',\n",
       "  'class': 'subcompact',\n",
       "  'cty': '15',\n",
       "  'cyl': '8',\n",
       "  'displ': '4.6',\n",
       "  'drv': 'r',\n",
       "  'fl': 'r',\n",
       "  'hwy': '21',\n",
       "  'manufacturer': 'ford',\n",
       "  'model': 'mustang',\n",
       "  'trans': 'auto(l4)',\n",
       "  'year': '1999'},\n",
       " {'': '96',\n",
       "  'class': 'subcompact',\n",
       "  'cty': '15',\n",
       "  'cyl': '8',\n",
       "  'displ': '4.6',\n",
       "  'drv': 'r',\n",
       "  'fl': 'r',\n",
       "  'hwy': '22',\n",
       "  'manufacturer': 'ford',\n",
       "  'model': 'mustang',\n",
       "  'trans': 'manual(m5)',\n",
       "  'year': '1999'},\n",
       " {'': '97',\n",
       "  'class': 'subcompact',\n",
       "  'cty': '15',\n",
       "  'cyl': '8',\n",
       "  'displ': '4.6',\n",
       "  'drv': 'r',\n",
       "  'fl': 'r',\n",
       "  'hwy': '23',\n",
       "  'manufacturer': 'ford',\n",
       "  'model': 'mustang',\n",
       "  'trans': 'manual(m5)',\n",
       "  'year': '2008'},\n",
       " {'': '98',\n",
       "  'class': 'subcompact',\n",
       "  'cty': '15',\n",
       "  'cyl': '8',\n",
       "  'displ': '4.6',\n",
       "  'drv': 'r',\n",
       "  'fl': 'r',\n",
       "  'hwy': '22',\n",
       "  'manufacturer': 'ford',\n",
       "  'model': 'mustang',\n",
       "  'trans': 'auto(l5)',\n",
       "  'year': '2008'},\n",
       " {'': '99',\n",
       "  'class': 'subcompact',\n",
       "  'cty': '14',\n",
       "  'cyl': '8',\n",
       "  'displ': '5.4',\n",
       "  'drv': 'r',\n",
       "  'fl': 'p',\n",
       "  'hwy': '20',\n",
       "  'manufacturer': 'ford',\n",
       "  'model': 'mustang',\n",
       "  'trans': 'manual(m6)',\n",
       "  'year': '2008'},\n",
       " {'': '100',\n",
       "  'class': 'subcompact',\n",
       "  'cty': '28',\n",
       "  'cyl': '4',\n",
       "  'displ': '1.6',\n",
       "  'drv': 'f',\n",
       "  'fl': 'r',\n",
       "  'hwy': '33',\n",
       "  'manufacturer': 'honda',\n",
       "  'model': 'civic',\n",
       "  'trans': 'manual(m5)',\n",
       "  'year': '1999'},\n",
       " {'': '101',\n",
       "  'class': 'subcompact',\n",
       "  'cty': '24',\n",
       "  'cyl': '4',\n",
       "  'displ': '1.6',\n",
       "  'drv': 'f',\n",
       "  'fl': 'r',\n",
       "  'hwy': '32',\n",
       "  'manufacturer': 'honda',\n",
       "  'model': 'civic',\n",
       "  'trans': 'auto(l4)',\n",
       "  'year': '1999'},\n",
       " {'': '102',\n",
       "  'class': 'subcompact',\n",
       "  'cty': '25',\n",
       "  'cyl': '4',\n",
       "  'displ': '1.6',\n",
       "  'drv': 'f',\n",
       "  'fl': 'r',\n",
       "  'hwy': '32',\n",
       "  'manufacturer': 'honda',\n",
       "  'model': 'civic',\n",
       "  'trans': 'manual(m5)',\n",
       "  'year': '1999'},\n",
       " {'': '103',\n",
       "  'class': 'subcompact',\n",
       "  'cty': '23',\n",
       "  'cyl': '4',\n",
       "  'displ': '1.6',\n",
       "  'drv': 'f',\n",
       "  'fl': 'p',\n",
       "  'hwy': '29',\n",
       "  'manufacturer': 'honda',\n",
       "  'model': 'civic',\n",
       "  'trans': 'manual(m5)',\n",
       "  'year': '1999'},\n",
       " {'': '104',\n",
       "  'class': 'subcompact',\n",
       "  'cty': '24',\n",
       "  'cyl': '4',\n",
       "  'displ': '1.6',\n",
       "  'drv': 'f',\n",
       "  'fl': 'r',\n",
       "  'hwy': '32',\n",
       "  'manufacturer': 'honda',\n",
       "  'model': 'civic',\n",
       "  'trans': 'auto(l4)',\n",
       "  'year': '1999'},\n",
       " {'': '105',\n",
       "  'class': 'subcompact',\n",
       "  'cty': '26',\n",
       "  'cyl': '4',\n",
       "  'displ': '1.8',\n",
       "  'drv': 'f',\n",
       "  'fl': 'r',\n",
       "  'hwy': '34',\n",
       "  'manufacturer': 'honda',\n",
       "  'model': 'civic',\n",
       "  'trans': 'manual(m5)',\n",
       "  'year': '2008'},\n",
       " {'': '106',\n",
       "  'class': 'subcompact',\n",
       "  'cty': '25',\n",
       "  'cyl': '4',\n",
       "  'displ': '1.8',\n",
       "  'drv': 'f',\n",
       "  'fl': 'r',\n",
       "  'hwy': '36',\n",
       "  'manufacturer': 'honda',\n",
       "  'model': 'civic',\n",
       "  'trans': 'auto(l5)',\n",
       "  'year': '2008'},\n",
       " {'': '107',\n",
       "  'class': 'subcompact',\n",
       "  'cty': '24',\n",
       "  'cyl': '4',\n",
       "  'displ': '1.8',\n",
       "  'drv': 'f',\n",
       "  'fl': 'c',\n",
       "  'hwy': '36',\n",
       "  'manufacturer': 'honda',\n",
       "  'model': 'civic',\n",
       "  'trans': 'auto(l5)',\n",
       "  'year': '2008'},\n",
       " {'': '108',\n",
       "  'class': 'subcompact',\n",
       "  'cty': '21',\n",
       "  'cyl': '4',\n",
       "  'displ': '2',\n",
       "  'drv': 'f',\n",
       "  'fl': 'p',\n",
       "  'hwy': '29',\n",
       "  'manufacturer': 'honda',\n",
       "  'model': 'civic',\n",
       "  'trans': 'manual(m6)',\n",
       "  'year': '2008'},\n",
       " {'': '109',\n",
       "  'class': 'midsize',\n",
       "  'cty': '18',\n",
       "  'cyl': '4',\n",
       "  'displ': '2.4',\n",
       "  'drv': 'f',\n",
       "  'fl': 'r',\n",
       "  'hwy': '26',\n",
       "  'manufacturer': 'hyundai',\n",
       "  'model': 'sonata',\n",
       "  'trans': 'auto(l4)',\n",
       "  'year': '1999'},\n",
       " {'': '110',\n",
       "  'class': 'midsize',\n",
       "  'cty': '18',\n",
       "  'cyl': '4',\n",
       "  'displ': '2.4',\n",
       "  'drv': 'f',\n",
       "  'fl': 'r',\n",
       "  'hwy': '27',\n",
       "  'manufacturer': 'hyundai',\n",
       "  'model': 'sonata',\n",
       "  'trans': 'manual(m5)',\n",
       "  'year': '1999'},\n",
       " {'': '111',\n",
       "  'class': 'midsize',\n",
       "  'cty': '21',\n",
       "  'cyl': '4',\n",
       "  'displ': '2.4',\n",
       "  'drv': 'f',\n",
       "  'fl': 'r',\n",
       "  'hwy': '30',\n",
       "  'manufacturer': 'hyundai',\n",
       "  'model': 'sonata',\n",
       "  'trans': 'auto(l4)',\n",
       "  'year': '2008'},\n",
       " {'': '112',\n",
       "  'class': 'midsize',\n",
       "  'cty': '21',\n",
       "  'cyl': '4',\n",
       "  'displ': '2.4',\n",
       "  'drv': 'f',\n",
       "  'fl': 'r',\n",
       "  'hwy': '31',\n",
       "  'manufacturer': 'hyundai',\n",
       "  'model': 'sonata',\n",
       "  'trans': 'manual(m5)',\n",
       "  'year': '2008'},\n",
       " {'': '113',\n",
       "  'class': 'midsize',\n",
       "  'cty': '18',\n",
       "  'cyl': '6',\n",
       "  'displ': '2.5',\n",
       "  'drv': 'f',\n",
       "  'fl': 'r',\n",
       "  'hwy': '26',\n",
       "  'manufacturer': 'hyundai',\n",
       "  'model': 'sonata',\n",
       "  'trans': 'auto(l4)',\n",
       "  'year': '1999'},\n",
       " {'': '114',\n",
       "  'class': 'midsize',\n",
       "  'cty': '18',\n",
       "  'cyl': '6',\n",
       "  'displ': '2.5',\n",
       "  'drv': 'f',\n",
       "  'fl': 'r',\n",
       "  'hwy': '26',\n",
       "  'manufacturer': 'hyundai',\n",
       "  'model': 'sonata',\n",
       "  'trans': 'manual(m5)',\n",
       "  'year': '1999'},\n",
       " {'': '115',\n",
       "  'class': 'midsize',\n",
       "  'cty': '19',\n",
       "  'cyl': '6',\n",
       "  'displ': '3.3',\n",
       "  'drv': 'f',\n",
       "  'fl': 'r',\n",
       "  'hwy': '28',\n",
       "  'manufacturer': 'hyundai',\n",
       "  'model': 'sonata',\n",
       "  'trans': 'auto(l5)',\n",
       "  'year': '2008'},\n",
       " {'': '116',\n",
       "  'class': 'subcompact',\n",
       "  'cty': '19',\n",
       "  'cyl': '4',\n",
       "  'displ': '2',\n",
       "  'drv': 'f',\n",
       "  'fl': 'r',\n",
       "  'hwy': '26',\n",
       "  'manufacturer': 'hyundai',\n",
       "  'model': 'tiburon',\n",
       "  'trans': 'auto(l4)',\n",
       "  'year': '1999'},\n",
       " {'': '117',\n",
       "  'class': 'subcompact',\n",
       "  'cty': '19',\n",
       "  'cyl': '4',\n",
       "  'displ': '2',\n",
       "  'drv': 'f',\n",
       "  'fl': 'r',\n",
       "  'hwy': '29',\n",
       "  'manufacturer': 'hyundai',\n",
       "  'model': 'tiburon',\n",
       "  'trans': 'manual(m5)',\n",
       "  'year': '1999'},\n",
       " {'': '118',\n",
       "  'class': 'subcompact',\n",
       "  'cty': '20',\n",
       "  'cyl': '4',\n",
       "  'displ': '2',\n",
       "  'drv': 'f',\n",
       "  'fl': 'r',\n",
       "  'hwy': '28',\n",
       "  'manufacturer': 'hyundai',\n",
       "  'model': 'tiburon',\n",
       "  'trans': 'manual(m5)',\n",
       "  'year': '2008'},\n",
       " {'': '119',\n",
       "  'class': 'subcompact',\n",
       "  'cty': '20',\n",
       "  'cyl': '4',\n",
       "  'displ': '2',\n",
       "  'drv': 'f',\n",
       "  'fl': 'r',\n",
       "  'hwy': '27',\n",
       "  'manufacturer': 'hyundai',\n",
       "  'model': 'tiburon',\n",
       "  'trans': 'auto(l4)',\n",
       "  'year': '2008'},\n",
       " {'': '120',\n",
       "  'class': 'subcompact',\n",
       "  'cty': '17',\n",
       "  'cyl': '6',\n",
       "  'displ': '2.7',\n",
       "  'drv': 'f',\n",
       "  'fl': 'r',\n",
       "  'hwy': '24',\n",
       "  'manufacturer': 'hyundai',\n",
       "  'model': 'tiburon',\n",
       "  'trans': 'auto(l4)',\n",
       "  'year': '2008'},\n",
       " {'': '121',\n",
       "  'class': 'subcompact',\n",
       "  'cty': '16',\n",
       "  'cyl': '6',\n",
       "  'displ': '2.7',\n",
       "  'drv': 'f',\n",
       "  'fl': 'r',\n",
       "  'hwy': '24',\n",
       "  'manufacturer': 'hyundai',\n",
       "  'model': 'tiburon',\n",
       "  'trans': 'manual(m6)',\n",
       "  'year': '2008'},\n",
       " {'': '122',\n",
       "  'class': 'subcompact',\n",
       "  'cty': '17',\n",
       "  'cyl': '6',\n",
       "  'displ': '2.7',\n",
       "  'drv': 'f',\n",
       "  'fl': 'r',\n",
       "  'hwy': '24',\n",
       "  'manufacturer': 'hyundai',\n",
       "  'model': 'tiburon',\n",
       "  'trans': 'manual(m5)',\n",
       "  'year': '2008'},\n",
       " {'': '123',\n",
       "  'class': 'suv',\n",
       "  'cty': '17',\n",
       "  'cyl': '6',\n",
       "  'displ': '3',\n",
       "  'drv': '4',\n",
       "  'fl': 'd',\n",
       "  'hwy': '22',\n",
       "  'manufacturer': 'jeep',\n",
       "  'model': 'grand cherokee 4wd',\n",
       "  'trans': 'auto(l5)',\n",
       "  'year': '2008'},\n",
       " {'': '124',\n",
       "  'class': 'suv',\n",
       "  'cty': '15',\n",
       "  'cyl': '6',\n",
       "  'displ': '3.7',\n",
       "  'drv': '4',\n",
       "  'fl': 'r',\n",
       "  'hwy': '19',\n",
       "  'manufacturer': 'jeep',\n",
       "  'model': 'grand cherokee 4wd',\n",
       "  'trans': 'auto(l5)',\n",
       "  'year': '2008'},\n",
       " {'': '125',\n",
       "  'class': 'suv',\n",
       "  'cty': '15',\n",
       "  'cyl': '6',\n",
       "  'displ': '4',\n",
       "  'drv': '4',\n",
       "  'fl': 'r',\n",
       "  'hwy': '20',\n",
       "  'manufacturer': 'jeep',\n",
       "  'model': 'grand cherokee 4wd',\n",
       "  'trans': 'auto(l4)',\n",
       "  'year': '1999'},\n",
       " {'': '126',\n",
       "  'class': 'suv',\n",
       "  'cty': '14',\n",
       "  'cyl': '8',\n",
       "  'displ': '4.7',\n",
       "  'drv': '4',\n",
       "  'fl': 'r',\n",
       "  'hwy': '17',\n",
       "  'manufacturer': 'jeep',\n",
       "  'model': 'grand cherokee 4wd',\n",
       "  'trans': 'auto(l4)',\n",
       "  'year': '1999'},\n",
       " {'': '127',\n",
       "  'class': 'suv',\n",
       "  'cty': '9',\n",
       "  'cyl': '8',\n",
       "  'displ': '4.7',\n",
       "  'drv': '4',\n",
       "  'fl': 'e',\n",
       "  'hwy': '12',\n",
       "  'manufacturer': 'jeep',\n",
       "  'model': 'grand cherokee 4wd',\n",
       "  'trans': 'auto(l5)',\n",
       "  'year': '2008'},\n",
       " {'': '128',\n",
       "  'class': 'suv',\n",
       "  'cty': '14',\n",
       "  'cyl': '8',\n",
       "  'displ': '4.7',\n",
       "  'drv': '4',\n",
       "  'fl': 'r',\n",
       "  'hwy': '19',\n",
       "  'manufacturer': 'jeep',\n",
       "  'model': 'grand cherokee 4wd',\n",
       "  'trans': 'auto(l5)',\n",
       "  'year': '2008'},\n",
       " {'': '129',\n",
       "  'class': 'suv',\n",
       "  'cty': '13',\n",
       "  'cyl': '8',\n",
       "  'displ': '5.7',\n",
       "  'drv': '4',\n",
       "  'fl': 'r',\n",
       "  'hwy': '18',\n",
       "  'manufacturer': 'jeep',\n",
       "  'model': 'grand cherokee 4wd',\n",
       "  'trans': 'auto(l5)',\n",
       "  'year': '2008'},\n",
       " {'': '130',\n",
       "  'class': 'suv',\n",
       "  'cty': '11',\n",
       "  'cyl': '8',\n",
       "  'displ': '6.1',\n",
       "  'drv': '4',\n",
       "  'fl': 'p',\n",
       "  'hwy': '14',\n",
       "  'manufacturer': 'jeep',\n",
       "  'model': 'grand cherokee 4wd',\n",
       "  'trans': 'auto(l5)',\n",
       "  'year': '2008'},\n",
       " {'': '131',\n",
       "  'class': 'suv',\n",
       "  'cty': '11',\n",
       "  'cyl': '8',\n",
       "  'displ': '4',\n",
       "  'drv': '4',\n",
       "  'fl': 'p',\n",
       "  'hwy': '15',\n",
       "  'manufacturer': 'land rover',\n",
       "  'model': 'range rover',\n",
       "  'trans': 'auto(l4)',\n",
       "  'year': '1999'},\n",
       " {'': '132',\n",
       "  'class': 'suv',\n",
       "  'cty': '12',\n",
       "  'cyl': '8',\n",
       "  'displ': '4.2',\n",
       "  'drv': '4',\n",
       "  'fl': 'r',\n",
       "  'hwy': '18',\n",
       "  'manufacturer': 'land rover',\n",
       "  'model': 'range rover',\n",
       "  'trans': 'auto(s6)',\n",
       "  'year': '2008'},\n",
       " {'': '133',\n",
       "  'class': 'suv',\n",
       "  'cty': '12',\n",
       "  'cyl': '8',\n",
       "  'displ': '4.4',\n",
       "  'drv': '4',\n",
       "  'fl': 'r',\n",
       "  'hwy': '18',\n",
       "  'manufacturer': 'land rover',\n",
       "  'model': 'range rover',\n",
       "  'trans': 'auto(s6)',\n",
       "  'year': '2008'},\n",
       " {'': '134',\n",
       "  'class': 'suv',\n",
       "  'cty': '11',\n",
       "  'cyl': '8',\n",
       "  'displ': '4.6',\n",
       "  'drv': '4',\n",
       "  'fl': 'p',\n",
       "  'hwy': '15',\n",
       "  'manufacturer': 'land rover',\n",
       "  'model': 'range rover',\n",
       "  'trans': 'auto(l4)',\n",
       "  'year': '1999'},\n",
       " {'': '135',\n",
       "  'class': 'suv',\n",
       "  'cty': '11',\n",
       "  'cyl': '8',\n",
       "  'displ': '5.4',\n",
       "  'drv': 'r',\n",
       "  'fl': 'r',\n",
       "  'hwy': '17',\n",
       "  'manufacturer': 'lincoln',\n",
       "  'model': 'navigator 2wd',\n",
       "  'trans': 'auto(l4)',\n",
       "  'year': '1999'},\n",
       " {'': '136',\n",
       "  'class': 'suv',\n",
       "  'cty': '11',\n",
       "  'cyl': '8',\n",
       "  'displ': '5.4',\n",
       "  'drv': 'r',\n",
       "  'fl': 'p',\n",
       "  'hwy': '16',\n",
       "  'manufacturer': 'lincoln',\n",
       "  'model': 'navigator 2wd',\n",
       "  'trans': 'auto(l4)',\n",
       "  'year': '1999'},\n",
       " {'': '137',\n",
       "  'class': 'suv',\n",
       "  'cty': '12',\n",
       "  'cyl': '8',\n",
       "  'displ': '5.4',\n",
       "  'drv': 'r',\n",
       "  'fl': 'r',\n",
       "  'hwy': '18',\n",
       "  'manufacturer': 'lincoln',\n",
       "  'model': 'navigator 2wd',\n",
       "  'trans': 'auto(l6)',\n",
       "  'year': '2008'},\n",
       " {'': '138',\n",
       "  'class': 'suv',\n",
       "  'cty': '14',\n",
       "  'cyl': '6',\n",
       "  'displ': '4',\n",
       "  'drv': '4',\n",
       "  'fl': 'r',\n",
       "  'hwy': '17',\n",
       "  'manufacturer': 'mercury',\n",
       "  'model': 'mountaineer 4wd',\n",
       "  'trans': 'auto(l5)',\n",
       "  'year': '1999'},\n",
       " {'': '139',\n",
       "  'class': 'suv',\n",
       "  'cty': '13',\n",
       "  'cyl': '6',\n",
       "  'displ': '4',\n",
       "  'drv': '4',\n",
       "  'fl': 'r',\n",
       "  'hwy': '19',\n",
       "  'manufacturer': 'mercury',\n",
       "  'model': 'mountaineer 4wd',\n",
       "  'trans': 'auto(l5)',\n",
       "  'year': '2008'},\n",
       " {'': '140',\n",
       "  'class': 'suv',\n",
       "  'cty': '13',\n",
       "  'cyl': '8',\n",
       "  'displ': '4.6',\n",
       "  'drv': '4',\n",
       "  'fl': 'r',\n",
       "  'hwy': '19',\n",
       "  'manufacturer': 'mercury',\n",
       "  'model': 'mountaineer 4wd',\n",
       "  'trans': 'auto(l6)',\n",
       "  'year': '2008'},\n",
       " {'': '141',\n",
       "  'class': 'suv',\n",
       "  'cty': '13',\n",
       "  'cyl': '8',\n",
       "  'displ': '5',\n",
       "  'drv': '4',\n",
       "  'fl': 'r',\n",
       "  'hwy': '17',\n",
       "  'manufacturer': 'mercury',\n",
       "  'model': 'mountaineer 4wd',\n",
       "  'trans': 'auto(l4)',\n",
       "  'year': '1999'},\n",
       " {'': '142',\n",
       "  'class': 'compact',\n",
       "  'cty': '21',\n",
       "  'cyl': '4',\n",
       "  'displ': '2.4',\n",
       "  'drv': 'f',\n",
       "  'fl': 'r',\n",
       "  'hwy': '29',\n",
       "  'manufacturer': 'nissan',\n",
       "  'model': 'altima',\n",
       "  'trans': 'manual(m5)',\n",
       "  'year': '1999'},\n",
       " {'': '143',\n",
       "  'class': 'compact',\n",
       "  'cty': '19',\n",
       "  'cyl': '4',\n",
       "  'displ': '2.4',\n",
       "  'drv': 'f',\n",
       "  'fl': 'r',\n",
       "  'hwy': '27',\n",
       "  'manufacturer': 'nissan',\n",
       "  'model': 'altima',\n",
       "  'trans': 'auto(l4)',\n",
       "  'year': '1999'},\n",
       " {'': '144',\n",
       "  'class': 'midsize',\n",
       "  'cty': '23',\n",
       "  'cyl': '4',\n",
       "  'displ': '2.5',\n",
       "  'drv': 'f',\n",
       "  'fl': 'r',\n",
       "  'hwy': '31',\n",
       "  'manufacturer': 'nissan',\n",
       "  'model': 'altima',\n",
       "  'trans': 'auto(av)',\n",
       "  'year': '2008'},\n",
       " {'': '145',\n",
       "  'class': 'midsize',\n",
       "  'cty': '23',\n",
       "  'cyl': '4',\n",
       "  'displ': '2.5',\n",
       "  'drv': 'f',\n",
       "  'fl': 'r',\n",
       "  'hwy': '32',\n",
       "  'manufacturer': 'nissan',\n",
       "  'model': 'altima',\n",
       "  'trans': 'manual(m6)',\n",
       "  'year': '2008'},\n",
       " {'': '146',\n",
       "  'class': 'midsize',\n",
       "  'cty': '19',\n",
       "  'cyl': '6',\n",
       "  'displ': '3.5',\n",
       "  'drv': 'f',\n",
       "  'fl': 'p',\n",
       "  'hwy': '27',\n",
       "  'manufacturer': 'nissan',\n",
       "  'model': 'altima',\n",
       "  'trans': 'manual(m6)',\n",
       "  'year': '2008'},\n",
       " {'': '147',\n",
       "  'class': 'midsize',\n",
       "  'cty': '19',\n",
       "  'cyl': '6',\n",
       "  'displ': '3.5',\n",
       "  'drv': 'f',\n",
       "  'fl': 'p',\n",
       "  'hwy': '26',\n",
       "  'manufacturer': 'nissan',\n",
       "  'model': 'altima',\n",
       "  'trans': 'auto(av)',\n",
       "  'year': '2008'},\n",
       " {'': '148',\n",
       "  'class': 'midsize',\n",
       "  'cty': '18',\n",
       "  'cyl': '6',\n",
       "  'displ': '3',\n",
       "  'drv': 'f',\n",
       "  'fl': 'r',\n",
       "  'hwy': '26',\n",
       "  'manufacturer': 'nissan',\n",
       "  'model': 'maxima',\n",
       "  'trans': 'auto(l4)',\n",
       "  'year': '1999'},\n",
       " {'': '149',\n",
       "  'class': 'midsize',\n",
       "  'cty': '19',\n",
       "  'cyl': '6',\n",
       "  'displ': '3',\n",
       "  'drv': 'f',\n",
       "  'fl': 'r',\n",
       "  'hwy': '25',\n",
       "  'manufacturer': 'nissan',\n",
       "  'model': 'maxima',\n",
       "  'trans': 'manual(m5)',\n",
       "  'year': '1999'},\n",
       " {'': '150',\n",
       "  'class': 'midsize',\n",
       "  'cty': '19',\n",
       "  'cyl': '6',\n",
       "  'displ': '3.5',\n",
       "  'drv': 'f',\n",
       "  'fl': 'p',\n",
       "  'hwy': '25',\n",
       "  'manufacturer': 'nissan',\n",
       "  'model': 'maxima',\n",
       "  'trans': 'auto(av)',\n",
       "  'year': '2008'},\n",
       " {'': '151',\n",
       "  'class': 'suv',\n",
       "  'cty': '14',\n",
       "  'cyl': '6',\n",
       "  'displ': '3.3',\n",
       "  'drv': '4',\n",
       "  'fl': 'r',\n",
       "  'hwy': '17',\n",
       "  'manufacturer': 'nissan',\n",
       "  'model': 'pathfinder 4wd',\n",
       "  'trans': 'auto(l4)',\n",
       "  'year': '1999'},\n",
       " {'': '152',\n",
       "  'class': 'suv',\n",
       "  'cty': '15',\n",
       "  'cyl': '6',\n",
       "  'displ': '3.3',\n",
       "  'drv': '4',\n",
       "  'fl': 'r',\n",
       "  'hwy': '17',\n",
       "  'manufacturer': 'nissan',\n",
       "  'model': 'pathfinder 4wd',\n",
       "  'trans': 'manual(m5)',\n",
       "  'year': '1999'},\n",
       " {'': '153',\n",
       "  'class': 'suv',\n",
       "  'cty': '14',\n",
       "  'cyl': '6',\n",
       "  'displ': '4',\n",
       "  'drv': '4',\n",
       "  'fl': 'p',\n",
       "  'hwy': '20',\n",
       "  'manufacturer': 'nissan',\n",
       "  'model': 'pathfinder 4wd',\n",
       "  'trans': 'auto(l5)',\n",
       "  'year': '2008'},\n",
       " {'': '154',\n",
       "  'class': 'suv',\n",
       "  'cty': '12',\n",
       "  'cyl': '8',\n",
       "  'displ': '5.6',\n",
       "  'drv': '4',\n",
       "  'fl': 'p',\n",
       "  'hwy': '18',\n",
       "  'manufacturer': 'nissan',\n",
       "  'model': 'pathfinder 4wd',\n",
       "  'trans': 'auto(s5)',\n",
       "  'year': '2008'},\n",
       " {'': '155',\n",
       "  'class': 'midsize',\n",
       "  'cty': '18',\n",
       "  'cyl': '6',\n",
       "  'displ': '3.1',\n",
       "  'drv': 'f',\n",
       "  'fl': 'r',\n",
       "  'hwy': '26',\n",
       "  'manufacturer': 'pontiac',\n",
       "  'model': 'grand prix',\n",
       "  'trans': 'auto(l4)',\n",
       "  'year': '1999'},\n",
       " {'': '156',\n",
       "  'class': 'midsize',\n",
       "  'cty': '16',\n",
       "  'cyl': '6',\n",
       "  'displ': '3.8',\n",
       "  'drv': 'f',\n",
       "  'fl': 'p',\n",
       "  'hwy': '26',\n",
       "  'manufacturer': 'pontiac',\n",
       "  'model': 'grand prix',\n",
       "  'trans': 'auto(l4)',\n",
       "  'year': '1999'},\n",
       " {'': '157',\n",
       "  'class': 'midsize',\n",
       "  'cty': '17',\n",
       "  'cyl': '6',\n",
       "  'displ': '3.8',\n",
       "  'drv': 'f',\n",
       "  'fl': 'r',\n",
       "  'hwy': '27',\n",
       "  'manufacturer': 'pontiac',\n",
       "  'model': 'grand prix',\n",
       "  'trans': 'auto(l4)',\n",
       "  'year': '1999'},\n",
       " {'': '158',\n",
       "  'class': 'midsize',\n",
       "  'cty': '18',\n",
       "  'cyl': '6',\n",
       "  'displ': '3.8',\n",
       "  'drv': 'f',\n",
       "  'fl': 'r',\n",
       "  'hwy': '28',\n",
       "  'manufacturer': 'pontiac',\n",
       "  'model': 'grand prix',\n",
       "  'trans': 'auto(l4)',\n",
       "  'year': '2008'},\n",
       " {'': '159',\n",
       "  'class': 'midsize',\n",
       "  'cty': '16',\n",
       "  'cyl': '8',\n",
       "  'displ': '5.3',\n",
       "  'drv': 'f',\n",
       "  'fl': 'p',\n",
       "  'hwy': '25',\n",
       "  'manufacturer': 'pontiac',\n",
       "  'model': 'grand prix',\n",
       "  'trans': 'auto(s4)',\n",
       "  'year': '2008'},\n",
       " {'': '160',\n",
       "  'class': 'suv',\n",
       "  'cty': '18',\n",
       "  'cyl': '4',\n",
       "  'displ': '2.5',\n",
       "  'drv': '4',\n",
       "  'fl': 'r',\n",
       "  'hwy': '25',\n",
       "  'manufacturer': 'subaru',\n",
       "  'model': 'forester awd',\n",
       "  'trans': 'manual(m5)',\n",
       "  'year': '1999'},\n",
       " {'': '161',\n",
       "  'class': 'suv',\n",
       "  'cty': '18',\n",
       "  'cyl': '4',\n",
       "  'displ': '2.5',\n",
       "  'drv': '4',\n",
       "  'fl': 'r',\n",
       "  'hwy': '24',\n",
       "  'manufacturer': 'subaru',\n",
       "  'model': 'forester awd',\n",
       "  'trans': 'auto(l4)',\n",
       "  'year': '1999'},\n",
       " {'': '162',\n",
       "  'class': 'suv',\n",
       "  'cty': '20',\n",
       "  'cyl': '4',\n",
       "  'displ': '2.5',\n",
       "  'drv': '4',\n",
       "  'fl': 'r',\n",
       "  'hwy': '27',\n",
       "  'manufacturer': 'subaru',\n",
       "  'model': 'forester awd',\n",
       "  'trans': 'manual(m5)',\n",
       "  'year': '2008'},\n",
       " {'': '163',\n",
       "  'class': 'suv',\n",
       "  'cty': '19',\n",
       "  'cyl': '4',\n",
       "  'displ': '2.5',\n",
       "  'drv': '4',\n",
       "  'fl': 'p',\n",
       "  'hwy': '25',\n",
       "  'manufacturer': 'subaru',\n",
       "  'model': 'forester awd',\n",
       "  'trans': 'manual(m5)',\n",
       "  'year': '2008'},\n",
       " {'': '164',\n",
       "  'class': 'suv',\n",
       "  'cty': '20',\n",
       "  'cyl': '4',\n",
       "  'displ': '2.5',\n",
       "  'drv': '4',\n",
       "  'fl': 'r',\n",
       "  'hwy': '26',\n",
       "  'manufacturer': 'subaru',\n",
       "  'model': 'forester awd',\n",
       "  'trans': 'auto(l4)',\n",
       "  'year': '2008'},\n",
       " {'': '165',\n",
       "  'class': 'suv',\n",
       "  'cty': '18',\n",
       "  'cyl': '4',\n",
       "  'displ': '2.5',\n",
       "  'drv': '4',\n",
       "  'fl': 'p',\n",
       "  'hwy': '23',\n",
       "  'manufacturer': 'subaru',\n",
       "  'model': 'forester awd',\n",
       "  'trans': 'auto(l4)',\n",
       "  'year': '2008'},\n",
       " {'': '166',\n",
       "  'class': 'subcompact',\n",
       "  'cty': '21',\n",
       "  'cyl': '4',\n",
       "  'displ': '2.2',\n",
       "  'drv': '4',\n",
       "  'fl': 'r',\n",
       "  'hwy': '26',\n",
       "  'manufacturer': 'subaru',\n",
       "  'model': 'impreza awd',\n",
       "  'trans': 'auto(l4)',\n",
       "  'year': '1999'},\n",
       " {'': '167',\n",
       "  'class': 'subcompact',\n",
       "  'cty': '19',\n",
       "  'cyl': '4',\n",
       "  'displ': '2.2',\n",
       "  'drv': '4',\n",
       "  'fl': 'r',\n",
       "  'hwy': '26',\n",
       "  'manufacturer': 'subaru',\n",
       "  'model': 'impreza awd',\n",
       "  'trans': 'manual(m5)',\n",
       "  'year': '1999'},\n",
       " {'': '168',\n",
       "  'class': 'subcompact',\n",
       "  'cty': '19',\n",
       "  'cyl': '4',\n",
       "  'displ': '2.5',\n",
       "  'drv': '4',\n",
       "  'fl': 'r',\n",
       "  'hwy': '26',\n",
       "  'manufacturer': 'subaru',\n",
       "  'model': 'impreza awd',\n",
       "  'trans': 'manual(m5)',\n",
       "  'year': '1999'},\n",
       " {'': '169',\n",
       "  'class': 'subcompact',\n",
       "  'cty': '19',\n",
       "  'cyl': '4',\n",
       "  'displ': '2.5',\n",
       "  'drv': '4',\n",
       "  'fl': 'r',\n",
       "  'hwy': '26',\n",
       "  'manufacturer': 'subaru',\n",
       "  'model': 'impreza awd',\n",
       "  'trans': 'auto(l4)',\n",
       "  'year': '1999'},\n",
       " {'': '170',\n",
       "  'class': 'compact',\n",
       "  'cty': '20',\n",
       "  'cyl': '4',\n",
       "  'displ': '2.5',\n",
       "  'drv': '4',\n",
       "  'fl': 'p',\n",
       "  'hwy': '25',\n",
       "  'manufacturer': 'subaru',\n",
       "  'model': 'impreza awd',\n",
       "  'trans': 'auto(s4)',\n",
       "  'year': '2008'},\n",
       " {'': '171',\n",
       "  'class': 'compact',\n",
       "  'cty': '20',\n",
       "  'cyl': '4',\n",
       "  'displ': '2.5',\n",
       "  'drv': '4',\n",
       "  'fl': 'r',\n",
       "  'hwy': '27',\n",
       "  'manufacturer': 'subaru',\n",
       "  'model': 'impreza awd',\n",
       "  'trans': 'auto(s4)',\n",
       "  'year': '2008'},\n",
       " {'': '172',\n",
       "  'class': 'compact',\n",
       "  'cty': '19',\n",
       "  'cyl': '4',\n",
       "  'displ': '2.5',\n",
       "  'drv': '4',\n",
       "  'fl': 'p',\n",
       "  'hwy': '25',\n",
       "  'manufacturer': 'subaru',\n",
       "  'model': 'impreza awd',\n",
       "  'trans': 'manual(m5)',\n",
       "  'year': '2008'},\n",
       " {'': '173',\n",
       "  'class': 'compact',\n",
       "  'cty': '20',\n",
       "  'cyl': '4',\n",
       "  'displ': '2.5',\n",
       "  'drv': '4',\n",
       "  'fl': 'r',\n",
       "  'hwy': '27',\n",
       "  'manufacturer': 'subaru',\n",
       "  'model': 'impreza awd',\n",
       "  'trans': 'manual(m5)',\n",
       "  'year': '2008'},\n",
       " {'': '174',\n",
       "  'class': 'suv',\n",
       "  'cty': '15',\n",
       "  'cyl': '4',\n",
       "  'displ': '2.7',\n",
       "  'drv': '4',\n",
       "  'fl': 'r',\n",
       "  'hwy': '20',\n",
       "  'manufacturer': 'toyota',\n",
       "  'model': '4runner 4wd',\n",
       "  'trans': 'manual(m5)',\n",
       "  'year': '1999'},\n",
       " {'': '175',\n",
       "  'class': 'suv',\n",
       "  'cty': '16',\n",
       "  'cyl': '4',\n",
       "  'displ': '2.7',\n",
       "  'drv': '4',\n",
       "  'fl': 'r',\n",
       "  'hwy': '20',\n",
       "  'manufacturer': 'toyota',\n",
       "  'model': '4runner 4wd',\n",
       "  'trans': 'auto(l4)',\n",
       "  'year': '1999'},\n",
       " {'': '176',\n",
       "  'class': 'suv',\n",
       "  'cty': '15',\n",
       "  'cyl': '6',\n",
       "  'displ': '3.4',\n",
       "  'drv': '4',\n",
       "  'fl': 'r',\n",
       "  'hwy': '19',\n",
       "  'manufacturer': 'toyota',\n",
       "  'model': '4runner 4wd',\n",
       "  'trans': 'auto(l4)',\n",
       "  'year': '1999'},\n",
       " {'': '177',\n",
       "  'class': 'suv',\n",
       "  'cty': '15',\n",
       "  'cyl': '6',\n",
       "  'displ': '3.4',\n",
       "  'drv': '4',\n",
       "  'fl': 'r',\n",
       "  'hwy': '17',\n",
       "  'manufacturer': 'toyota',\n",
       "  'model': '4runner 4wd',\n",
       "  'trans': 'manual(m5)',\n",
       "  'year': '1999'},\n",
       " {'': '178',\n",
       "  'class': 'suv',\n",
       "  'cty': '16',\n",
       "  'cyl': '6',\n",
       "  'displ': '4',\n",
       "  'drv': '4',\n",
       "  'fl': 'r',\n",
       "  'hwy': '20',\n",
       "  'manufacturer': 'toyota',\n",
       "  'model': '4runner 4wd',\n",
       "  'trans': 'auto(l5)',\n",
       "  'year': '2008'},\n",
       " {'': '179',\n",
       "  'class': 'suv',\n",
       "  'cty': '14',\n",
       "  'cyl': '8',\n",
       "  'displ': '4.7',\n",
       "  'drv': '4',\n",
       "  'fl': 'r',\n",
       "  'hwy': '17',\n",
       "  'manufacturer': 'toyota',\n",
       "  'model': '4runner 4wd',\n",
       "  'trans': 'auto(l5)',\n",
       "  'year': '2008'},\n",
       " {'': '180',\n",
       "  'class': 'midsize',\n",
       "  'cty': '21',\n",
       "  'cyl': '4',\n",
       "  'displ': '2.2',\n",
       "  'drv': 'f',\n",
       "  'fl': 'r',\n",
       "  'hwy': '29',\n",
       "  'manufacturer': 'toyota',\n",
       "  'model': 'camry',\n",
       "  'trans': 'manual(m5)',\n",
       "  'year': '1999'},\n",
       " {'': '181',\n",
       "  'class': 'midsize',\n",
       "  'cty': '21',\n",
       "  'cyl': '4',\n",
       "  'displ': '2.2',\n",
       "  'drv': 'f',\n",
       "  'fl': 'r',\n",
       "  'hwy': '27',\n",
       "  'manufacturer': 'toyota',\n",
       "  'model': 'camry',\n",
       "  'trans': 'auto(l4)',\n",
       "  'year': '1999'},\n",
       " {'': '182',\n",
       "  'class': 'midsize',\n",
       "  'cty': '21',\n",
       "  'cyl': '4',\n",
       "  'displ': '2.4',\n",
       "  'drv': 'f',\n",
       "  'fl': 'r',\n",
       "  'hwy': '31',\n",
       "  'manufacturer': 'toyota',\n",
       "  'model': 'camry',\n",
       "  'trans': 'manual(m5)',\n",
       "  'year': '2008'},\n",
       " {'': '183',\n",
       "  'class': 'midsize',\n",
       "  'cty': '21',\n",
       "  'cyl': '4',\n",
       "  'displ': '2.4',\n",
       "  'drv': 'f',\n",
       "  'fl': 'r',\n",
       "  'hwy': '31',\n",
       "  'manufacturer': 'toyota',\n",
       "  'model': 'camry',\n",
       "  'trans': 'auto(l5)',\n",
       "  'year': '2008'},\n",
       " {'': '184',\n",
       "  'class': 'midsize',\n",
       "  'cty': '18',\n",
       "  'cyl': '6',\n",
       "  'displ': '3',\n",
       "  'drv': 'f',\n",
       "  'fl': 'r',\n",
       "  'hwy': '26',\n",
       "  'manufacturer': 'toyota',\n",
       "  'model': 'camry',\n",
       "  'trans': 'auto(l4)',\n",
       "  'year': '1999'},\n",
       " {'': '185',\n",
       "  'class': 'midsize',\n",
       "  'cty': '18',\n",
       "  'cyl': '6',\n",
       "  'displ': '3',\n",
       "  'drv': 'f',\n",
       "  'fl': 'r',\n",
       "  'hwy': '26',\n",
       "  'manufacturer': 'toyota',\n",
       "  'model': 'camry',\n",
       "  'trans': 'manual(m5)',\n",
       "  'year': '1999'},\n",
       " {'': '186',\n",
       "  'class': 'midsize',\n",
       "  'cty': '19',\n",
       "  'cyl': '6',\n",
       "  'displ': '3.5',\n",
       "  'drv': 'f',\n",
       "  'fl': 'r',\n",
       "  'hwy': '28',\n",
       "  'manufacturer': 'toyota',\n",
       "  'model': 'camry',\n",
       "  'trans': 'auto(s6)',\n",
       "  'year': '2008'},\n",
       " {'': '187',\n",
       "  'class': 'compact',\n",
       "  'cty': '21',\n",
       "  'cyl': '4',\n",
       "  'displ': '2.2',\n",
       "  'drv': 'f',\n",
       "  'fl': 'r',\n",
       "  'hwy': '27',\n",
       "  'manufacturer': 'toyota',\n",
       "  'model': 'camry solara',\n",
       "  'trans': 'auto(l4)',\n",
       "  'year': '1999'},\n",
       " {'': '188',\n",
       "  'class': 'compact',\n",
       "  'cty': '21',\n",
       "  'cyl': '4',\n",
       "  'displ': '2.2',\n",
       "  'drv': 'f',\n",
       "  'fl': 'r',\n",
       "  'hwy': '29',\n",
       "  'manufacturer': 'toyota',\n",
       "  'model': 'camry solara',\n",
       "  'trans': 'manual(m5)',\n",
       "  'year': '1999'},\n",
       " {'': '189',\n",
       "  'class': 'compact',\n",
       "  'cty': '21',\n",
       "  'cyl': '4',\n",
       "  'displ': '2.4',\n",
       "  'drv': 'f',\n",
       "  'fl': 'r',\n",
       "  'hwy': '31',\n",
       "  'manufacturer': 'toyota',\n",
       "  'model': 'camry solara',\n",
       "  'trans': 'manual(m5)',\n",
       "  'year': '2008'},\n",
       " {'': '190',\n",
       "  'class': 'compact',\n",
       "  'cty': '22',\n",
       "  'cyl': '4',\n",
       "  'displ': '2.4',\n",
       "  'drv': 'f',\n",
       "  'fl': 'r',\n",
       "  'hwy': '31',\n",
       "  'manufacturer': 'toyota',\n",
       "  'model': 'camry solara',\n",
       "  'trans': 'auto(s5)',\n",
       "  'year': '2008'},\n",
       " {'': '191',\n",
       "  'class': 'compact',\n",
       "  'cty': '18',\n",
       "  'cyl': '6',\n",
       "  'displ': '3',\n",
       "  'drv': 'f',\n",
       "  'fl': 'r',\n",
       "  'hwy': '26',\n",
       "  'manufacturer': 'toyota',\n",
       "  'model': 'camry solara',\n",
       "  'trans': 'auto(l4)',\n",
       "  'year': '1999'},\n",
       " {'': '192',\n",
       "  'class': 'compact',\n",
       "  'cty': '18',\n",
       "  'cyl': '6',\n",
       "  'displ': '3',\n",
       "  'drv': 'f',\n",
       "  'fl': 'r',\n",
       "  'hwy': '26',\n",
       "  'manufacturer': 'toyota',\n",
       "  'model': 'camry solara',\n",
       "  'trans': 'manual(m5)',\n",
       "  'year': '1999'},\n",
       " {'': '193',\n",
       "  'class': 'compact',\n",
       "  'cty': '18',\n",
       "  'cyl': '6',\n",
       "  'displ': '3.3',\n",
       "  'drv': 'f',\n",
       "  'fl': 'r',\n",
       "  'hwy': '27',\n",
       "  'manufacturer': 'toyota',\n",
       "  'model': 'camry solara',\n",
       "  'trans': 'auto(s5)',\n",
       "  'year': '2008'},\n",
       " {'': '194',\n",
       "  'class': 'compact',\n",
       "  'cty': '24',\n",
       "  'cyl': '4',\n",
       "  'displ': '1.8',\n",
       "  'drv': 'f',\n",
       "  'fl': 'r',\n",
       "  'hwy': '30',\n",
       "  'manufacturer': 'toyota',\n",
       "  'model': 'corolla',\n",
       "  'trans': 'auto(l3)',\n",
       "  'year': '1999'},\n",
       " {'': '195',\n",
       "  'class': 'compact',\n",
       "  'cty': '24',\n",
       "  'cyl': '4',\n",
       "  'displ': '1.8',\n",
       "  'drv': 'f',\n",
       "  'fl': 'r',\n",
       "  'hwy': '33',\n",
       "  'manufacturer': 'toyota',\n",
       "  'model': 'corolla',\n",
       "  'trans': 'auto(l4)',\n",
       "  'year': '1999'},\n",
       " {'': '196',\n",
       "  'class': 'compact',\n",
       "  'cty': '26',\n",
       "  'cyl': '4',\n",
       "  'displ': '1.8',\n",
       "  'drv': 'f',\n",
       "  'fl': 'r',\n",
       "  'hwy': '35',\n",
       "  'manufacturer': 'toyota',\n",
       "  'model': 'corolla',\n",
       "  'trans': 'manual(m5)',\n",
       "  'year': '1999'},\n",
       " {'': '197',\n",
       "  'class': 'compact',\n",
       "  'cty': '28',\n",
       "  'cyl': '4',\n",
       "  'displ': '1.8',\n",
       "  'drv': 'f',\n",
       "  'fl': 'r',\n",
       "  'hwy': '37',\n",
       "  'manufacturer': 'toyota',\n",
       "  'model': 'corolla',\n",
       "  'trans': 'manual(m5)',\n",
       "  'year': '2008'},\n",
       " {'': '198',\n",
       "  'class': 'compact',\n",
       "  'cty': '26',\n",
       "  'cyl': '4',\n",
       "  'displ': '1.8',\n",
       "  'drv': 'f',\n",
       "  'fl': 'r',\n",
       "  'hwy': '35',\n",
       "  'manufacturer': 'toyota',\n",
       "  'model': 'corolla',\n",
       "  'trans': 'auto(l4)',\n",
       "  'year': '2008'},\n",
       " {'': '199',\n",
       "  'class': 'suv',\n",
       "  'cty': '11',\n",
       "  'cyl': '8',\n",
       "  'displ': '4.7',\n",
       "  'drv': '4',\n",
       "  'fl': 'r',\n",
       "  'hwy': '15',\n",
       "  'manufacturer': 'toyota',\n",
       "  'model': 'land cruiser wagon 4wd',\n",
       "  'trans': 'auto(l4)',\n",
       "  'year': '1999'},\n",
       " {'': '200',\n",
       "  'class': 'suv',\n",
       "  'cty': '13',\n",
       "  'cyl': '8',\n",
       "  'displ': '5.7',\n",
       "  'drv': '4',\n",
       "  'fl': 'r',\n",
       "  'hwy': '18',\n",
       "  'manufacturer': 'toyota',\n",
       "  'model': 'land cruiser wagon 4wd',\n",
       "  'trans': 'auto(s6)',\n",
       "  'year': '2008'},\n",
       " {'': '201',\n",
       "  'class': 'pickup',\n",
       "  'cty': '15',\n",
       "  'cyl': '4',\n",
       "  'displ': '2.7',\n",
       "  'drv': '4',\n",
       "  'fl': 'r',\n",
       "  'hwy': '20',\n",
       "  'manufacturer': 'toyota',\n",
       "  'model': 'toyota tacoma 4wd',\n",
       "  'trans': 'manual(m5)',\n",
       "  'year': '1999'},\n",
       " {'': '202',\n",
       "  'class': 'pickup',\n",
       "  'cty': '16',\n",
       "  'cyl': '4',\n",
       "  'displ': '2.7',\n",
       "  'drv': '4',\n",
       "  'fl': 'r',\n",
       "  'hwy': '20',\n",
       "  'manufacturer': 'toyota',\n",
       "  'model': 'toyota tacoma 4wd',\n",
       "  'trans': 'auto(l4)',\n",
       "  'year': '1999'},\n",
       " {'': '203',\n",
       "  'class': 'pickup',\n",
       "  'cty': '17',\n",
       "  'cyl': '4',\n",
       "  'displ': '2.7',\n",
       "  'drv': '4',\n",
       "  'fl': 'r',\n",
       "  'hwy': '22',\n",
       "  'manufacturer': 'toyota',\n",
       "  'model': 'toyota tacoma 4wd',\n",
       "  'trans': 'manual(m5)',\n",
       "  'year': '2008'},\n",
       " {'': '204',\n",
       "  'class': 'pickup',\n",
       "  'cty': '15',\n",
       "  'cyl': '6',\n",
       "  'displ': '3.4',\n",
       "  'drv': '4',\n",
       "  'fl': 'r',\n",
       "  'hwy': '17',\n",
       "  'manufacturer': 'toyota',\n",
       "  'model': 'toyota tacoma 4wd',\n",
       "  'trans': 'manual(m5)',\n",
       "  'year': '1999'},\n",
       " {'': '205',\n",
       "  'class': 'pickup',\n",
       "  'cty': '15',\n",
       "  'cyl': '6',\n",
       "  'displ': '3.4',\n",
       "  'drv': '4',\n",
       "  'fl': 'r',\n",
       "  'hwy': '19',\n",
       "  'manufacturer': 'toyota',\n",
       "  'model': 'toyota tacoma 4wd',\n",
       "  'trans': 'auto(l4)',\n",
       "  'year': '1999'},\n",
       " {'': '206',\n",
       "  'class': 'pickup',\n",
       "  'cty': '15',\n",
       "  'cyl': '6',\n",
       "  'displ': '4',\n",
       "  'drv': '4',\n",
       "  'fl': 'r',\n",
       "  'hwy': '18',\n",
       "  'manufacturer': 'toyota',\n",
       "  'model': 'toyota tacoma 4wd',\n",
       "  'trans': 'manual(m6)',\n",
       "  'year': '2008'},\n",
       " {'': '207',\n",
       "  'class': 'pickup',\n",
       "  'cty': '16',\n",
       "  'cyl': '6',\n",
       "  'displ': '4',\n",
       "  'drv': '4',\n",
       "  'fl': 'r',\n",
       "  'hwy': '20',\n",
       "  'manufacturer': 'toyota',\n",
       "  'model': 'toyota tacoma 4wd',\n",
       "  'trans': 'auto(l5)',\n",
       "  'year': '2008'},\n",
       " {'': '208',\n",
       "  'class': 'compact',\n",
       "  'cty': '21',\n",
       "  'cyl': '4',\n",
       "  'displ': '2',\n",
       "  'drv': 'f',\n",
       "  'fl': 'r',\n",
       "  'hwy': '29',\n",
       "  'manufacturer': 'volkswagen',\n",
       "  'model': 'gti',\n",
       "  'trans': 'manual(m5)',\n",
       "  'year': '1999'},\n",
       " {'': '209',\n",
       "  'class': 'compact',\n",
       "  'cty': '19',\n",
       "  'cyl': '4',\n",
       "  'displ': '2',\n",
       "  'drv': 'f',\n",
       "  'fl': 'r',\n",
       "  'hwy': '26',\n",
       "  'manufacturer': 'volkswagen',\n",
       "  'model': 'gti',\n",
       "  'trans': 'auto(l4)',\n",
       "  'year': '1999'},\n",
       " {'': '210',\n",
       "  'class': 'compact',\n",
       "  'cty': '21',\n",
       "  'cyl': '4',\n",
       "  'displ': '2',\n",
       "  'drv': 'f',\n",
       "  'fl': 'p',\n",
       "  'hwy': '29',\n",
       "  'manufacturer': 'volkswagen',\n",
       "  'model': 'gti',\n",
       "  'trans': 'manual(m6)',\n",
       "  'year': '2008'},\n",
       " {'': '211',\n",
       "  'class': 'compact',\n",
       "  'cty': '22',\n",
       "  'cyl': '4',\n",
       "  'displ': '2',\n",
       "  'drv': 'f',\n",
       "  'fl': 'p',\n",
       "  'hwy': '29',\n",
       "  'manufacturer': 'volkswagen',\n",
       "  'model': 'gti',\n",
       "  'trans': 'auto(s6)',\n",
       "  'year': '2008'},\n",
       " {'': '212',\n",
       "  'class': 'compact',\n",
       "  'cty': '17',\n",
       "  'cyl': '6',\n",
       "  'displ': '2.8',\n",
       "  'drv': 'f',\n",
       "  'fl': 'r',\n",
       "  'hwy': '24',\n",
       "  'manufacturer': 'volkswagen',\n",
       "  'model': 'gti',\n",
       "  'trans': 'manual(m5)',\n",
       "  'year': '1999'},\n",
       " {'': '213',\n",
       "  'class': 'compact',\n",
       "  'cty': '33',\n",
       "  'cyl': '4',\n",
       "  'displ': '1.9',\n",
       "  'drv': 'f',\n",
       "  'fl': 'd',\n",
       "  'hwy': '44',\n",
       "  'manufacturer': 'volkswagen',\n",
       "  'model': 'jetta',\n",
       "  'trans': 'manual(m5)',\n",
       "  'year': '1999'},\n",
       " {'': '214',\n",
       "  'class': 'compact',\n",
       "  'cty': '21',\n",
       "  'cyl': '4',\n",
       "  'displ': '2',\n",
       "  'drv': 'f',\n",
       "  'fl': 'r',\n",
       "  'hwy': '29',\n",
       "  'manufacturer': 'volkswagen',\n",
       "  'model': 'jetta',\n",
       "  'trans': 'manual(m5)',\n",
       "  'year': '1999'},\n",
       " {'': '215',\n",
       "  'class': 'compact',\n",
       "  'cty': '19',\n",
       "  'cyl': '4',\n",
       "  'displ': '2',\n",
       "  'drv': 'f',\n",
       "  'fl': 'r',\n",
       "  'hwy': '26',\n",
       "  'manufacturer': 'volkswagen',\n",
       "  'model': 'jetta',\n",
       "  'trans': 'auto(l4)',\n",
       "  'year': '1999'},\n",
       " {'': '216',\n",
       "  'class': 'compact',\n",
       "  'cty': '22',\n",
       "  'cyl': '4',\n",
       "  'displ': '2',\n",
       "  'drv': 'f',\n",
       "  'fl': 'p',\n",
       "  'hwy': '29',\n",
       "  'manufacturer': 'volkswagen',\n",
       "  'model': 'jetta',\n",
       "  'trans': 'auto(s6)',\n",
       "  'year': '2008'},\n",
       " {'': '217',\n",
       "  'class': 'compact',\n",
       "  'cty': '21',\n",
       "  'cyl': '4',\n",
       "  'displ': '2',\n",
       "  'drv': 'f',\n",
       "  'fl': 'p',\n",
       "  'hwy': '29',\n",
       "  'manufacturer': 'volkswagen',\n",
       "  'model': 'jetta',\n",
       "  'trans': 'manual(m6)',\n",
       "  'year': '2008'},\n",
       " {'': '218',\n",
       "  'class': 'compact',\n",
       "  'cty': '21',\n",
       "  'cyl': '5',\n",
       "  'displ': '2.5',\n",
       "  'drv': 'f',\n",
       "  'fl': 'r',\n",
       "  'hwy': '29',\n",
       "  'manufacturer': 'volkswagen',\n",
       "  'model': 'jetta',\n",
       "  'trans': 'auto(s6)',\n",
       "  'year': '2008'},\n",
       " {'': '219',\n",
       "  'class': 'compact',\n",
       "  'cty': '21',\n",
       "  'cyl': '5',\n",
       "  'displ': '2.5',\n",
       "  'drv': 'f',\n",
       "  'fl': 'r',\n",
       "  'hwy': '29',\n",
       "  'manufacturer': 'volkswagen',\n",
       "  'model': 'jetta',\n",
       "  'trans': 'manual(m5)',\n",
       "  'year': '2008'},\n",
       " {'': '220',\n",
       "  'class': 'compact',\n",
       "  'cty': '16',\n",
       "  'cyl': '6',\n",
       "  'displ': '2.8',\n",
       "  'drv': 'f',\n",
       "  'fl': 'r',\n",
       "  'hwy': '23',\n",
       "  'manufacturer': 'volkswagen',\n",
       "  'model': 'jetta',\n",
       "  'trans': 'auto(l4)',\n",
       "  'year': '1999'},\n",
       " {'': '221',\n",
       "  'class': 'compact',\n",
       "  'cty': '17',\n",
       "  'cyl': '6',\n",
       "  'displ': '2.8',\n",
       "  'drv': 'f',\n",
       "  'fl': 'r',\n",
       "  'hwy': '24',\n",
       "  'manufacturer': 'volkswagen',\n",
       "  'model': 'jetta',\n",
       "  'trans': 'manual(m5)',\n",
       "  'year': '1999'},\n",
       " {'': '222',\n",
       "  'class': 'subcompact',\n",
       "  'cty': '35',\n",
       "  'cyl': '4',\n",
       "  'displ': '1.9',\n",
       "  'drv': 'f',\n",
       "  'fl': 'd',\n",
       "  'hwy': '44',\n",
       "  'manufacturer': 'volkswagen',\n",
       "  'model': 'new beetle',\n",
       "  'trans': 'manual(m5)',\n",
       "  'year': '1999'},\n",
       " {'': '223',\n",
       "  'class': 'subcompact',\n",
       "  'cty': '29',\n",
       "  'cyl': '4',\n",
       "  'displ': '1.9',\n",
       "  'drv': 'f',\n",
       "  'fl': 'd',\n",
       "  'hwy': '41',\n",
       "  'manufacturer': 'volkswagen',\n",
       "  'model': 'new beetle',\n",
       "  'trans': 'auto(l4)',\n",
       "  'year': '1999'},\n",
       " {'': '224',\n",
       "  'class': 'subcompact',\n",
       "  'cty': '21',\n",
       "  'cyl': '4',\n",
       "  'displ': '2',\n",
       "  'drv': 'f',\n",
       "  'fl': 'r',\n",
       "  'hwy': '29',\n",
       "  'manufacturer': 'volkswagen',\n",
       "  'model': 'new beetle',\n",
       "  'trans': 'manual(m5)',\n",
       "  'year': '1999'},\n",
       " {'': '225',\n",
       "  'class': 'subcompact',\n",
       "  'cty': '19',\n",
       "  'cyl': '4',\n",
       "  'displ': '2',\n",
       "  'drv': 'f',\n",
       "  'fl': 'r',\n",
       "  'hwy': '26',\n",
       "  'manufacturer': 'volkswagen',\n",
       "  'model': 'new beetle',\n",
       "  'trans': 'auto(l4)',\n",
       "  'year': '1999'},\n",
       " {'': '226',\n",
       "  'class': 'subcompact',\n",
       "  'cty': '20',\n",
       "  'cyl': '5',\n",
       "  'displ': '2.5',\n",
       "  'drv': 'f',\n",
       "  'fl': 'r',\n",
       "  'hwy': '28',\n",
       "  'manufacturer': 'volkswagen',\n",
       "  'model': 'new beetle',\n",
       "  'trans': 'manual(m5)',\n",
       "  'year': '2008'},\n",
       " {'': '227',\n",
       "  'class': 'subcompact',\n",
       "  'cty': '20',\n",
       "  'cyl': '5',\n",
       "  'displ': '2.5',\n",
       "  'drv': 'f',\n",
       "  'fl': 'r',\n",
       "  'hwy': '29',\n",
       "  'manufacturer': 'volkswagen',\n",
       "  'model': 'new beetle',\n",
       "  'trans': 'auto(s6)',\n",
       "  'year': '2008'},\n",
       " {'': '228',\n",
       "  'class': 'midsize',\n",
       "  'cty': '21',\n",
       "  'cyl': '4',\n",
       "  'displ': '1.8',\n",
       "  'drv': 'f',\n",
       "  'fl': 'p',\n",
       "  'hwy': '29',\n",
       "  'manufacturer': 'volkswagen',\n",
       "  'model': 'passat',\n",
       "  'trans': 'manual(m5)',\n",
       "  'year': '1999'},\n",
       " {'': '229',\n",
       "  'class': 'midsize',\n",
       "  'cty': '18',\n",
       "  'cyl': '4',\n",
       "  'displ': '1.8',\n",
       "  'drv': 'f',\n",
       "  'fl': 'p',\n",
       "  'hwy': '29',\n",
       "  'manufacturer': 'volkswagen',\n",
       "  'model': 'passat',\n",
       "  'trans': 'auto(l5)',\n",
       "  'year': '1999'},\n",
       " {'': '230',\n",
       "  'class': 'midsize',\n",
       "  'cty': '19',\n",
       "  'cyl': '4',\n",
       "  'displ': '2',\n",
       "  'drv': 'f',\n",
       "  'fl': 'p',\n",
       "  'hwy': '28',\n",
       "  'manufacturer': 'volkswagen',\n",
       "  'model': 'passat',\n",
       "  'trans': 'auto(s6)',\n",
       "  'year': '2008'},\n",
       " {'': '231',\n",
       "  'class': 'midsize',\n",
       "  'cty': '21',\n",
       "  'cyl': '4',\n",
       "  'displ': '2',\n",
       "  'drv': 'f',\n",
       "  'fl': 'p',\n",
       "  'hwy': '29',\n",
       "  'manufacturer': 'volkswagen',\n",
       "  'model': 'passat',\n",
       "  'trans': 'manual(m6)',\n",
       "  'year': '2008'},\n",
       " {'': '232',\n",
       "  'class': 'midsize',\n",
       "  'cty': '16',\n",
       "  'cyl': '6',\n",
       "  'displ': '2.8',\n",
       "  'drv': 'f',\n",
       "  'fl': 'p',\n",
       "  'hwy': '26',\n",
       "  'manufacturer': 'volkswagen',\n",
       "  'model': 'passat',\n",
       "  'trans': 'auto(l5)',\n",
       "  'year': '1999'},\n",
       " {'': '233',\n",
       "  'class': 'midsize',\n",
       "  'cty': '18',\n",
       "  'cyl': '6',\n",
       "  'displ': '2.8',\n",
       "  'drv': 'f',\n",
       "  'fl': 'p',\n",
       "  'hwy': '26',\n",
       "  'manufacturer': 'volkswagen',\n",
       "  'model': 'passat',\n",
       "  'trans': 'manual(m5)',\n",
       "  'year': '1999'},\n",
       " {'': '234',\n",
       "  'class': 'midsize',\n",
       "  'cty': '17',\n",
       "  'cyl': '6',\n",
       "  'displ': '3.6',\n",
       "  'drv': 'f',\n",
       "  'fl': 'p',\n",
       "  'hwy': '26',\n",
       "  'manufacturer': 'volkswagen',\n",
       "  'model': 'passat',\n",
       "  'trans': 'auto(s6)',\n",
       "  'year': '2008'}]"
      ]
     },
     "execution_count": 3,
     "metadata": {},
     "output_type": "execute_result"
    }
   ],
   "source": [
    "import csv\n",
    "\n",
    "%precision 2 \n",
    "\n",
    "with open('mpg.csv') as csvfile:\n",
    "    mpg = list(csv.DictReader(csvfile))\n",
    "    \n",
    "mpg[:]"
   ]
  },
  {
   "cell_type": "markdown",
   "metadata": {},
   "source": [
    "<br>\n",
    "`csv.Dictreader` has read in each row of our csv file as a dictionary. `len` shows that our list is comprised of 234 dictionaries."
   ]
  },
  {
   "cell_type": "code",
   "execution_count": 6,
   "metadata": {},
   "outputs": [
    {
     "data": {
      "text/plain": [
       "234"
      ]
     },
     "execution_count": 6,
     "metadata": {},
     "output_type": "execute_result"
    }
   ],
   "source": [
    "len(mpg)"
   ]
  },
  {
   "cell_type": "markdown",
   "metadata": {},
   "source": [
    "<br>\n",
    "`keys` gives us the column names of our csv."
   ]
  },
  {
   "cell_type": "code",
   "execution_count": 13,
   "metadata": {},
   "outputs": [
    {
     "data": {
      "text/plain": [
       "dict_keys(['', 'year', 'cyl', 'manufacturer', 'model', 'fl', 'drv', 'trans', 'class', 'cty', 'hwy', 'displ'])"
      ]
     },
     "execution_count": 13,
     "metadata": {},
     "output_type": "execute_result"
    }
   ],
   "source": [
    "mpg[0].keys()"
   ]
  },
  {
   "cell_type": "markdown",
   "metadata": {},
   "source": [
    "<br>\n",
    "This is how to find the average cty fuel economy across all cars. All values in the dictionaries are strings, so we need to convert to float."
   ]
  },
  {
   "cell_type": "code",
   "execution_count": 12,
   "metadata": {},
   "outputs": [
    {
     "data": {
      "text/plain": [
       "16.86"
      ]
     },
     "execution_count": 12,
     "metadata": {},
     "output_type": "execute_result"
    }
   ],
   "source": [
    "sum(float(d['cty']) for d in mpg)/len(mpg)"
   ]
  },
  {
   "cell_type": "markdown",
   "metadata": {},
   "source": [
    "<br>\n",
    "Similarly this is how to find the average hwy fuel economy across all cars."
   ]
  },
  {
   "cell_type": "code",
   "execution_count": null,
   "metadata": {},
   "outputs": [],
   "source": [
    "sum(float(d['hwy']) for d in mpg) / len(mpg)"
   ]
  },
  {
   "cell_type": "markdown",
   "metadata": {},
   "source": [
    "<br>\n",
    "Use `set` to return the unique values for the number of cylinders the cars in our dataset have."
   ]
  },
  {
   "cell_type": "code",
   "execution_count": 14,
   "metadata": {},
   "outputs": [
    {
     "data": {
      "text/plain": [
       "{'4', '5', '6', '8'}"
      ]
     },
     "execution_count": 14,
     "metadata": {},
     "output_type": "execute_result"
    }
   ],
   "source": [
    "cylinders = set(d['cyl'] for d in mpg)\n",
    "cylinders"
   ]
  },
  {
   "cell_type": "markdown",
   "metadata": {},
   "source": [
    "<br>\n",
    "Here's a more complex example where we are grouping the cars by number of cylinder, and finding the average cty mpg for each group."
   ]
  },
  {
   "cell_type": "code",
   "execution_count": 18,
   "metadata": {},
   "outputs": [
    {
     "data": {
      "text/plain": [
       "[('4', 21.01), ('5', 20.50), ('6', 16.22), ('8', 12.57)]"
      ]
     },
     "execution_count": 18,
     "metadata": {},
     "output_type": "execute_result"
    }
   ],
   "source": [
    "CtyMpgByCyl = []\n",
    "\n",
    "for c in cylinders: # iterate over all the cylinder levels\n",
    "    summpg = 0\n",
    "    cyltypecount = 0\n",
    "    for d in mpg: # iterate over all dictionaries\n",
    "        if d['cyl'] == c: # if the cylinder level type matches,\n",
    "            summpg += float(d['cty']) # add the cty mpg\n",
    "            cyltypecount += 1 # increment the count\n",
    "    CtyMpgByCyl.append((c, summpg / cyltypecount)) # append the tuple ('cylinder', 'avg mpg')\n",
    "\n",
    "CtyMpgByCyl.sort(key=lambda x1: x1[0])\n",
    "CtyMpgByCyl"
   ]
  },
  {
   "cell_type": "markdown",
   "metadata": {},
   "source": [
    "<br>\n",
    "Use `set` to return the unique values for the class types in our dataset."
   ]
  },
  {
   "cell_type": "code",
   "execution_count": null,
   "metadata": {},
   "outputs": [],
   "source": [
    "vehicleclass = set(d['class'] for d in mpg) # what are the class types\n",
    "vehicleclass"
   ]
  },
  {
   "cell_type": "markdown",
   "metadata": {},
   "source": [
    "<br>\n",
    "And here's an example of how to find the average hwy mpg for each class of vehicle in our dataset."
   ]
  },
  {
   "cell_type": "code",
   "execution_count": null,
   "metadata": {},
   "outputs": [],
   "source": [
    "HwyMpgByClass = []\n",
    "\n",
    "for t in vehicleclass: # iterate over all the vehicle classes\n",
    "    summpg = 0\n",
    "    vclasscount = 0\n",
    "    for d in mpg: # iterate over all dictionaries\n",
    "        if d['class'] == t: # if the cylinder amount type matches,\n",
    "            summpg += float(d['hwy']) # add the hwy mpg\n",
    "            vclasscount += 1 # increment the count\n",
    "    HwyMpgByClass.append((t, summpg / vclasscount)) # append the tuple ('class', 'avg mpg')\n",
    "\n",
    "HwyMpgByClass.sort(key=lambda x: x[1])\n",
    "HwyMpgByClass"
   ]
  },
  {
   "cell_type": "markdown",
   "metadata": {},
   "source": [
    "<br>\n",
    "# The Python Programming Language: Dates and Times"
   ]
  },
  {
   "cell_type": "code",
   "execution_count": null,
   "metadata": {
    "collapsed": true
   },
   "outputs": [],
   "source": [
    "import datetime as dt\n",
    "import time as tm"
   ]
  },
  {
   "cell_type": "markdown",
   "metadata": {},
   "source": [
    "<br>\n",
    "`time` returns the current time in seconds since the Epoch. (January 1st, 1970)"
   ]
  },
  {
   "cell_type": "code",
   "execution_count": null,
   "metadata": {},
   "outputs": [],
   "source": [
    "tm.time()"
   ]
  },
  {
   "cell_type": "markdown",
   "metadata": {},
   "source": [
    "<br>\n",
    "Convert the timestamp to datetime."
   ]
  },
  {
   "cell_type": "code",
   "execution_count": null,
   "metadata": {},
   "outputs": [],
   "source": [
    "dtnow = dt.datetime.fromtimestamp(tm.time())\n",
    "dtnow"
   ]
  },
  {
   "cell_type": "markdown",
   "metadata": {},
   "source": [
    "<br>\n",
    "Handy datetime attributes:"
   ]
  },
  {
   "cell_type": "code",
   "execution_count": null,
   "metadata": {},
   "outputs": [],
   "source": [
    "dtnow.year, dtnow.month, dtnow.day, dtnow.hour, dtnow.minute, dtnow.second # get year, month, day, etc.from a datetime"
   ]
  },
  {
   "cell_type": "markdown",
   "metadata": {},
   "source": [
    "<br>\n",
    "`timedelta` is a duration expressing the difference between two dates."
   ]
  },
  {
   "cell_type": "code",
   "execution_count": null,
   "metadata": {},
   "outputs": [],
   "source": [
    "delta = dt.timedelta(days = 100) # create a timedelta of 100 days\n",
    "delta"
   ]
  },
  {
   "cell_type": "markdown",
   "metadata": {},
   "source": [
    "<br>\n",
    "`date.today` returns the current local date."
   ]
  },
  {
   "cell_type": "code",
   "execution_count": null,
   "metadata": {
    "collapsed": true
   },
   "outputs": [],
   "source": [
    "today = dt.date.today()"
   ]
  },
  {
   "cell_type": "code",
   "execution_count": null,
   "metadata": {},
   "outputs": [],
   "source": [
    "today - delta # the date 100 days ago"
   ]
  },
  {
   "cell_type": "code",
   "execution_count": null,
   "metadata": {},
   "outputs": [],
   "source": [
    "today > today-delta # compare dates"
   ]
  },
  {
   "cell_type": "markdown",
   "metadata": {},
   "source": [
    "<br>\n",
    "# The Python Programming Language: Objects and map()"
   ]
  },
  {
   "cell_type": "markdown",
   "metadata": {},
   "source": [
    "<br>\n",
    "An example of a class in python:"
   ]
  },
  {
   "cell_type": "code",
   "execution_count": null,
   "metadata": {
    "collapsed": true
   },
   "outputs": [],
   "source": [
    "class Person:\n",
    "    department = 'School of Information' #a class variable\n",
    "\n",
    "    def set_name(self, new_name): #a method\n",
    "        self.name = new_name\n",
    "    def set_location(self, new_location):\n",
    "        self.location = new_location"
   ]
  },
  {
   "cell_type": "code",
   "execution_count": null,
   "metadata": {},
   "outputs": [],
   "source": [
    "person = Person()\n",
    "person.set_name('Christopher Brooks')\n",
    "person.set_location('Ann Arbor, MI, USA')\n",
    "print('{} live in {} and works in the department {}'.format(person.name, person.location, person.department))"
   ]
  },
  {
   "cell_type": "markdown",
   "metadata": {},
   "source": [
    "<br>\n",
    "Here's an example of mapping the `min` function between two lists."
   ]
  },
  {
   "cell_type": "code",
   "execution_count": null,
   "metadata": {},
   "outputs": [],
   "source": [
    "store1 = [10.00, 11.00, 12.34, 2.34]\n",
    "store2 = [9.00, 11.10, 12.34, 2.01]\n",
    "cheapest = map(min, store1, store2)\n",
    "cheapest"
   ]
  },
  {
   "cell_type": "markdown",
   "metadata": {},
   "source": [
    "<br>\n",
    "Now let's iterate through the map object to see the values."
   ]
  },
  {
   "cell_type": "code",
   "execution_count": null,
   "metadata": {
    "scrolled": true
   },
   "outputs": [],
   "source": [
    "for item in cheapest:\n",
    "    print(item)"
   ]
  },
  {
   "cell_type": "markdown",
   "metadata": {},
   "source": [
    "<br>\n",
    "# The Python Programming Language: Lambda and List Comprehensions"
   ]
  },
  {
   "cell_type": "markdown",
   "metadata": {},
   "source": [
    "<br>\n",
    "Here's an example of lambda that takes in three parameters and adds the first two."
   ]
  },
  {
   "cell_type": "code",
   "execution_count": null,
   "metadata": {
    "collapsed": true
   },
   "outputs": [],
   "source": [
    "my_function = lambda a, b, c : a + b"
   ]
  },
  {
   "cell_type": "code",
   "execution_count": null,
   "metadata": {},
   "outputs": [],
   "source": [
    "my_function(1, 2, 3)"
   ]
  },
  {
   "cell_type": "markdown",
   "metadata": {},
   "source": [
    "<br>\n",
    "Let's iterate from 0 to 999 and return the even numbers."
   ]
  },
  {
   "cell_type": "code",
   "execution_count": null,
   "metadata": {},
   "outputs": [],
   "source": [
    "my_list = []\n",
    "for number in range(0, 1000):\n",
    "    if number % 2 == 0:\n",
    "        my_list.append(number)\n",
    "my_list"
   ]
  },
  {
   "cell_type": "markdown",
   "metadata": {},
   "source": [
    "<br>\n",
    "Now the same thing but with list comprehension."
   ]
  },
  {
   "cell_type": "code",
   "execution_count": null,
   "metadata": {},
   "outputs": [],
   "source": [
    "my_list = [number for number in range(0,1000) if number % 2 == 0]\n",
    "my_list"
   ]
  },
  {
   "cell_type": "markdown",
   "metadata": {
    "collapsed": true
   },
   "source": [
    "<br>\n",
    "# The Python Programming Language: Numerical Python (NumPy)"
   ]
  },
  {
   "cell_type": "code",
   "execution_count": 2,
   "metadata": {
    "collapsed": true
   },
   "outputs": [],
   "source": [
    "import numpy as np"
   ]
  },
  {
   "cell_type": "markdown",
   "metadata": {},
   "source": [
    "<br>\n",
    "## Creating Arrays"
   ]
  },
  {
   "cell_type": "markdown",
   "metadata": {},
   "source": [
    "Create a list and convert it to a numpy array"
   ]
  },
  {
   "cell_type": "code",
   "execution_count": 3,
   "metadata": {},
   "outputs": [
    {
     "data": {
      "text/plain": [
       "array([1, 2, 3])"
      ]
     },
     "execution_count": 3,
     "metadata": {},
     "output_type": "execute_result"
    }
   ],
   "source": [
    "mylist = [1, 2, 3]\n",
    "x = np.array(mylist)\n",
    "x"
   ]
  },
  {
   "cell_type": "markdown",
   "metadata": {},
   "source": [
    "<br>\n",
    "Or just pass in a list directly"
   ]
  },
  {
   "cell_type": "code",
   "execution_count": 4,
   "metadata": {},
   "outputs": [
    {
     "data": {
      "text/plain": [
       "array([4, 5, 6])"
      ]
     },
     "execution_count": 4,
     "metadata": {},
     "output_type": "execute_result"
    }
   ],
   "source": [
    "y = np.array([4, 5, 6])\n",
    "y"
   ]
  },
  {
   "cell_type": "markdown",
   "metadata": {},
   "source": [
    "<br>\n",
    "Pass in a list of lists to create a multidimensional array."
   ]
  },
  {
   "cell_type": "code",
   "execution_count": 5,
   "metadata": {},
   "outputs": [
    {
     "data": {
      "text/plain": [
       "array([[ 7,  8,  9],\n",
       "       [10, 11, 12]])"
      ]
     },
     "execution_count": 5,
     "metadata": {},
     "output_type": "execute_result"
    }
   ],
   "source": [
    "m = np.array([[7, 8, 9], [10, 11, 12]])\n",
    "m"
   ]
  },
  {
   "cell_type": "markdown",
   "metadata": {},
   "source": [
    "<br>\n",
    "Use the shape method to find the dimensions of the array. (rows, columns)"
   ]
  },
  {
   "cell_type": "code",
   "execution_count": 12,
   "metadata": {},
   "outputs": [
    {
     "data": {
      "text/plain": [
       "(2, 3)"
      ]
     },
     "execution_count": 12,
     "metadata": {},
     "output_type": "execute_result"
    }
   ],
   "source": [
    "np.shape(m)"
   ]
  },
  {
   "cell_type": "markdown",
   "metadata": {},
   "source": [
    "<br>\n",
    "`arange` returns evenly spaced values within a given interval."
   ]
  },
  {
   "cell_type": "code",
   "execution_count": 13,
   "metadata": {},
   "outputs": [
    {
     "data": {
      "text/plain": [
       "array([ 0,  2,  4,  6,  8, 10, 12, 14, 16, 18, 20, 22, 24, 26, 28])"
      ]
     },
     "execution_count": 13,
     "metadata": {},
     "output_type": "execute_result"
    }
   ],
   "source": [
    "n = np.arange(0, 30, 2) # start at 0 count up by 2, stop before 30\n",
    "n"
   ]
  },
  {
   "cell_type": "markdown",
   "metadata": {},
   "source": [
    "<br>\n",
    "`reshape` returns an array with the same data with a new shape."
   ]
  },
  {
   "cell_type": "code",
   "execution_count": 14,
   "metadata": {},
   "outputs": [
    {
     "data": {
      "text/plain": [
       "array([[ 0,  2,  4,  6,  8],\n",
       "       [10, 12, 14, 16, 18],\n",
       "       [20, 22, 24, 26, 28]])"
      ]
     },
     "execution_count": 14,
     "metadata": {},
     "output_type": "execute_result"
    }
   ],
   "source": [
    "n = n.reshape(3, 5) # reshape array to be 3x5\n",
    "n"
   ]
  },
  {
   "cell_type": "markdown",
   "metadata": {},
   "source": [
    "<br>\n",
    "`linspace` returns evenly spaced numbers over a specified interval."
   ]
  },
  {
   "cell_type": "code",
   "execution_count": 15,
   "metadata": {},
   "outputs": [
    {
     "data": {
      "text/plain": [
       "array([ 0. ,  0.5,  1. ,  1.5,  2. ,  2.5,  3. ,  3.5,  4. ])"
      ]
     },
     "execution_count": 15,
     "metadata": {},
     "output_type": "execute_result"
    }
   ],
   "source": [
    "o = np.linspace(0, 4, 9) # return 9 evenly spaced values from 0 to 4\n",
    "o"
   ]
  },
  {
   "cell_type": "markdown",
   "metadata": {},
   "source": [
    "<br>\n",
    "`resize` changes the shape and size of array in-place."
   ]
  },
  {
   "cell_type": "code",
   "execution_count": 16,
   "metadata": {},
   "outputs": [
    {
     "data": {
      "text/plain": [
       "array([[ 0. ,  0.5,  1. ],\n",
       "       [ 1.5,  2. ,  2.5],\n",
       "       [ 3. ,  3.5,  4. ]])"
      ]
     },
     "execution_count": 16,
     "metadata": {},
     "output_type": "execute_result"
    }
   ],
   "source": [
    "o.resize(3, 3)\n",
    "o"
   ]
  },
  {
   "cell_type": "markdown",
   "metadata": {},
   "source": [
    "<br>\n",
    "`ones` returns a new array of given shape and type, filled with ones."
   ]
  },
  {
   "cell_type": "code",
   "execution_count": 17,
   "metadata": {},
   "outputs": [
    {
     "data": {
      "text/plain": [
       "array([[ 1.,  1.],\n",
       "       [ 1.,  1.],\n",
       "       [ 1.,  1.]])"
      ]
     },
     "execution_count": 17,
     "metadata": {},
     "output_type": "execute_result"
    }
   ],
   "source": [
    "np.ones((3, 2))"
   ]
  },
  {
   "cell_type": "markdown",
   "metadata": {},
   "source": [
    "<br>\n",
    "`zeros` returns a new array of given shape and type, filled with zeros."
   ]
  },
  {
   "cell_type": "code",
   "execution_count": null,
   "metadata": {},
   "outputs": [],
   "source": [
    "np.zeros((2, 3))"
   ]
  },
  {
   "cell_type": "markdown",
   "metadata": {},
   "source": [
    "<br>\n",
    "`eye` returns a 2-D array with ones on the diagonal and zeros elsewhere."
   ]
  },
  {
   "cell_type": "code",
   "execution_count": 18,
   "metadata": {},
   "outputs": [
    {
     "data": {
      "text/plain": [
       "array([[ 1.,  0.,  0.],\n",
       "       [ 0.,  1.,  0.],\n",
       "       [ 0.,  0.,  1.]])"
      ]
     },
     "execution_count": 18,
     "metadata": {},
     "output_type": "execute_result"
    }
   ],
   "source": [
    "np.eye(3)"
   ]
  },
  {
   "cell_type": "markdown",
   "metadata": {},
   "source": [
    "<br>\n",
    "`diag` extracts a diagonal or constructs a diagonal array."
   ]
  },
  {
   "cell_type": "code",
   "execution_count": 21,
   "metadata": {},
   "outputs": [
    {
     "data": {
      "text/plain": [
       "array([[4, 0, 0],\n",
       "       [0, 5, 0],\n",
       "       [0, 0, 6]])"
      ]
     },
     "execution_count": 21,
     "metadata": {},
     "output_type": "execute_result"
    }
   ],
   "source": [
    "y\n",
    "np.diag(y)"
   ]
  },
  {
   "cell_type": "markdown",
   "metadata": {},
   "source": [
    "<br>\n",
    "Create an array using repeating list (or see `np.tile`)"
   ]
  },
  {
   "cell_type": "code",
   "execution_count": null,
   "metadata": {},
   "outputs": [],
   "source": [
    "np.array([1, 2, 3] * 3)"
   ]
  },
  {
   "cell_type": "markdown",
   "metadata": {},
   "source": [
    "<br>\n",
    "Repeat elements of an array using `repeat`."
   ]
  },
  {
   "cell_type": "code",
   "execution_count": 22,
   "metadata": {},
   "outputs": [
    {
     "data": {
      "text/plain": [
       "array([1, 1, 1, 2, 2, 2, 3, 3, 3])"
      ]
     },
     "execution_count": 22,
     "metadata": {},
     "output_type": "execute_result"
    }
   ],
   "source": [
    "np.repeat([1, 2, 3], 3)"
   ]
  },
  {
   "cell_type": "markdown",
   "metadata": {},
   "source": [
    "<br>\n",
    "#### Combining Arrays"
   ]
  },
  {
   "cell_type": "code",
   "execution_count": 27,
   "metadata": {},
   "outputs": [
    {
     "data": {
      "text/plain": [
       "array([[1, 1, 1],\n",
       "       [1, 1, 1]])"
      ]
     },
     "execution_count": 27,
     "metadata": {},
     "output_type": "execute_result"
    }
   ],
   "source": [
    "p = np.ones([2, 3], int)\n",
    "p"
   ]
  },
  {
   "cell_type": "markdown",
   "metadata": {},
   "source": [
    "<br>\n",
    "Use `vstack` to stack arrays in sequence vertically (row wise)."
   ]
  },
  {
   "cell_type": "code",
   "execution_count": 28,
   "metadata": {},
   "outputs": [
    {
     "data": {
      "text/plain": [
       "array([[1, 1, 1],\n",
       "       [1, 1, 1],\n",
       "       [2, 2, 2],\n",
       "       [2, 2, 2]])"
      ]
     },
     "execution_count": 28,
     "metadata": {},
     "output_type": "execute_result"
    }
   ],
   "source": [
    "np.vstack([p, 2*p])"
   ]
  },
  {
   "cell_type": "markdown",
   "metadata": {},
   "source": [
    "<br>\n",
    "Use `hstack` to stack arrays in sequence horizontally (column wise)."
   ]
  },
  {
   "cell_type": "code",
   "execution_count": 29,
   "metadata": {},
   "outputs": [
    {
     "data": {
      "text/plain": [
       "array([[1, 1, 1, 2, 2, 2],\n",
       "       [1, 1, 1, 2, 2, 2]])"
      ]
     },
     "execution_count": 29,
     "metadata": {},
     "output_type": "execute_result"
    }
   ],
   "source": [
    "np.hstack([p, 2*p])"
   ]
  },
  {
   "cell_type": "markdown",
   "metadata": {},
   "source": [
    "<br>\n",
    "## Operations"
   ]
  },
  {
   "cell_type": "markdown",
   "metadata": {},
   "source": [
    "Use `+`, `-`, `*`, `/` and `**` to perform element wise addition, subtraction, multiplication, division and power."
   ]
  },
  {
   "cell_type": "code",
   "execution_count": null,
   "metadata": {},
   "outputs": [],
   "source": [
    "print(x + y) # elementwise addition     [1 2 3] + [4 5 6] = [5  7  9]\n",
    "print(x - y) # elementwise subtraction  [1 2 3] - [4 5 6] = [-3 -3 -3]"
   ]
  },
  {
   "cell_type": "code",
   "execution_count": null,
   "metadata": {},
   "outputs": [],
   "source": [
    "print(x * y) # elementwise multiplication  [1 2 3] * [4 5 6] = [4  10  18]\n",
    "print(x / y) # elementwise divison         [1 2 3] / [4 5 6] = [0.25  0.4  0.5]"
   ]
  },
  {
   "cell_type": "code",
   "execution_count": null,
   "metadata": {},
   "outputs": [],
   "source": [
    "print(x**2) # elementwise power  [1 2 3] ^2 =  [1 4 9]"
   ]
  },
  {
   "cell_type": "markdown",
   "metadata": {},
   "source": [
    "<br>\n",
    "**Dot Product:**  \n",
    "\n",
    "$ \\begin{bmatrix}x_1 \\ x_2 \\ x_3\\end{bmatrix}\n",
    "\\cdot\n",
    "\\begin{bmatrix}y_1 \\\\ y_2 \\\\ y_3\\end{bmatrix}\n",
    "= x_1 y_1 + x_2 y_2 + x_3 y_3$"
   ]
  },
  {
   "cell_type": "code",
   "execution_count": null,
   "metadata": {},
   "outputs": [],
   "source": [
    "x.dot(y) # dot product  1*4 + 2*5 + 3*6"
   ]
  },
  {
   "cell_type": "code",
   "execution_count": 34,
   "metadata": {},
   "outputs": [
    {
     "name": "stdout",
     "output_type": "stream",
     "text": [
      "(2, 3)\n",
      "2\n"
     ]
    }
   ],
   "source": [
    "z = np.array([y, y**2])\n",
    "print(np.shape(z))\n",
    "print(len(z)) # number of rows of array"
   ]
  },
  {
   "cell_type": "markdown",
   "metadata": {},
   "source": [
    "<br>\n",
    "Let's look at transposing arrays. Transposing permutes the dimensions of the array."
   ]
  },
  {
   "cell_type": "code",
   "execution_count": 35,
   "metadata": {},
   "outputs": [
    {
     "data": {
      "text/plain": [
       "array([[ 4,  5,  6],\n",
       "       [16, 25, 36]])"
      ]
     },
     "execution_count": 35,
     "metadata": {},
     "output_type": "execute_result"
    }
   ],
   "source": [
    "z = np.array([y, y**2])\n",
    "z"
   ]
  },
  {
   "cell_type": "markdown",
   "metadata": {},
   "source": [
    "<br>\n",
    "The shape of array `z` is `(2,3)` before transposing."
   ]
  },
  {
   "cell_type": "code",
   "execution_count": null,
   "metadata": {},
   "outputs": [],
   "source": [
    "z.shape"
   ]
  },
  {
   "cell_type": "markdown",
   "metadata": {},
   "source": [
    "<br>\n",
    "Use `.T` to get the transpose."
   ]
  },
  {
   "cell_type": "code",
   "execution_count": 36,
   "metadata": {},
   "outputs": [
    {
     "data": {
      "text/plain": [
       "array([[ 4, 16],\n",
       "       [ 5, 25],\n",
       "       [ 6, 36]])"
      ]
     },
     "execution_count": 36,
     "metadata": {},
     "output_type": "execute_result"
    }
   ],
   "source": [
    "z.T"
   ]
  },
  {
   "cell_type": "markdown",
   "metadata": {},
   "source": [
    "<br>\n",
    "The number of rows has swapped with the number of columns."
   ]
  },
  {
   "cell_type": "code",
   "execution_count": null,
   "metadata": {},
   "outputs": [],
   "source": [
    "z.T.shape"
   ]
  },
  {
   "cell_type": "markdown",
   "metadata": {},
   "source": [
    "<br>\n",
    "Use `.dtype` to see the data type of the elements in the array."
   ]
  },
  {
   "cell_type": "code",
   "execution_count": 37,
   "metadata": {},
   "outputs": [
    {
     "data": {
      "text/plain": [
       "dtype('int64')"
      ]
     },
     "execution_count": 37,
     "metadata": {},
     "output_type": "execute_result"
    }
   ],
   "source": [
    "z.dtype"
   ]
  },
  {
   "cell_type": "markdown",
   "metadata": {},
   "source": [
    "<br>\n",
    "Use `.astype` to cast to a specific type."
   ]
  },
  {
   "cell_type": "code",
   "execution_count": 38,
   "metadata": {},
   "outputs": [
    {
     "data": {
      "text/plain": [
       "dtype('float32')"
      ]
     },
     "execution_count": 38,
     "metadata": {},
     "output_type": "execute_result"
    }
   ],
   "source": [
    "z = z.astype('f')\n",
    "z.dtype"
   ]
  },
  {
   "cell_type": "markdown",
   "metadata": {},
   "source": [
    "<br>\n",
    "## Math Functions"
   ]
  },
  {
   "cell_type": "markdown",
   "metadata": {},
   "source": [
    "Numpy has many built in math functions that can be performed on arrays."
   ]
  },
  {
   "cell_type": "code",
   "execution_count": 41,
   "metadata": {
    "collapsed": true
   },
   "outputs": [],
   "source": [
    "a = np.array([-4, -2, 1, 3, 5])"
   ]
  },
  {
   "cell_type": "code",
   "execution_count": 42,
   "metadata": {},
   "outputs": [
    {
     "data": {
      "text/plain": [
       "3"
      ]
     },
     "execution_count": 42,
     "metadata": {},
     "output_type": "execute_result"
    }
   ],
   "source": [
    "a.sum()"
   ]
  },
  {
   "cell_type": "code",
   "execution_count": null,
   "metadata": {},
   "outputs": [],
   "source": [
    "a.max()"
   ]
  },
  {
   "cell_type": "code",
   "execution_count": null,
   "metadata": {},
   "outputs": [],
   "source": [
    "a.min()"
   ]
  },
  {
   "cell_type": "code",
   "execution_count": null,
   "metadata": {},
   "outputs": [],
   "source": [
    "a.mean()"
   ]
  },
  {
   "cell_type": "code",
   "execution_count": null,
   "metadata": {},
   "outputs": [],
   "source": [
    "a.std()"
   ]
  },
  {
   "cell_type": "markdown",
   "metadata": {},
   "source": [
    "<br>\n",
    "`argmax` and `argmin` return the index of the maximum and minimum values in the array."
   ]
  },
  {
   "cell_type": "code",
   "execution_count": 43,
   "metadata": {},
   "outputs": [
    {
     "data": {
      "text/plain": [
       "4"
      ]
     },
     "execution_count": 43,
     "metadata": {},
     "output_type": "execute_result"
    }
   ],
   "source": [
    "a.argmax()"
   ]
  },
  {
   "cell_type": "code",
   "execution_count": null,
   "metadata": {},
   "outputs": [],
   "source": [
    "a.argmin()"
   ]
  },
  {
   "cell_type": "markdown",
   "metadata": {},
   "source": [
    "<br>\n",
    "## Indexing / Slicing"
   ]
  },
  {
   "cell_type": "code",
   "execution_count": 46,
   "metadata": {},
   "outputs": [
    {
     "data": {
      "text/plain": [
       "array([  0,   1,   4,   9,  16,  25,  36,  49,  64,  81, 100, 121, 144])"
      ]
     },
     "execution_count": 46,
     "metadata": {},
     "output_type": "execute_result"
    }
   ],
   "source": [
    "s = np.arange(0,13,1)**2\n",
    "s"
   ]
  },
  {
   "cell_type": "markdown",
   "metadata": {},
   "source": [
    "<br>\n",
    "Use bracket notation to get the value at a specific index. Remember that indexing starts at 0."
   ]
  },
  {
   "cell_type": "code",
   "execution_count": 45,
   "metadata": {},
   "outputs": [
    {
     "data": {
      "text/plain": [
       "(0, 16, 144)"
      ]
     },
     "execution_count": 45,
     "metadata": {},
     "output_type": "execute_result"
    }
   ],
   "source": [
    "s[0], s[4], s[-1]"
   ]
  },
  {
   "cell_type": "markdown",
   "metadata": {},
   "source": [
    "<br>\n",
    "Use `:` to indicate a range. `array[start:stop]`\n",
    "\n",
    "\n",
    "Leaving `start` or `stop` empty will default to the beginning/end of the array."
   ]
  },
  {
   "cell_type": "code",
   "execution_count": 47,
   "metadata": {},
   "outputs": [
    {
     "data": {
      "text/plain": [
       "array([ 1,  4,  9, 16])"
      ]
     },
     "execution_count": 47,
     "metadata": {},
     "output_type": "execute_result"
    }
   ],
   "source": [
    "s[1:5]"
   ]
  },
  {
   "cell_type": "markdown",
   "metadata": {},
   "source": [
    "<br>\n",
    "Use negatives to count from the back."
   ]
  },
  {
   "cell_type": "code",
   "execution_count": 48,
   "metadata": {},
   "outputs": [
    {
     "data": {
      "text/plain": [
       "array([ 81, 100, 121, 144])"
      ]
     },
     "execution_count": 48,
     "metadata": {},
     "output_type": "execute_result"
    }
   ],
   "source": [
    "s[-4:]"
   ]
  },
  {
   "cell_type": "markdown",
   "metadata": {},
   "source": [
    "<br>\n",
    "A second `:` can be used to indicate step-size. `array[start:stop:stepsize]`\n",
    "\n",
    "Here we are starting 5th element from the end, and counting backwards by 2 until the beginning of the array is reached."
   ]
  },
  {
   "cell_type": "code",
   "execution_count": 50,
   "metadata": {},
   "outputs": [
    {
     "data": {
      "text/plain": [
       "array([64, 25,  4])"
      ]
     },
     "execution_count": 50,
     "metadata": {},
     "output_type": "execute_result"
    }
   ],
   "source": [
    "s[-5::-3]"
   ]
  },
  {
   "cell_type": "markdown",
   "metadata": {},
   "source": [
    "<br>\n",
    "Let's look at a multidimensional array."
   ]
  },
  {
   "cell_type": "code",
   "execution_count": 52,
   "metadata": {},
   "outputs": [
    {
     "data": {
      "text/plain": [
       "array([[ 0,  1,  2,  3,  4,  5],\n",
       "       [ 6,  7,  8,  9, 10, 11],\n",
       "       [12, 13, 14, 15, 16, 17],\n",
       "       [18, 19, 20, 21, 22, 23],\n",
       "       [24, 25, 26, 27, 28, 29],\n",
       "       [30, 31, 32, 33, 34, 35]])"
      ]
     },
     "execution_count": 52,
     "metadata": {},
     "output_type": "execute_result"
    }
   ],
   "source": [
    "r = np.arange(36)\n",
    "r.resize((6, 6))\n",
    "r"
   ]
  },
  {
   "cell_type": "markdown",
   "metadata": {},
   "source": [
    "<br>\n",
    "Use bracket notation to slice: `array[row, column]`"
   ]
  },
  {
   "cell_type": "code",
   "execution_count": 53,
   "metadata": {},
   "outputs": [
    {
     "data": {
      "text/plain": [
       "14"
      ]
     },
     "execution_count": 53,
     "metadata": {},
     "output_type": "execute_result"
    }
   ],
   "source": [
    "r[2, 2]"
   ]
  },
  {
   "cell_type": "markdown",
   "metadata": {},
   "source": [
    "<br>\n",
    "And use : to select a range of rows or columns"
   ]
  },
  {
   "cell_type": "code",
   "execution_count": 55,
   "metadata": {},
   "outputs": [
    {
     "data": {
      "text/plain": [
       "array([21, 22, 23])"
      ]
     },
     "execution_count": 55,
     "metadata": {},
     "output_type": "execute_result"
    }
   ],
   "source": [
    "r[3, 3:7]"
   ]
  },
  {
   "cell_type": "markdown",
   "metadata": {},
   "source": [
    "<br>\n",
    "Here we are selecting all the rows up to (and not including) row 2, and all the columns up to (and not including) the last column."
   ]
  },
  {
   "cell_type": "code",
   "execution_count": 56,
   "metadata": {},
   "outputs": [
    {
     "data": {
      "text/plain": [
       "array([[ 0,  1,  2,  3,  4],\n",
       "       [ 6,  7,  8,  9, 10]])"
      ]
     },
     "execution_count": 56,
     "metadata": {},
     "output_type": "execute_result"
    }
   ],
   "source": [
    "r[:2, :-1]"
   ]
  },
  {
   "cell_type": "markdown",
   "metadata": {},
   "source": [
    "<br>\n",
    "This is a slice of the last row, and only every other element."
   ]
  },
  {
   "cell_type": "code",
   "execution_count": 58,
   "metadata": {},
   "outputs": [
    {
     "data": {
      "text/plain": [
       "array([30, 32, 34])"
      ]
     },
     "execution_count": 58,
     "metadata": {},
     "output_type": "execute_result"
    }
   ],
   "source": [
    "r[-1, 0:-1:2]"
   ]
  },
  {
   "cell_type": "markdown",
   "metadata": {},
   "source": [
    "<br>\n",
    "We can also perform conditional indexing. Here we are selecting values from the array that are greater than 30. (Also see `np.where`)"
   ]
  },
  {
   "cell_type": "code",
   "execution_count": 59,
   "metadata": {},
   "outputs": [
    {
     "data": {
      "text/plain": [
       "array([31, 32, 33, 34, 35])"
      ]
     },
     "execution_count": 59,
     "metadata": {},
     "output_type": "execute_result"
    }
   ],
   "source": [
    "r[r > 30]"
   ]
  },
  {
   "cell_type": "markdown",
   "metadata": {},
   "source": [
    "<br>\n",
    "Here we are assigning all values in the array that are greater than 30 to the value of 30."
   ]
  },
  {
   "cell_type": "code",
   "execution_count": 60,
   "metadata": {},
   "outputs": [
    {
     "data": {
      "text/plain": [
       "array([[ 0,  1,  2,  3,  4,  5],\n",
       "       [ 6,  7,  8,  9, 10, 11],\n",
       "       [12, 13, 14, 15, 16, 17],\n",
       "       [18, 19, 20, 21, 22, 23],\n",
       "       [24, 25, 26, 27, 28, 29],\n",
       "       [30, 30, 30, 30, 30, 30]])"
      ]
     },
     "execution_count": 60,
     "metadata": {},
     "output_type": "execute_result"
    }
   ],
   "source": [
    "r[r > 30] = 30\n",
    "r"
   ]
  },
  {
   "cell_type": "markdown",
   "metadata": {},
   "source": [
    "<br>\n",
    "## Copying Data"
   ]
  },
  {
   "cell_type": "markdown",
   "metadata": {},
   "source": [
    "Be careful with copying and modifying arrays in NumPy!\n",
    "\n",
    "\n",
    "`r2` is a slice of `r`"
   ]
  },
  {
   "cell_type": "code",
   "execution_count": 61,
   "metadata": {},
   "outputs": [
    {
     "data": {
      "text/plain": [
       "array([[ 0,  1,  2],\n",
       "       [ 6,  7,  8],\n",
       "       [12, 13, 14]])"
      ]
     },
     "execution_count": 61,
     "metadata": {},
     "output_type": "execute_result"
    }
   ],
   "source": [
    "r2 = r[:3,:3]\n",
    "r2"
   ]
  },
  {
   "cell_type": "markdown",
   "metadata": {},
   "source": [
    "<br>\n",
    "Set this slice's values to zero ([:] selects the entire array)"
   ]
  },
  {
   "cell_type": "code",
   "execution_count": 62,
   "metadata": {},
   "outputs": [
    {
     "data": {
      "text/plain": [
       "array([[0, 0, 0],\n",
       "       [0, 0, 0],\n",
       "       [0, 0, 0]])"
      ]
     },
     "execution_count": 62,
     "metadata": {},
     "output_type": "execute_result"
    }
   ],
   "source": [
    "r2[:] = 0\n",
    "r2"
   ]
  },
  {
   "cell_type": "markdown",
   "metadata": {},
   "source": [
    "<br>\n",
    "`r` has also been changed!"
   ]
  },
  {
   "cell_type": "code",
   "execution_count": 63,
   "metadata": {},
   "outputs": [
    {
     "data": {
      "text/plain": [
       "array([[ 0,  0,  0,  3,  4,  5],\n",
       "       [ 0,  0,  0,  9, 10, 11],\n",
       "       [ 0,  0,  0, 15, 16, 17],\n",
       "       [18, 19, 20, 21, 22, 23],\n",
       "       [24, 25, 26, 27, 28, 29],\n",
       "       [30, 30, 30, 30, 30, 30]])"
      ]
     },
     "execution_count": 63,
     "metadata": {},
     "output_type": "execute_result"
    }
   ],
   "source": [
    "r"
   ]
  },
  {
   "cell_type": "markdown",
   "metadata": {},
   "source": [
    "<br>\n",
    "To avoid this, use `r.copy` to create a copy that will not affect the original array"
   ]
  },
  {
   "cell_type": "code",
   "execution_count": 64,
   "metadata": {},
   "outputs": [
    {
     "data": {
      "text/plain": [
       "array([[ 0,  0,  0,  3,  4,  5],\n",
       "       [ 0,  0,  0,  9, 10, 11],\n",
       "       [ 0,  0,  0, 15, 16, 17],\n",
       "       [18, 19, 20, 21, 22, 23],\n",
       "       [24, 25, 26, 27, 28, 29],\n",
       "       [30, 30, 30, 30, 30, 30]])"
      ]
     },
     "execution_count": 64,
     "metadata": {},
     "output_type": "execute_result"
    }
   ],
   "source": [
    "r_copy = r.copy()\n",
    "r_copy"
   ]
  },
  {
   "cell_type": "markdown",
   "metadata": {},
   "source": [
    "<br>\n",
    "Now when r_copy is modified, r will not be changed."
   ]
  },
  {
   "cell_type": "code",
   "execution_count": 65,
   "metadata": {},
   "outputs": [
    {
     "name": "stdout",
     "output_type": "stream",
     "text": [
      "[[10 10 10 10 10 10]\n",
      " [10 10 10 10 10 10]\n",
      " [10 10 10 10 10 10]\n",
      " [10 10 10 10 10 10]\n",
      " [10 10 10 10 10 10]\n",
      " [10 10 10 10 10 10]] \n",
      "\n",
      "[[ 0  0  0  3  4  5]\n",
      " [ 0  0  0  9 10 11]\n",
      " [ 0  0  0 15 16 17]\n",
      " [18 19 20 21 22 23]\n",
      " [24 25 26 27 28 29]\n",
      " [30 30 30 30 30 30]]\n"
     ]
    }
   ],
   "source": [
    "r_copy[:] = 10\n",
    "print(r_copy, '\\n')\n",
    "print(r)"
   ]
  },
  {
   "cell_type": "markdown",
   "metadata": {},
   "source": [
    "<br>\n",
    "### Iterating Over Arrays"
   ]
  },
  {
   "cell_type": "markdown",
   "metadata": {},
   "source": [
    "Let's create a new 4 by 3 array of random numbers 0-9."
   ]
  },
  {
   "cell_type": "code",
   "execution_count": 76,
   "metadata": {},
   "outputs": [
    {
     "data": {
      "text/plain": [
       "array([[8, 1, 0],\n",
       "       [1, 3, 7],\n",
       "       [4, 8, 5],\n",
       "       [1, 0, 3]])"
      ]
     },
     "execution_count": 76,
     "metadata": {},
     "output_type": "execute_result"
    }
   ],
   "source": [
    "test = np.random.randint(0,10,(4,3))\n",
    "test"
   ]
  },
  {
   "cell_type": "markdown",
   "metadata": {},
   "source": [
    "<br>\n",
    "Iterate by row:"
   ]
  },
  {
   "cell_type": "code",
   "execution_count": 68,
   "metadata": {},
   "outputs": [
    {
     "name": "stdout",
     "output_type": "stream",
     "text": [
      "[1 4 2]\n",
      "[4 2 1]\n",
      "[8 5 5]\n",
      "[4 8 9]\n"
     ]
    }
   ],
   "source": [
    "for row in test:\n",
    "    print(row)"
   ]
  },
  {
   "cell_type": "markdown",
   "metadata": {},
   "source": [
    "<br>\n",
    "Iterate by index:"
   ]
  },
  {
   "cell_type": "code",
   "execution_count": 69,
   "metadata": {},
   "outputs": [
    {
     "name": "stdout",
     "output_type": "stream",
     "text": [
      "[1 4 2]\n",
      "[4 2 1]\n",
      "[8 5 5]\n",
      "[4 8 9]\n"
     ]
    }
   ],
   "source": [
    "for i in range(len(test)):\n",
    "    print(test[i])"
   ]
  },
  {
   "cell_type": "markdown",
   "metadata": {},
   "source": [
    "<br>\n",
    "Iterate by row and index:"
   ]
  },
  {
   "cell_type": "code",
   "execution_count": 78,
   "metadata": {},
   "outputs": [
    {
     "name": "stdout",
     "output_type": "stream",
     "text": [
      "row 0 is [8 1 0]\n",
      "row 1 is [1 3 7]\n",
      "row 2 is [4 8 5]\n",
      "row 3 is [1 0 3]\n"
     ]
    }
   ],
   "source": [
    "for i, row in enumerate(test):\n",
    "    print('row', i, 'is', row)"
   ]
  },
  {
   "cell_type": "markdown",
   "metadata": {},
   "source": [
    "<br>\n",
    "Use `zip` to iterate over multiple iterables."
   ]
  },
  {
   "cell_type": "code",
   "execution_count": 70,
   "metadata": {},
   "outputs": [
    {
     "data": {
      "text/plain": [
       "array([[ 1, 16,  4],\n",
       "       [16,  4,  1],\n",
       "       [64, 25, 25],\n",
       "       [16, 64, 81]])"
      ]
     },
     "execution_count": 70,
     "metadata": {},
     "output_type": "execute_result"
    }
   ],
   "source": [
    "test2 = test**2\n",
    "test2"
   ]
  },
  {
   "cell_type": "code",
   "execution_count": 82,
   "metadata": {},
   "outputs": [
    {
     "name": "stdout",
     "output_type": "stream",
     "text": [
      "[8 1 0] + [ 1 16  4] = [ 9 17  4]\n",
      "[1 3 7] + [16  4  1] = [17  7  8]\n",
      "[4 8 5] + [64 25 25] = [68 33 30]\n",
      "[1 0 3] + [16 64 81] = [17 64 84]\n"
     ]
    }
   ],
   "source": [
    "for i, j in zip(test, test2):\n",
    "    print(i,'+',j,'=',i+j)"
   ]
  },
  {
   "cell_type": "code",
   "execution_count": null,
   "metadata": {
    "collapsed": true
   },
   "outputs": [],
   "source": []
  }
 ],
 "metadata": {
  "kernelspec": {
   "display_name": "Python 3",
   "language": "python",
   "name": "python3"
  },
  "language_info": {
   "codemirror_mode": {
    "name": "ipython",
    "version": 3
   },
   "file_extension": ".py",
   "mimetype": "text/x-python",
   "name": "python",
   "nbconvert_exporter": "python",
   "pygments_lexer": "ipython3",
   "version": "3.7.1"
  }
 },
 "nbformat": 4,
 "nbformat_minor": 1
}
