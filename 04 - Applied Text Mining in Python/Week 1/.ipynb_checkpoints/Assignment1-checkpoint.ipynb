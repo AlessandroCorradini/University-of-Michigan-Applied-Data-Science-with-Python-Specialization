{
 "cells": [
  {
   "cell_type": "markdown",
   "metadata": {},
   "source": [
    "---\n",
    "\n",
    "_You are currently looking at **version 1.1** of this notebook. To download notebooks and datafiles, as well as get help on Jupyter notebooks in the Coursera platform, visit the [Jupyter Notebook FAQ](https://www.coursera.org/learn/python-text-mining/resources/d9pwm) course resource._\n",
    "\n",
    "---"
   ]
  },
  {
   "cell_type": "markdown",
   "metadata": {},
   "source": [
    "# Assignment 1\n",
    "\n",
    "In this assignment, you'll be working with messy medical data and using regex to extract relevant infromation from the data. \n",
    "\n",
    "Each line of the `dates.txt` file corresponds to a medical note. Each note has a date that needs to be extracted, but each date is encoded in one of many formats.\n",
    "\n",
    "The goal of this assignment is to correctly identify all of the different date variants encoded in this dataset and to properly normalize and sort the dates. \n",
    "\n",
    "Here is a list of some of the variants you might encounter in this dataset:\n",
    "* 04/20/2009; 04/20/09; 4/20/09; 4/3/09\n",
    "* Mar-20-2009; Mar 20, 2009; March 20, 2009;  Mar. 20, 2009; Mar 20 2009;\n",
    "* 20 Mar 2009; 20 March 2009; 20 Mar. 2009; 20 March, 2009\n",
    "* Mar 20th, 2009; Mar 21st, 2009; Mar 22nd, 2009\n",
    "* Feb 2009; Sep 2009; Oct 2010\n",
    "* 6/2008; 12/2009\n",
    "* 2009; 2010\n",
    "\n",
    "Once you have extracted these date patterns from the text, the next step is to sort them in ascending chronological order accoring to the following rules:\n",
    "* Assume all dates in xx/xx/xx format are mm/dd/yy\n",
    "* Assume all dates where year is encoded in only two digits are years from the 1900's (e.g. 1/5/89 is January 5th, 1989)\n",
    "* If the day is missing (e.g. 9/2009), assume it is the first day of the month (e.g. September 1, 2009).\n",
    "* If the month is missing (e.g. 2010), assume it is the first of January of that year (e.g. January 1, 2010).\n",
    "* Watch out for potential typos as this is a raw, real-life derived dataset.\n",
    "\n",
    "With these rules in mind, find the correct date in each note and return a pandas Series in chronological order of the original Series' indices.\n",
    "\n",
    "For example if the original series was this:\n",
    "\n",
    "    0    1999\n",
    "    1    2010\n",
    "    2    1978\n",
    "    3    2015\n",
    "    4    1985\n",
    "\n",
    "Your function should return this:\n",
    "\n",
    "    0    2\n",
    "    1    4\n",
    "    2    0\n",
    "    3    1\n",
    "    4    3\n",
    "\n",
    "Your score will be calculated using [Kendall's tau](https://en.wikipedia.org/wiki/Kendall_rank_correlation_coefficient), a correlation measure for ordinal data.\n",
    "\n",
    "*This function should return a Series of length 500 and dtype int.*"
   ]
  },
  {
   "cell_type": "code",
   "execution_count": 1,
   "metadata": {},
   "outputs": [
    {
     "data": {
      "text/plain": [
       "0         03/25/93 Total time of visit (in minutes):\\n\n",
       "1                       6/18/85 Primary Care Doctor:\\n\n",
       "2    sshe plans to move as of 7/8/71 In-Home Servic...\n",
       "3                7 on 9/27/75 Audit C Score Current:\\n\n",
       "4    2/6/96 sleep studyPain Treatment Pain Level (N...\n",
       "5                    .Per 7/06/79 Movement D/O note:\\n\n",
       "6    4, 5/18/78 Patient's thoughts about current su...\n",
       "7    10/24/89 CPT Code: 90801 - Psychiatric Diagnos...\n",
       "8                         3/7/86 SOS-10 Total Score:\\n\n",
       "9             (4/10/71)Score-1Audit C Score Current:\\n\n",
       "dtype: object"
      ]
     },
     "execution_count": 1,
     "metadata": {},
     "output_type": "execute_result"
    }
   ],
   "source": [
    "# Load the data\n",
    "# Reference: https://necromuralist.github.io/data_science/posts/extracting-dates-from-medical-data/\n",
    "import pandas\n",
    "\n",
    "doc = []\n",
    "with open('dates.txt') as file:\n",
    "    for line in file:\n",
    "        doc.append(line)\n",
    "\n",
    "data = pandas.Series(doc)\n",
    "data.head(10)"
   ]
  },
  {
   "cell_type": "code",
   "execution_count": 2,
   "metadata": {},
   "outputs": [
    {
     "data": {
      "text/plain": [
       "count                                                   500\n",
       "unique                                                  500\n",
       "top       1979 Family Psych History: Family History of S...\n",
       "freq                                                      1\n",
       "dtype: object"
      ]
     },
     "execution_count": 2,
     "metadata": {},
     "output_type": "execute_result"
    }
   ],
   "source": [
    "data.describe()"
   ]
  },
  {
   "cell_type": "code",
   "execution_count": 3,
   "metadata": {
    "collapsed": true
   },
   "outputs": [],
   "source": [
    "# 4 The Grammar\n",
    "# 4.1 Cardinality\n",
    "ZERO_OR_MORE = '*'\n",
    "ONE_OR_MORE = \"+\"\n",
    "ZERO_OR_ONE = '?'\n",
    "EXACTLY_TWO = \"{2}\"\n",
    "ONE_OR_TWO = \"{1,2}\"\n",
    "EXACTLY_ONE = '{1}'"
   ]
  },
  {
   "cell_type": "code",
   "execution_count": 4,
   "metadata": {
    "collapsed": true
   },
   "outputs": [],
   "source": [
    "# 4.2 Groups and Classes\n",
    "GROUP = r\"({})\"\n",
    "NAMED = r\"(?P<{}>{})\"\n",
    "CLASS = \"[{}]\"\n",
    "NEGATIVE_LOOKAHEAD = \"(?!{})\"\n",
    "NEGATIVE_LOOKBEHIND = \"(?<!{})\"\n",
    "POSITIVE_LOOKAHEAD = \"(?={})\"\n",
    "POSITIVE_LOOKBEHIND = \"(?<={})\"\n",
    "ESCAPE = \"\\{}\""
   ]
  },
  {
   "cell_type": "code",
   "execution_count": 5,
   "metadata": {
    "collapsed": true
   },
   "outputs": [],
   "source": [
    "# 4.3 Numbers\n",
    "DIGIT = r\"\\d\"\n",
    "ONE_DIGIT  = DIGIT + EXACTLY_ONE\n",
    "ONE_OR_TWO_DIGITS = DIGIT + ONE_OR_TWO\n",
    "NON_DIGIT = NEGATIVE_LOOKAHEAD.format(DIGIT)\n",
    "TWO_DIGITS = DIGIT + EXACTLY_TWO\n",
    "THREE_DIGITS = DIGIT + \"{3}\"\n",
    "EXACTLY_TWO_DIGITS = DIGIT + EXACTLY_TWO + NON_DIGIT\n",
    "FOUR_DIGITS = DIGIT + r\"{4}\" + NON_DIGIT"
   ]
  },
  {
   "cell_type": "code",
   "execution_count": 6,
   "metadata": {
    "collapsed": true
   },
   "outputs": [],
   "source": [
    "# 4.4 String Literals\n",
    "SLASH = r\"/\"\n",
    "OR = r'|'\n",
    "LOWER_CASE = \"a-z\"\n",
    "SPACE = \"\\s\"\n",
    "DOT = \".\"\n",
    "DASH = \"-\"\n",
    "COMMA = \",\"\n",
    "PUNCTUATION = CLASS.format(DOT + COMMA + DASH)\n",
    "EMPTY_STRING = \"\""
   ]
  },
  {
   "cell_type": "code",
   "execution_count": 7,
   "metadata": {
    "collapsed": true
   },
   "outputs": [],
   "source": [
    "# 4.5 Dates\n",
    "# These are parts to build up the date-expressions.\n",
    "MONTH_SUFFIX = (CLASS.format(LOWER_CASE) + ZERO_OR_MORE\n",
    "                + CLASS.format(SPACE + DOT + COMMA + DASH) + ONE_OR_TWO)\n",
    "MONTH_PREFIXES = \"Jan Feb Mar Apr May Jun Jul Aug Sep Oct Nov Dec\".split()\n",
    "MONTHS = [month + MONTH_SUFFIX for month in MONTH_PREFIXES]\n",
    "MONTHS = GROUP.format(OR.join(MONTHS))\n",
    "DAY_SUFFIX = CLASS.format(DASH + COMMA + SPACE) + ONE_OR_TWO\n",
    "DAYS = ONE_OR_TWO_DIGITS + DAY_SUFFIX\n",
    "YEAR = FOUR_DIGITS"
   ]
  },
  {
   "cell_type": "code",
   "execution_count": 8,
   "metadata": {
    "collapsed": true
   },
   "outputs": [],
   "source": [
    "# This is for dates like Mar 21st, 2009, those with suffixes on the days.\n",
    "CONTRACTED = (ONE_OR_TWO_DIGITS\n",
    "              + LOWER_CASE\n",
    "              + EXACTLY_TWO\n",
    "              )\n",
    "CONTRACTION = NAMED.format(\"contraction\",\n",
    "                           MONTHS\n",
    "                           + CONTRACTED\n",
    "                           + DAY_SUFFIX\n",
    "                           + YEAR)"
   ]
  },
  {
   "cell_type": "code",
   "execution_count": 9,
   "metadata": {
    "collapsed": true
   },
   "outputs": [],
   "source": [
    "# This is for dates that have no days in them, like May 2009.\n",
    "NO_DAY_BEHIND = NEGATIVE_LOOKBEHIND.format(DIGIT + SPACE)\n",
    "NO_DAY = NAMED.format(\"no_day\", NO_DAY_BEHIND + MONTHS + YEAR)"
   ]
  },
  {
   "cell_type": "code",
   "execution_count": 10,
   "metadata": {
    "collapsed": true
   },
   "outputs": [],
   "source": [
    "# This is for the most common form (that I use) - May 21, 2017.\n",
    "WORDS = NAMED.format(\"words\", MONTHS + DAYS + YEAR)"
   ]
  },
  {
   "cell_type": "code",
   "execution_count": 11,
   "metadata": {
    "collapsed": true
   },
   "outputs": [],
   "source": [
    "BACKWARDS = NAMED.format(\"backwards\", ONE_OR_TWO_DIGITS + SPACE + MONTHS + YEAR)"
   ]
  },
  {
   "cell_type": "code",
   "execution_count": 12,
   "metadata": {
    "collapsed": true
   },
   "outputs": [],
   "source": [
    "slashed = SLASH.join([ONE_OR_TWO_DIGITS,\n",
    "                      ONE_OR_TWO_DIGITS,\n",
    "                      EXACTLY_TWO_DIGITS])\n",
    "dashed = DASH.join([ONE_OR_TWO_DIGITS,\n",
    "                    ONE_OR_TWO_DIGITS,\n",
    "                    EXACTLY_TWO_DIGITS])\n",
    "TWENTIETH_CENTURY = NAMED.format(\"twentieth\",\n",
    "                                 OR.join([slashed, dashed]))"
   ]
  },
  {
   "cell_type": "code",
   "execution_count": 13,
   "metadata": {
    "collapsed": true
   },
   "outputs": [],
   "source": [
    "NUMERIC = NAMED.format(\"numeric\",\n",
    "                       SLASH.join([ONE_OR_TWO_DIGITS,\n",
    "                                   ONE_OR_TWO_DIGITS,\n",
    "                                   FOUR_DIGITS]))"
   ]
  },
  {
   "cell_type": "code",
   "execution_count": 14,
   "metadata": {
    "collapsed": true
   },
   "outputs": [],
   "source": [
    "NO_PRECEDING_SLASH = NEGATIVE_LOOKBEHIND.format(SLASH)\n",
    "NO_PRECEDING_SLASH_DIGIT = NEGATIVE_LOOKBEHIND.format(CLASS.format(SLASH + DIGIT))\n",
    "NO_ONE_DAY = (NO_PRECEDING_SLASH_DIGIT\n",
    "              + ONE_DIGIT\n",
    "              + SLASH\n",
    "              + FOUR_DIGITS)\n",
    "NO_TWO_DAYS = (NO_PRECEDING_SLASH\n",
    "               + TWO_DIGITS\n",
    "               + SLASH\n",
    "               + FOUR_DIGITS)\n",
    "NO_DAY_NUMERIC = NAMED.format(\"no_day_numeric\",\n",
    "                              NO_ONE_DAY\n",
    "                              + OR\n",
    "                              + NO_TWO_DAYS\n",
    "                              )"
   ]
  },
  {
   "cell_type": "code",
   "execution_count": 15,
   "metadata": {
    "collapsed": true
   },
   "outputs": [],
   "source": [
    "CENTURY = GROUP.format('19' + OR + \"20\") + TWO_DIGITS\n",
    "DIGIT_SLASH = DIGIT + SLASH\n",
    "DIGIT_DASH = DIGIT + DASH\n",
    "DIGIT_SPACE = DIGIT + SPACE\n",
    "LETTER_SPACE = CLASS.format(LOWER_CASE) + SPACE\n",
    "COMMA_SPACE = COMMA + SPACE\n",
    "YEAR_PREFIX = NEGATIVE_LOOKBEHIND.format(OR.join([\n",
    "    DIGIT_SLASH,\n",
    "    DIGIT_DASH,\n",
    "    DIGIT_SPACE,\n",
    "    LETTER_SPACE,\n",
    "    COMMA_SPACE,\n",
    "]))\n",
    "\n",
    "YEAR_ONLY = NAMED.format(\"year_only\",\n",
    "                         YEAR_PREFIX + CENTURY\n",
    ")"
   ]
  },
  {
   "cell_type": "code",
   "execution_count": 16,
   "metadata": {
    "collapsed": true
   },
   "outputs": [],
   "source": [
    "IN_PREFIX = POSITIVE_LOOKBEHIND.format(CLASS.format('iI') + 'n' + SPACE) + CENTURY\n",
    "SINCE_PREFIX = POSITIVE_LOOKBEHIND.format(CLASS.format(\"Ss\") + 'ince' + SPACE) + CENTURY\n",
    "AGE = POSITIVE_LOOKBEHIND.format(\"Age\" + SPACE + TWO_DIGITS + COMMA + SPACE) + CENTURY\n",
    "AGE_COMMA = POSITIVE_LOOKBEHIND.format(\"Age\" + COMMA + SPACE + TWO_DIGITS + COMMA + SPACE) + CENTURY\n",
    "OTHERS = ['delivery', \"quit\", \"attempt\", \"nephrectomy\", THREE_DIGITS]\n",
    "OTHERS = [POSITIVE_LOOKBEHIND.format(label + SPACE) + CENTURY for label in OTHERS]\n",
    "OTHERS = OR.join(OTHERS)\n",
    "LEFTOVERS_PREFIX = OR.join([IN_PREFIX, SINCE_PREFIX, AGE, AGE_COMMA]) + OR + OTHERS\n",
    "LEFTOVERS = NAMED.format(\"leftovers\", LEFTOVERS_PREFIX)"
   ]
  },
  {
   "cell_type": "code",
   "execution_count": 17,
   "metadata": {
    "collapsed": true
   },
   "outputs": [],
   "source": [
    "DATE = NAMED.format(\"date\", OR.join([NUMERIC,\n",
    "                                     TWENTIETH_CENTURY,\n",
    "                                     WORDS,\n",
    "                                     BACKWARDS,\n",
    "                                     CONTRACTION,\n",
    "                                     NO_DAY,\n",
    "                                     NO_DAY_NUMERIC,\n",
    "                                     YEAR_ONLY,\n",
    "                                     LEFTOVERS]))"
   ]
  },
  {
   "cell_type": "code",
   "execution_count": 18,
   "metadata": {
    "collapsed": true
   },
   "outputs": [],
   "source": [
    "def twentieth_century(date):\n",
    "    \"\"\"adds a 19 to the year\n",
    "\n",
    "    Args:\n",
    "     date (re.Regex): Extracted date\n",
    "    \"\"\"\n",
    "    month, day, year = date.group(1).split(SLASH)\n",
    "    year = \"19{}\".format(year)\n",
    "    return SLASH.join([month, day, year])"
   ]
  },
  {
   "cell_type": "code",
   "execution_count": 19,
   "metadata": {
    "collapsed": true
   },
   "outputs": [],
   "source": [
    "def take_two(line):\n",
    "    match = re.search(TWENTIETH_CENTURY, line)\n",
    "    if match:\n",
    "        return twentieth_century(match)\n",
    "    return line"
   ]
  },
  {
   "cell_type": "code",
   "execution_count": 20,
   "metadata": {
    "collapsed": true
   },
   "outputs": [],
   "source": [
    "def extract_and_count(expression, data, name):\n",
    "    \"\"\"extract all matches and report the count\n",
    "\n",
    "    Args:\n",
    "     expression (str): regular expression to match\n",
    "     data (pandas.Series): data with dates to extratc\n",
    "     name (str): name of the group for the expression\n",
    "\n",
    "    Returns:\n",
    "     tuple (pandas.Series, int): extracted dates, count\n",
    "    \"\"\"\n",
    "    extracted = data.str.extractall(expression)[name]\n",
    "    count = len(extracted)\n",
    "    print(\"'{}' matched {} rows\".format(name, count))\n",
    "    return extracted, count"
   ]
  },
  {
   "cell_type": "code",
   "execution_count": 21,
   "metadata": {},
   "outputs": [
    {
     "name": "stdout",
     "output_type": "stream",
     "text": [
      "'numeric' matched 25 rows\n",
      "'twentieth' matched 100 rows\n",
      "'words' matched 34 rows\n",
      "'backwards' matched 69 rows\n",
      "'contraction' matched 0 rows\n",
      "'no_day' matched 115 rows\n",
      "'no_day_numeric' matched 112 rows\n",
      "'year_only' matched 15 rows\n",
      "'leftovers' matched 30 rows\n"
     ]
    }
   ],
   "source": [
    "numeric, numeric_count = extract_and_count(NUMERIC, data, 'numeric')\n",
    "# 'numeric' matched 25 rows\n",
    "twentieth, twentieth_count = extract_and_count(TWENTIETH_CENTURY, data, 'twentieth')\n",
    "# 'twentieth' matched 100 rows\n",
    "words, words_count = extract_and_count(WORDS, data, 'words')\n",
    "# 'words' matched 34 rows\n",
    "backwards, backwards_count = extract_and_count(BACKWARDS, data, 'backwards')\n",
    "# 'backwards' matched 69 rows\n",
    "contraction_data, contraction = extract_and_count(CONTRACTION, data, 'contraction')\n",
    "# 'contraction' matched 0 rows\n",
    "no_day, no_day_count = extract_and_count(NO_DAY, data, 'no_day')\n",
    "# 'no_day' matched 115 rows\n",
    "no_day_numeric, no_day_numeric_count = extract_and_count(NO_DAY_NUMERIC, data,\n",
    "                                                         \"no_day_numeric\")\n",
    "# 'no_day_numeric' matched 112 rows\n",
    "year_only, year_only_count = extract_and_count(YEAR_ONLY, data, \"year_only\")\n",
    "# 'year_only' matched 15 rows\n",
    "leftovers, leftovers_count = extract_and_count(LEFTOVERS, data, \"leftovers\")\n",
    "# 'leftovers' matched 30 rows"
   ]
  },
  {
   "cell_type": "code",
   "execution_count": 22,
   "metadata": {},
   "outputs": [
    {
     "name": "stdout",
     "output_type": "stream",
     "text": [
      "Total Found: 500\n",
      "Remaining: 0\n",
      "Discrepancy: 0\n"
     ]
    }
   ],
   "source": [
    "found = data.str.extractall(DATE)\n",
    "total_found = len(found.date)\n",
    "\n",
    "print(\"Total Found: {}\".format(total_found))\n",
    "print(\"Remaining: {}\".format(len(data) - total_found))\n",
    "print(\"Discrepancy: {}\".format(total_found - (numeric_count\n",
    "                                              + twentieth_count\n",
    "                                              + words_count\n",
    "                                              + backwards_count\n",
    "                                              + contraction\n",
    "                                              + no_day_count\n",
    "                                              + no_day_numeric_count\n",
    "                                              + year_only_count\n",
    "                                              + leftovers_count)))"
   ]
  },
  {
   "cell_type": "code",
   "execution_count": 23,
   "metadata": {
    "collapsed": true
   },
   "outputs": [],
   "source": [
    "# Total Found: 500\n",
    "# Remaining: 0\n",
    "# Discrepancy: 0"
   ]
  },
  {
   "cell_type": "code",
   "execution_count": 24,
   "metadata": {},
   "outputs": [
    {
     "name": "stdout",
     "output_type": "stream",
     "text": [
      "all rows matched\n"
     ]
    }
   ],
   "source": [
    "missing = [label for label in data.index if label not in found.index.levels[0]]\n",
    "try:\n",
    "    print(missing[0], data.loc[missing[0]])\n",
    "except IndexError:\n",
    "    print(\"all rows matched\")"
   ]
  },
  {
   "cell_type": "code",
   "execution_count": 25,
   "metadata": {
    "collapsed": true
   },
   "outputs": [],
   "source": [
    "# all rows matched"
   ]
  },
  {
   "cell_type": "code",
   "execution_count": 26,
   "metadata": {
    "collapsed": true
   },
   "outputs": [],
   "source": [
    "def clean(source, expression, replacement, sample=5):\n",
    "    \"\"\"applies the replacement to the source\n",
    "\n",
    "    as a side-effect shows sample rows before and after\n",
    "\n",
    "    Args:\n",
    "     source (pandas.Series): source of the strings\n",
    "     expression (str): regular expression to match what to replace\n",
    "     replacement: function or expression to replace the matching expression\n",
    "     sample (int): number of randomly chosen examples to show\n",
    "\n",
    "    Returns:\n",
    "     pandas.Series: the source with the replacement applied to it\n",
    "    \"\"\"\n",
    "    print(\"Random Sample Before:\")\n",
    "    print(source.sample(sample))\n",
    "    cleaned = source.str.replace(expression, replacement)\n",
    "    print(\"\\nRandom Sample After:\")\n",
    "    print(cleaned.sample(sample))\n",
    "    print(\"\\nCount of cleaned: {}\".format(len(cleaned)))\n",
    "    assert len(source) == len(cleaned)\n",
    "    return cleaned"
   ]
  },
  {
   "cell_type": "code",
   "execution_count": 27,
   "metadata": {
    "collapsed": true
   },
   "outputs": [],
   "source": [
    "def clean_punctuation(source, sample=5):\n",
    "    \"\"\"removes punctuation\n",
    "\n",
    "    Args:\n",
    "     source (pandas.Series): data to clean\n",
    "     sample (int): size of sample to show\n",
    "\n",
    "    Returns:\n",
    "     pandas.Series: source with punctuation removed\n",
    "    \"\"\"\n",
    "    print(\"Cleaning Punctuation\")\n",
    "    if any(source.str.contains(PUNCTUATION)):\n",
    "        source = clean(source, PUNCTUATION, EMPTY_STRING)\n",
    "    return source"
   ]
  },
  {
   "cell_type": "code",
   "execution_count": 28,
   "metadata": {
    "collapsed": true
   },
   "outputs": [],
   "source": [
    "LONG_TO_SHORT = dict(January=\"Jan\",\n",
    "                     February=\"Feb\",\n",
    "                     March=\"Mar\",\n",
    "                     April=\"Apr\",\n",
    "                     May=\"May\",\n",
    "                     June=\"Jun\",\n",
    "                     July=\"Jul\",\n",
    "                     August=\"Aug\",\n",
    "                     September=\"Sep\",\n",
    "                     October=\"Oct\",\n",
    "                     November=\"Nov\",\n",
    "                     December=\"Dec\")\n",
    "\n",
    "# it turns out there are spelling errors in the data so this has to be fuzzy\n",
    "LONG_TO_SHORT_EXPRESSION = OR.join([GROUP.format(month)\n",
    "                                    + CLASS.format(LOWER_CASE)\n",
    "                                    + ZERO_OR_MORE\n",
    "                                    for month in LONG_TO_SHORT.values()])\n",
    "\n",
    "def long_month_to_short(match):\n",
    "    \"\"\"convert long month to short\n",
    "\n",
    "    Args:\n",
    "     match (re.Match): object matching a long month\n",
    "\n",
    "    Returns:\n",
    "     str: shortened version of the month\n",
    "    \"\"\"\n",
    "    return match.group(match.lastindex)"
   ]
  },
  {
   "cell_type": "code",
   "execution_count": 29,
   "metadata": {
    "collapsed": true
   },
   "outputs": [],
   "source": [
    "def convert_long_months_to_short(source, sample=5):\n",
    "    \"\"\"convert long month names to short\n",
    "\n",
    "    Args:\n",
    "     source (pandas.Series): data with months\n",
    "     sample (int): size of sample to show\n",
    "\n",
    "    Returns:\n",
    "     pandas.Series: data with short months\n",
    "    \"\"\"\n",
    "    return clean(source,\n",
    "                 LONG_TO_SHORT_EXPRESSION,\n",
    "                 long_month_to_short)"
   ]
  },
  {
   "cell_type": "code",
   "execution_count": 30,
   "metadata": {
    "collapsed": true
   },
   "outputs": [],
   "source": [
    "def add_month_date(match):\n",
    "    \"\"\"adds 01/01 to years\n",
    "\n",
    "    Args:\n",
    "     match (re.Match): object that only matched a 4-digit year\n",
    "\n",
    "    Returns:\n",
    "     str: 01/01/YYYY\n",
    "    \"\"\"\n",
    "    return \"01/01/\" + match.group()\n"
   ]
  },
  {
   "cell_type": "code",
   "execution_count": 31,
   "metadata": {
    "collapsed": true
   },
   "outputs": [],
   "source": [
    "def add_january_one(source):\n",
    "    \"\"\"adds /01/01/ to year-only dates\n",
    "\n",
    "    Args:\n",
    "     source (pandas.Series): data with the dates\n",
    "\n",
    "    Returns:\n",
    "     pandas.Series: years in source with /01/01/ added\n",
    "    \"\"\"\n",
    "    return clean(source, YEAR_ONLY, add_month_date)"
   ]
  },
  {
   "cell_type": "code",
   "execution_count": 32,
   "metadata": {
    "collapsed": true
   },
   "outputs": [],
   "source": [
    "two_digit_expression = GROUP.format(ONE_OR_TWO_DIGITS) + POSITIVE_LOOKAHEAD.format(SLASH)\n",
    "\n",
    "def two_digits(match):\n",
    "    \"\"\"add a leading zero if needed\n",
    "\n",
    "    Args:\n",
    "     match (re.Match): match with one or two digits\n",
    "\n",
    "    Returns:\n",
    "     str: the matched string with leading zero if needed\n",
    "    \"\"\"\n",
    "    # for some reason the string-formatting raises an error if it's a string\n",
    "    # so cast it to an int\n",
    "    return \"{:02}\".format(int(match.group()))"
   ]
  },
  {
   "cell_type": "code",
   "execution_count": 33,
   "metadata": {
    "collapsed": true
   },
   "outputs": [],
   "source": [
    "def clean_two_digits(source, sample=5):\n",
    "    \"\"\"makes sure source has two-digits\n",
    "\n",
    "    Args:\n",
    "     source (pandas.Series): data with digit followed by slash\n",
    "     sample (int): number of samples to show\n",
    "\n",
    "    Returns:\n",
    "     pandas.Series: source with digits coerced to two digits\n",
    "    \"\"\"\n",
    "    return clean(source, two_digit_expression, two_digits, sample)"
   ]
  },
  {
   "cell_type": "code",
   "execution_count": 34,
   "metadata": {
    "collapsed": true
   },
   "outputs": [],
   "source": [
    "def clean_two_digits_isolated(source, sample=5):\n",
    "    \"\"\"cleans two digits that are standalone\n",
    "\n",
    "    Args:\n",
    "     source (pandas.Series): source of the data\n",
    "     sample (int): number of samples to show\n",
    "\n",
    "    Returns:\n",
    "     pandas.Series: converted data\n",
    "    \"\"\"\n",
    "    return clean(source, ONE_OR_TWO_DIGITS, two_digits, sample)"
   ]
  },
  {
   "cell_type": "code",
   "execution_count": 35,
   "metadata": {
    "collapsed": true
   },
   "outputs": [],
   "source": [
    "digits = (\"{:02}\".format(month) for month in range(1, 13))\n",
    "MONTH_TO_DIGITS = dict(zip(MONTH_PREFIXES, digits))\n",
    "SHORT_MONTHS_EXPRESSION = OR.join((GROUP.format(month) for month in MONTH_TO_DIGITS))\n",
    "def month_to_digits(match):\n",
    "    \"\"\"converts short month to digits\n",
    "\n",
    "    Args:\n",
    "     match (re.Match): object with short-month\n",
    "\n",
    "    Returns:\n",
    "     str: month as two-digit number (e.g. Jan -> 01)\n",
    "    \"\"\"\n",
    "    return MONTH_TO_DIGITS[match.group()]"
   ]
  },
  {
   "cell_type": "code",
   "execution_count": 36,
   "metadata": {
    "collapsed": true
   },
   "outputs": [],
   "source": [
    "def convert_short_month_to_digits(source, sample=5):\n",
    "    \"\"\"converts three-letter months to two-digits\n",
    "\n",
    "    Args:\n",
    "     source (pandas.Series): data with three-letter months\n",
    "     sample (int): number of samples to show\n",
    "\n",
    "    Returns:\n",
    "     pandas.Series: source with short-months coverted to digits\n",
    "    \"\"\"\n",
    "    return clean(source,\n",
    "                 SHORT_MONTHS_EXPRESSION,\n",
    "                 month_to_digits,\n",
    "                 sample)"
   ]
  },
  {
   "cell_type": "code",
   "execution_count": 37,
   "metadata": {
    "collapsed": true
   },
   "outputs": [],
   "source": [
    "def clean_months(source, sample=5):\n",
    "    \"\"\"clean up months (which start as words)\n",
    "\n",
    "    Args:\n",
    "     source (pandas.Series): source of the months\n",
    "     sample (int): number of random samples to show\n",
    "    \"\"\"\n",
    "    cleaned = clean_punctuation(source)\n",
    "\n",
    "    print(\"Converting long months to short\")\n",
    "    cleaned = clean(cleaned,\n",
    "                    LONG_TO_SHORT_EXPRESSION,\n",
    "                    long_month_to_short, sample)\n",
    "\n",
    "    print(\"Converting short months to digits\")\n",
    "    cleaned = clean(cleaned,\n",
    "                    SHORT_MONTHS_EXPRESSION,\n",
    "                    month_to_digits, sample)\n",
    "    return cleaned"
   ]
  },
  {
   "cell_type": "code",
   "execution_count": 38,
   "metadata": {
    "collapsed": true
   },
   "outputs": [],
   "source": [
    "def frame_to_series(frame, index_source, samples=5):\n",
    "    \"\"\"re-combines data-frame into a series\n",
    "\n",
    "    Args:\n",
    "     frame (pandas.DataFrame): frame with month, day, year columns\n",
    "     index_source (pandas.series): source to copy index from\n",
    "     samples (index): number of random entries to print when done\n",
    "\n",
    "    Returns:\n",
    "     pandas.Series: series with dates as month/day/year\n",
    "    \"\"\"\n",
    "    combined = frame.month + SLASH + frame.day + SLASH + frame.year\n",
    "    combined.index = index_source.index\n",
    "    print(combined.sample(samples))\n",
    "    return combined"
   ]
  },
  {
   "cell_type": "code",
   "execution_count": 39,
   "metadata": {},
   "outputs": [
    {
     "name": "stdout",
     "output_type": "stream",
     "text": [
      "Random Sample Before:\n",
      "     match\n",
      "496  0        2006\n",
      "472  0        2010\n",
      "486  0        1973\n",
      "495  0        1979\n",
      "497  0        2008\n",
      "Name: year_only, dtype: object\n",
      "\n",
      "Random Sample After:\n",
      "     match\n",
      "481  0        01/01/1974\n",
      "486  0        01/01/1973\n",
      "473  0        01/01/1975\n",
      "466  0        01/01/1981\n",
      "472  0        01/01/2010\n",
      "Name: year_only, dtype: object\n",
      "\n",
      "Count of cleaned: 15\n"
     ]
    }
   ],
   "source": [
    "year_only_cleaned = add_january_one(year_only)"
   ]
  },
  {
   "cell_type": "code",
   "execution_count": 40,
   "metadata": {
    "collapsed": true
   },
   "outputs": [],
   "source": [
    "# Random Sample Before:\n",
    "#      match\n",
    "# 472  0        2010\n",
    "# 495  0        1979\n",
    "# 497  0        2008\n",
    "# 481  0        1974\n",
    "# 486  0        1973\n",
    "# Name: year_only, dtype: object\n",
    "\n",
    "# Random Sample After:\n",
    "#      match\n",
    "# 495  0        01/01/1979\n",
    "# 470  0        01/01/1983\n",
    "# 462  0        01/01/1988\n",
    "# 481  0        01/01/1974\n",
    "# 480  0        01/01/2013\n",
    "# Name: year_only, dtype: object\n",
    "\n",
    "# Count of cleaned: 15"
   ]
  },
  {
   "cell_type": "code",
   "execution_count": 41,
   "metadata": {},
   "outputs": [
    {
     "name": "stdout",
     "output_type": "stream",
     "text": [
      "Random Sample Before:\n",
      "     match\n",
      "488  0        1977\n",
      "463  0        2014\n",
      "494  0        2002\n",
      "477  0        1994\n",
      "474  0        1972\n",
      "Name: leftovers, dtype: object\n",
      "\n",
      "Random Sample After:\n",
      "     match\n",
      "475  0        01/01/2015\n",
      "477  0        01/01/1994\n",
      "488  0        01/01/1977\n",
      "456  0        01/01/2000\n",
      "494  0        01/01/2002\n",
      "Name: leftovers, dtype: object\n",
      "\n",
      "Count of cleaned: 30\n"
     ]
    }
   ],
   "source": [
    "leftovers_cleaned = add_january_one(leftovers)"
   ]
  },
  {
   "cell_type": "code",
   "execution_count": 42,
   "metadata": {
    "collapsed": true
   },
   "outputs": [],
   "source": [
    "# Random Sample Before:\n",
    "#      match\n",
    "# 487  0        1992\n",
    "# 477  0        1994\n",
    "# 498  0        2005\n",
    "# 488  0        1977\n",
    "# 484  0        2004\n",
    "# Name: leftovers, dtype: object\n",
    "\n",
    "# Random Sample After:\n",
    "#      match\n",
    "# 464  0        01/01/2016\n",
    "# 455  0        01/01/1984\n",
    "# 465  0        01/01/1976\n",
    "# 475  0        01/01/2015\n",
    "# 498  0        01/01/2005\n",
    "# Name: leftovers, dtype: object\n",
    "\n",
    "# Count of cleaned: 30"
   ]
  },
  {
   "cell_type": "code",
   "execution_count": 43,
   "metadata": {},
   "outputs": [
    {
     "name": "stdout",
     "output_type": "stream",
     "text": [
      "45\n"
     ]
    }
   ],
   "source": [
    "cleaned = pandas.concat([year_only_cleaned, leftovers_cleaned])\n",
    "print(len(cleaned))"
   ]
  },
  {
   "cell_type": "code",
   "execution_count": 44,
   "metadata": {},
   "outputs": [
    {
     "name": "stdout",
     "output_type": "stream",
     "text": [
      "Random Sample Before:\n",
      "     match\n",
      "426  0        11/1984\n",
      "417  0         8/2000\n",
      "407  0         8/1999\n",
      "389  0         2/2009\n",
      "354  0         3/1993\n",
      "Name: no_day_numeric, dtype: object\n",
      "\n",
      "Random Sample After:\n",
      "     match\n",
      "363  0        12/1975\n",
      "447  0        07/1985\n",
      "351  0        08/1974\n",
      "414  0        04/2004\n",
      "344  0        06/2005\n",
      "Name: no_day_numeric, dtype: object\n",
      "\n",
      "Count of cleaned: 112\n"
     ]
    }
   ],
   "source": [
    "no_day_numeric_cleaned = clean_two_digits(no_day_numeric)"
   ]
  },
  {
   "cell_type": "code",
   "execution_count": 45,
   "metadata": {},
   "outputs": [
    {
     "name": "stdout",
     "output_type": "stream",
     "text": [
      "Random Sample Before:\n",
      "     match\n",
      "366  0        07/2014\n",
      "401  0        12/2014\n",
      "452  0        03/2003\n",
      "346  0        09/2005\n",
      "380  0        07/1973\n",
      "Name: no_day_numeric, dtype: object\n",
      "\n",
      "Random Sample After:\n",
      "     match\n",
      "404  0        10/01/1986\n",
      "405  0        03/01/1973\n",
      "346  0        09/01/2005\n",
      "407  0        08/01/1999\n",
      "353  0        10/01/1997\n",
      "Name: no_day_numeric, dtype: object\n",
      "\n",
      "Count of cleaned: 112\n"
     ]
    }
   ],
   "source": [
    "no_day_numeric_cleaned = clean(no_day_numeric_cleaned,\n",
    "                               SLASH,\n",
    "                               lambda m: \"/01/\")"
   ]
  },
  {
   "cell_type": "code",
   "execution_count": 46,
   "metadata": {
    "collapsed": true
   },
   "outputs": [],
   "source": [
    "original = len(cleaned)\n",
    "cleaned = pandas.concat([cleaned, no_day_numeric_cleaned])\n",
    "assert len(cleaned) == no_day_numeric_count + original"
   ]
  },
  {
   "cell_type": "code",
   "execution_count": 47,
   "metadata": {},
   "outputs": [
    {
     "name": "stdout",
     "output_type": "stream",
     "text": [
      "157\n"
     ]
    }
   ],
   "source": [
    "print(len(cleaned))"
   ]
  },
  {
   "cell_type": "code",
   "execution_count": 48,
   "metadata": {},
   "outputs": [
    {
     "name": "stdout",
     "output_type": "stream",
     "text": [
      "Cleaning Punctuation\n",
      "Random Sample Before:\n",
      "     match\n",
      "269  0         July 1992\n",
      "284  0          Jan 1987\n",
      "327  0        April 1999\n",
      "283  0          Feb 1977\n",
      "256  0          Aug 1988\n",
      "Name: no_day, dtype: object\n",
      "\n",
      "Random Sample After:\n",
      "     match\n",
      "257  0          Sep 2015\n",
      "295  0        March 1983\n",
      "321  0         June 1999\n",
      "276  0        April 1986\n",
      "231  0          May 2016\n",
      "Name: no_day, dtype: object\n",
      "\n",
      "Count of cleaned: 115\n",
      "Converting long months to short\n",
      "Random Sample Before:\n",
      "     match\n",
      "260  0        February 2000\n",
      "314  0         January 2007\n",
      "332  0            June 1974\n",
      "231  0             May 2016\n",
      "302  0        November 2004\n",
      "Name: no_day, dtype: object\n",
      "\n",
      "Random Sample After:\n",
      "     match\n",
      "294  0        Feb 1983\n",
      "271  0        Aug 2008\n",
      "248  0        Jul 1995\n",
      "254  0        Aug 1979\n",
      "327  0        Apr 1999\n",
      "Name: no_day, dtype: object\n",
      "\n",
      "Count of cleaned: 115\n",
      "Converting short months to digits\n",
      "Random Sample Before:\n",
      "     match\n",
      "253  0        Feb 2016\n",
      "274  0        Apr 1985\n",
      "317  0        Mar 1975\n",
      "326  0        Oct 1995\n",
      "323  0        Mar 1973\n",
      "Name: no_day, dtype: object\n",
      "\n",
      "Random Sample After:\n",
      "     match\n",
      "242  0        11 2010\n",
      "283  0        02 1977\n",
      "239  0        02 1978\n",
      "247  0        05 1983\n",
      "325  0        06 2007\n",
      "Name: no_day, dtype: object\n",
      "\n",
      "Count of cleaned: 115\n"
     ]
    }
   ],
   "source": [
    "no_day_cleaned = clean_months(no_day)"
   ]
  },
  {
   "cell_type": "code",
   "execution_count": 49,
   "metadata": {},
   "outputs": [
    {
     "name": "stdout",
     "output_type": "stream",
     "text": [
      "Random Sample Before:\n",
      "     match\n",
      "319  0        07 1975\n",
      "329  0        03 2000\n",
      "229  0        06 2011\n",
      "312  0        02 1989\n",
      "294  0        02 1983\n",
      "Name: no_day, dtype: object\n",
      "\n",
      "Random Sample After:\n",
      "     match\n",
      "294  0        02/01/1983\n",
      "280  0        07/01/1985\n",
      "304  0        03/01/2002\n",
      "261  0        10/01/1986\n",
      "266  0        09/01/1999\n",
      "Name: no_day, dtype: object\n",
      "\n",
      "Count of cleaned: 115\n"
     ]
    }
   ],
   "source": [
    "no_day_cleaned = clean(no_day_cleaned,\n",
    "                       SPACE + ONE_OR_MORE,\n",
    "                       lambda match: \"/01/\")"
   ]
  },
  {
   "cell_type": "code",
   "execution_count": 50,
   "metadata": {},
   "outputs": [
    {
     "name": "stdout",
     "output_type": "stream",
     "text": [
      "272\n"
     ]
    }
   ],
   "source": [
    "original = len(cleaned)\n",
    "cleaned = pandas.concat([cleaned, no_day_cleaned])\n",
    "print(len(cleaned))"
   ]
  },
  {
   "cell_type": "code",
   "execution_count": 51,
   "metadata": {
    "collapsed": true
   },
   "outputs": [],
   "source": [
    "assert len(cleaned) == no_day_count + original"
   ]
  },
  {
   "cell_type": "code",
   "execution_count": 52,
   "metadata": {},
   "outputs": [
    {
     "data": {
      "text/html": [
       "<div>\n",
       "<style>\n",
       "    .dataframe thead tr:only-child th {\n",
       "        text-align: right;\n",
       "    }\n",
       "\n",
       "    .dataframe thead th {\n",
       "        text-align: left;\n",
       "    }\n",
       "\n",
       "    .dataframe tbody tr th {\n",
       "        vertical-align: top;\n",
       "    }\n",
       "</style>\n",
       "<table border=\"1\" class=\"dataframe\">\n",
       "  <thead>\n",
       "    <tr style=\"text-align: right;\">\n",
       "      <th></th>\n",
       "      <th>day</th>\n",
       "      <th>month</th>\n",
       "      <th>year</th>\n",
       "    </tr>\n",
       "  </thead>\n",
       "  <tbody>\n",
       "    <tr>\n",
       "      <th>0</th>\n",
       "      <td>24</td>\n",
       "      <td>Jan</td>\n",
       "      <td>2001</td>\n",
       "    </tr>\n",
       "    <tr>\n",
       "      <th>1</th>\n",
       "      <td>10</td>\n",
       "      <td>Sep</td>\n",
       "      <td>2004</td>\n",
       "    </tr>\n",
       "    <tr>\n",
       "      <th>2</th>\n",
       "      <td>26</td>\n",
       "      <td>May</td>\n",
       "      <td>1982</td>\n",
       "    </tr>\n",
       "    <tr>\n",
       "      <th>3</th>\n",
       "      <td>28</td>\n",
       "      <td>June</td>\n",
       "      <td>2002</td>\n",
       "    </tr>\n",
       "    <tr>\n",
       "      <th>4</th>\n",
       "      <td>06</td>\n",
       "      <td>May</td>\n",
       "      <td>1972</td>\n",
       "    </tr>\n",
       "  </tbody>\n",
       "</table>\n",
       "</div>"
      ],
      "text/plain": [
       "  day month  year\n",
       "0  24   Jan  2001\n",
       "1  10   Sep  2004\n",
       "2  26   May  1982\n",
       "3  28  June  2002\n",
       "4  06   May  1972"
      ]
     },
     "execution_count": 52,
     "metadata": {},
     "output_type": "execute_result"
    }
   ],
   "source": [
    "frame = pandas.DataFrame(backwards.str.split().tolist(),\n",
    "                         columns=\"day month year\".split())\n",
    "frame.head()"
   ]
  },
  {
   "cell_type": "code",
   "execution_count": 53,
   "metadata": {},
   "outputs": [
    {
     "name": "stdout",
     "output_type": "stream",
     "text": [
      "Random Sample Before:\n",
      "27    28\n",
      "24    09\n",
      "49    04\n",
      "54    10\n",
      "14    21\n",
      "Name: day, dtype: object\n",
      "\n",
      "Random Sample After:\n",
      "7     30\n",
      "46    04\n",
      "22    30\n",
      "35    21\n",
      "20    18\n",
      "Name: day, dtype: object\n",
      "\n",
      "Count of cleaned: 69\n"
     ]
    }
   ],
   "source": [
    "frame.day = clean_two_digits(frame.day)"
   ]
  },
  {
   "cell_type": "code",
   "execution_count": 54,
   "metadata": {},
   "outputs": [
    {
     "name": "stdout",
     "output_type": "stream",
     "text": [
      "Cleaning Punctuation\n",
      "Converting long months to short\n",
      "Random Sample Before:\n",
      "22    May\n",
      "51    May\n",
      "10    Oct\n",
      "64    Oct\n",
      "38    Jan\n",
      "Name: month, dtype: object\n",
      "\n",
      "Random Sample After:\n",
      "16    May\n",
      "33    Aug\n",
      "5     Oct\n",
      "0     Jan\n",
      "35    Oct\n",
      "Name: month, dtype: object\n",
      "\n",
      "Count of cleaned: 69\n",
      "Converting short months to digits\n",
      "Random Sample Before:\n",
      "51    May\n",
      "26    Jun\n",
      "33    Aug\n",
      "20    Oct\n",
      "42    Oct\n",
      "Name: month, dtype: object\n",
      "\n",
      "Random Sample After:\n",
      "18    10\n",
      "53    06\n",
      "44    10\n",
      "45    01\n",
      "10    10\n",
      "Name: month, dtype: object\n",
      "\n",
      "Count of cleaned: 69\n"
     ]
    }
   ],
   "source": [
    "frame.month = clean_months(frame.month)"
   ]
  },
  {
   "cell_type": "code",
   "execution_count": 55,
   "metadata": {},
   "outputs": [
    {
     "name": "stdout",
     "output_type": "stream",
     "text": [
      "     match\n",
      "188  0        03/12/2004\n",
      "137  0        02/10/1983\n",
      "191  0        11/30/1972\n",
      "136  0        02/11/1985\n",
      "125  0        01/24/2001\n",
      "dtype: object\n"
     ]
    }
   ],
   "source": [
    "backwards_cleaned = frame_to_series(frame, backwards)"
   ]
  },
  {
   "cell_type": "code",
   "execution_count": 56,
   "metadata": {
    "collapsed": true
   },
   "outputs": [],
   "source": [
    "original = len(cleaned)\n",
    "cleaned = pandas.concat([cleaned, backwards_cleaned])\n",
    "assert len(cleaned) == original + backwards_count"
   ]
  },
  {
   "cell_type": "code",
   "execution_count": 57,
   "metadata": {},
   "outputs": [
    {
     "name": "stdout",
     "output_type": "stream",
     "text": [
      "341\n"
     ]
    }
   ],
   "source": [
    "print(len(cleaned))"
   ]
  },
  {
   "cell_type": "code",
   "execution_count": 58,
   "metadata": {},
   "outputs": [
    {
     "name": "stdout",
     "output_type": "stream",
     "text": [
      "      month  day  year\n",
      "0     April  11,  1990\n",
      "1       May  30,  2001\n",
      "2       Feb  18,  1994\n",
      "3  February  18,  1981\n",
      "4  October.  11,  2013\n"
     ]
    }
   ],
   "source": [
    "frame = pandas.DataFrame(words.str.split().tolist(), columns=\"month day year\".split())\n",
    "print(frame.head())"
   ]
  },
  {
   "cell_type": "code",
   "execution_count": 59,
   "metadata": {},
   "outputs": [
    {
     "name": "stdout",
     "output_type": "stream",
     "text": [
      "Cleaning Punctuation\n",
      "Random Sample Before:\n",
      "6         July\n",
      "30        July\n",
      "4     October.\n",
      "22         Nov\n",
      "15        July\n",
      "Name: month, dtype: object\n",
      "\n",
      "Random Sample After:\n",
      "22         Nov\n",
      "20         Sep\n",
      "26        June\n",
      "16      August\n",
      "7     December\n",
      "Name: month, dtype: object\n",
      "\n",
      "Count of cleaned: 34\n",
      "Converting long months to short\n",
      "Random Sample Before:\n",
      "28      May\n",
      "22      Nov\n",
      "17    April\n",
      "23     June\n",
      "26     June\n",
      "Name: month, dtype: object\n",
      "\n",
      "Random Sample After:\n",
      "15    Jul\n",
      "19    Jul\n",
      "18    Jul\n",
      "20    Sep\n",
      "29    Oct\n",
      "Name: month, dtype: object\n",
      "\n",
      "Count of cleaned: 34\n",
      "Converting short months to digits\n",
      "Random Sample Before:\n",
      "2     Feb\n",
      "29    Oct\n",
      "31    Jun\n",
      "24    May\n",
      "26    Jun\n",
      "Name: month, dtype: object\n",
      "\n",
      "Random Sample After:\n",
      "21    08\n",
      "11    01\n",
      "25    12\n",
      "17    04\n",
      "20    09\n",
      "Name: month, dtype: object\n",
      "\n",
      "Count of cleaned: 34\n"
     ]
    }
   ],
   "source": [
    "frame.month = clean_months(frame.month)"
   ]
  },
  {
   "cell_type": "code",
   "execution_count": 60,
   "metadata": {},
   "outputs": [
    {
     "name": "stdout",
     "output_type": "stream",
     "text": [
      "Cleaning Punctuation\n",
      "Random Sample Before:\n",
      "28    15,\n",
      "18    24,\n",
      "12     23\n",
      "26    25,\n",
      "19    11,\n",
      "Name: day, dtype: object\n",
      "\n",
      "Random Sample After:\n",
      "18    24\n",
      "14    01\n",
      "10    10\n",
      "3     18\n",
      "2     18\n",
      "Name: day, dtype: object\n",
      "\n",
      "Count of cleaned: 34\n"
     ]
    }
   ],
   "source": [
    "frame.day = clean_punctuation(frame.day)"
   ]
  },
  {
   "cell_type": "code",
   "execution_count": 61,
   "metadata": {},
   "outputs": [
    {
     "data": {
      "text/html": [
       "<div>\n",
       "<style>\n",
       "    .dataframe thead tr:only-child th {\n",
       "        text-align: right;\n",
       "    }\n",
       "\n",
       "    .dataframe thead th {\n",
       "        text-align: left;\n",
       "    }\n",
       "\n",
       "    .dataframe tbody tr th {\n",
       "        vertical-align: top;\n",
       "    }\n",
       "</style>\n",
       "<table border=\"1\" class=\"dataframe\">\n",
       "  <thead>\n",
       "    <tr style=\"text-align: right;\">\n",
       "      <th></th>\n",
       "      <th>month</th>\n",
       "      <th>day</th>\n",
       "      <th>year</th>\n",
       "    </tr>\n",
       "  </thead>\n",
       "  <tbody>\n",
       "    <tr>\n",
       "      <th>0</th>\n",
       "      <td>04</td>\n",
       "      <td>11</td>\n",
       "      <td>1990</td>\n",
       "    </tr>\n",
       "    <tr>\n",
       "      <th>1</th>\n",
       "      <td>05</td>\n",
       "      <td>30</td>\n",
       "      <td>2001</td>\n",
       "    </tr>\n",
       "    <tr>\n",
       "      <th>2</th>\n",
       "      <td>02</td>\n",
       "      <td>18</td>\n",
       "      <td>1994</td>\n",
       "    </tr>\n",
       "    <tr>\n",
       "      <th>3</th>\n",
       "      <td>02</td>\n",
       "      <td>18</td>\n",
       "      <td>1981</td>\n",
       "    </tr>\n",
       "    <tr>\n",
       "      <th>4</th>\n",
       "      <td>10</td>\n",
       "      <td>11</td>\n",
       "      <td>2013</td>\n",
       "    </tr>\n",
       "  </tbody>\n",
       "</table>\n",
       "</div>"
      ],
      "text/plain": [
       "  month day  year\n",
       "0    04  11  1990\n",
       "1    05  30  2001\n",
       "2    02  18  1994\n",
       "3    02  18  1981\n",
       "4    10  11  2013"
      ]
     },
     "execution_count": 61,
     "metadata": {},
     "output_type": "execute_result"
    }
   ],
   "source": [
    "frame.head()"
   ]
  },
  {
   "cell_type": "code",
   "execution_count": 62,
   "metadata": {},
   "outputs": [
    {
     "name": "stdout",
     "output_type": "stream",
     "text": [
      "     match\n",
      "201  0        12/23/1999\n",
      "215  0        08/14/1981\n",
      "199  0        01/24/1986\n",
      "211  0        04/17/1992\n",
      "200  0        07/26/1978\n",
      "dtype: object\n"
     ]
    }
   ],
   "source": [
    "words_cleaned = frame_to_series(frame, words)"
   ]
  },
  {
   "cell_type": "code",
   "execution_count": 63,
   "metadata": {},
   "outputs": [
    {
     "name": "stdout",
     "output_type": "stream",
     "text": [
      "375\n"
     ]
    }
   ],
   "source": [
    "original = len(cleaned)\n",
    "cleaned = pandas.concat([cleaned, words_cleaned])\n",
    "assert len(cleaned) == original + words_count\n",
    "print(len(cleaned))"
   ]
  },
  {
   "cell_type": "code",
   "execution_count": 64,
   "metadata": {},
   "outputs": [
    {
     "name": "stdout",
     "output_type": "stream",
     "text": [
      "4-13-82\n",
      "01/01/1991\n"
     ]
    }
   ],
   "source": [
    "print(twentieth.iloc[21])\n",
    "twentieth_cleaned = twentieth.str.replace(DASH, SLASH)\n",
    "print(cleaned.iloc[21])"
   ]
  },
  {
   "cell_type": "code",
   "execution_count": 65,
   "metadata": {},
   "outputs": [
    {
     "name": "stdout",
     "output_type": "stream",
     "text": [
      "  month day year\n",
      "0    03  25   93\n",
      "1     6  18   85\n",
      "2     7   8   71\n",
      "3     9  27   75\n",
      "4     2   6   96\n"
     ]
    }
   ],
   "source": [
    "frame = pandas.DataFrame(twentieth_cleaned.str.split(SLASH).tolist(),\n",
    "                         columns=[\"month\", \"day\", \"year\"])\n",
    "print(frame.head())"
   ]
  },
  {
   "cell_type": "code",
   "execution_count": 66,
   "metadata": {},
   "outputs": [
    {
     "name": "stdout",
     "output_type": "stream",
     "text": [
      "Random Sample Before:\n",
      "83     2\n",
      "75     7\n",
      "62    12\n",
      "34     6\n",
      "77     5\n",
      "Name: month, dtype: object\n",
      "\n",
      "Random Sample After:\n",
      "5     07\n",
      "20    02\n",
      "63    04\n",
      "56    07\n",
      "2     07\n",
      "Name: month, dtype: object\n",
      "\n",
      "Count of cleaned: 100\n"
     ]
    }
   ],
   "source": [
    "frame.month = clean_two_digits_isolated(frame.month)"
   ]
  },
  {
   "cell_type": "code",
   "execution_count": 67,
   "metadata": {},
   "outputs": [
    {
     "name": "stdout",
     "output_type": "stream",
     "text": [
      "Random Sample Before:\n",
      "31    24\n",
      "80    05\n",
      "8      7\n",
      "49    06\n",
      "15    24\n",
      "Name: day, dtype: object\n",
      "\n",
      "Random Sample After:\n",
      "93    20\n",
      "82    24\n",
      "31    24\n",
      "2     08\n",
      "4     06\n",
      "Name: day, dtype: object\n",
      "\n",
      "Count of cleaned: 100\n"
     ]
    }
   ],
   "source": [
    "frame.day = clean_two_digits_isolated(frame.day)"
   ]
  },
  {
   "cell_type": "code",
   "execution_count": 68,
   "metadata": {},
   "outputs": [
    {
     "data": {
      "text/html": [
       "<div>\n",
       "<style>\n",
       "    .dataframe thead tr:only-child th {\n",
       "        text-align: right;\n",
       "    }\n",
       "\n",
       "    .dataframe thead th {\n",
       "        text-align: left;\n",
       "    }\n",
       "\n",
       "    .dataframe tbody tr th {\n",
       "        vertical-align: top;\n",
       "    }\n",
       "</style>\n",
       "<table border=\"1\" class=\"dataframe\">\n",
       "  <thead>\n",
       "    <tr style=\"text-align: right;\">\n",
       "      <th></th>\n",
       "      <th>month</th>\n",
       "      <th>day</th>\n",
       "      <th>year</th>\n",
       "    </tr>\n",
       "  </thead>\n",
       "  <tbody>\n",
       "    <tr>\n",
       "      <th>0</th>\n",
       "      <td>03</td>\n",
       "      <td>25</td>\n",
       "      <td>93</td>\n",
       "    </tr>\n",
       "    <tr>\n",
       "      <th>1</th>\n",
       "      <td>06</td>\n",
       "      <td>18</td>\n",
       "      <td>85</td>\n",
       "    </tr>\n",
       "    <tr>\n",
       "      <th>2</th>\n",
       "      <td>07</td>\n",
       "      <td>08</td>\n",
       "      <td>71</td>\n",
       "    </tr>\n",
       "    <tr>\n",
       "      <th>3</th>\n",
       "      <td>09</td>\n",
       "      <td>27</td>\n",
       "      <td>75</td>\n",
       "    </tr>\n",
       "    <tr>\n",
       "      <th>4</th>\n",
       "      <td>02</td>\n",
       "      <td>06</td>\n",
       "      <td>96</td>\n",
       "    </tr>\n",
       "  </tbody>\n",
       "</table>\n",
       "</div>"
      ],
      "text/plain": [
       "  month day year\n",
       "0    03  25   93\n",
       "1    06  18   85\n",
       "2    07  08   71\n",
       "3    09  27   75\n",
       "4    02  06   96"
      ]
     },
     "execution_count": 68,
     "metadata": {},
     "output_type": "execute_result"
    }
   ],
   "source": [
    "frame.head()"
   ]
  },
  {
   "cell_type": "code",
   "execution_count": 69,
   "metadata": {},
   "outputs": [
    {
     "name": "stdout",
     "output_type": "stream",
     "text": [
      "Random Sample Before:\n",
      "44    71\n",
      "72    95\n",
      "55    87\n",
      "38    94\n",
      "41    75\n",
      "Name: year, dtype: object\n",
      "\n",
      "Random Sample After:\n",
      "62    1987\n",
      "6     1978\n",
      "9     1971\n",
      "35    1994\n",
      "16    1977\n",
      "Name: year, dtype: object\n",
      "\n",
      "Count of cleaned: 100\n"
     ]
    }
   ],
   "source": [
    "frame.year = clean(frame.year, TWO_DIGITS, lambda match: \"19\" + match.group())"
   ]
  },
  {
   "cell_type": "code",
   "execution_count": 70,
   "metadata": {},
   "outputs": [
    {
     "name": "stdout",
     "output_type": "stream",
     "text": [
      "     match\n",
      "96   0        07/18/1986\n",
      "81   0        08/04/1978\n",
      "36   0        02/14/1973\n",
      "114  0        12/08/1997\n",
      "72   0        07/11/1977\n",
      "dtype: object\n"
     ]
    }
   ],
   "source": [
    "twentieth_cleaned = frame_to_series(frame, twentieth)"
   ]
  },
  {
   "cell_type": "code",
   "execution_count": 71,
   "metadata": {
    "collapsed": true
   },
   "outputs": [],
   "source": [
    "original = len(cleaned)\n",
    "cleaned = pandas.concat([cleaned, twentieth_cleaned])"
   ]
  },
  {
   "cell_type": "code",
   "execution_count": 72,
   "metadata": {
    "collapsed": true
   },
   "outputs": [],
   "source": [
    "assert len(cleaned) == original + twentieth_count"
   ]
  },
  {
   "cell_type": "code",
   "execution_count": 73,
   "metadata": {},
   "outputs": [
    {
     "name": "stdout",
     "output_type": "stream",
     "text": [
      "    match\n",
      "14  0         5/24/1990\n",
      "15  0         1/25/2011\n",
      "17  0        10/13/1976\n",
      "24  0        07/25/1984\n",
      "30  0        03/31/1985\n",
      "Name: numeric, dtype: object\n"
     ]
    }
   ],
   "source": [
    "print(numeric.head())"
   ]
  },
  {
   "cell_type": "code",
   "execution_count": 74,
   "metadata": {},
   "outputs": [
    {
     "name": "stdout",
     "output_type": "stream",
     "text": [
      "Series([], Name: numeric, dtype: object)\n"
     ]
    }
   ],
   "source": [
    "has_dashes = numeric.str.contains(DASH)\n",
    "print(numeric[has_dashes])"
   ]
  },
  {
   "cell_type": "code",
   "execution_count": 75,
   "metadata": {},
   "outputs": [
    {
     "name": "stdout",
     "output_type": "stream",
     "text": [
      "  month day  year\n",
      "0     5  24  1990\n",
      "1     1  25  2011\n",
      "2    10  13  1976\n",
      "3    07  25  1984\n",
      "4    03  31  1985\n"
     ]
    }
   ],
   "source": [
    "frame = pandas.DataFrame(numeric.str.split(SLASH).tolist(),\n",
    "                         columns=\"month day year\".split())\n",
    "print(frame.head())"
   ]
  },
  {
   "cell_type": "code",
   "execution_count": 76,
   "metadata": {},
   "outputs": [
    {
     "name": "stdout",
     "output_type": "stream",
     "text": [
      "Random Sample Before:\n",
      "18    04\n",
      "10    12\n",
      "20     4\n",
      "16    09\n",
      "3     07\n",
      "Name: month, dtype: object\n",
      "\n",
      "Random Sample After:\n",
      "1     01\n",
      "14    01\n",
      "9     10\n",
      "19    12\n",
      "24    04\n",
      "Name: month, dtype: object\n",
      "\n",
      "Count of cleaned: 25\n"
     ]
    }
   ],
   "source": [
    "frame.month = clean_two_digits_isolated(frame.month)"
   ]
  },
  {
   "cell_type": "code",
   "execution_count": 77,
   "metadata": {},
   "outputs": [
    {
     "name": "stdout",
     "output_type": "stream",
     "text": [
      "Random Sample Before:\n",
      "4     31\n",
      "7     13\n",
      "6     27\n",
      "19    08\n",
      "12    29\n",
      "Name: day, dtype: object\n",
      "\n",
      "Random Sample After:\n",
      "6     27\n",
      "10    05\n",
      "3     25\n",
      "16    14\n",
      "8     15\n",
      "Name: day, dtype: object\n",
      "\n",
      "Count of cleaned: 25\n"
     ]
    }
   ],
   "source": [
    "frame.day = clean_two_digits_isolated(frame.day)"
   ]
  },
  {
   "cell_type": "code",
   "execution_count": 78,
   "metadata": {},
   "outputs": [
    {
     "name": "stdout",
     "output_type": "stream",
     "text": [
      "     match\n",
      "109  0        07/20/2011\n",
      "38   0        07/27/1986\n",
      "92   0        04/08/2004\n",
      "34   0        05/12/2012\n",
      "94   0        12/08/1990\n",
      "dtype: object\n"
     ]
    }
   ],
   "source": [
    "numeric_cleaned = frame_to_series(frame, numeric)"
   ]
  },
  {
   "cell_type": "code",
   "execution_count": 79,
   "metadata": {},
   "outputs": [
    {
     "name": "stdout",
     "output_type": "stream",
     "text": [
      "500\n"
     ]
    }
   ],
   "source": [
    "original = len(cleaned)\n",
    "cleaned = pandas.concat([cleaned, numeric_cleaned])\n",
    "assert len(cleaned) == original + numeric_count\n",
    "print(len(cleaned))"
   ]
  },
  {
   "cell_type": "code",
   "execution_count": 80,
   "metadata": {},
   "outputs": [
    {
     "name": "stdout",
     "output_type": "stream",
     "text": [
      "500\n",
      "    match\n",
      "14  0        05/24/1990\n",
      "15  0        01/25/2011\n",
      "17  0        10/13/1976\n",
      "24  0        07/25/1984\n",
      "30  0        03/31/1985\n",
      "dtype: object\n"
     ]
    }
   ],
   "source": [
    "cleaned = pandas.concat([numeric_cleaned,\n",
    "                         twentieth_cleaned,\n",
    "                         words_cleaned,\n",
    "                         backwards_cleaned,\n",
    "                         no_day_cleaned,\n",
    "                         no_day_numeric_cleaned,\n",
    "                         year_only_cleaned,\n",
    "                         leftovers_cleaned,\n",
    "])\n",
    "print(len(cleaned))\n",
    "print(cleaned.head())\n",
    "assert len(cleaned) == len(data)"
   ]
  },
  {
   "cell_type": "code",
   "execution_count": 81,
   "metadata": {},
   "outputs": [
    {
     "name": "stdout",
     "output_type": "stream",
     "text": [
      "    match\n",
      "14  0        05/24/1990\n",
      "15  0        01/25/2011\n",
      "17  0        10/13/1976\n",
      "24  0        07/25/1984\n",
      "30  0        03/31/1985\n",
      "dtype: object\n",
      "    match\n",
      "14  0       1990-05-24\n",
      "15  0       2011-01-25\n",
      "17  0       1976-10-13\n",
      "24  0       1984-07-25\n",
      "30  0       1985-03-31\n",
      "dtype: datetime64[ns]\n"
     ]
    }
   ],
   "source": [
    "print(cleaned.head())\n",
    "datetimes = pandas.to_datetime(cleaned, format=\"%m/%d/%Y\")\n",
    "print(datetimes.head())"
   ]
  },
  {
   "cell_type": "code",
   "execution_count": 82,
   "metadata": {},
   "outputs": [
    {
     "name": "stdout",
     "output_type": "stream",
     "text": [
      "    match\n",
      "9   0       1971-04-10\n",
      "84  0       1971-05-18\n",
      "2   0       1971-07-08\n",
      "53  0       1971-07-11\n",
      "28  0       1971-09-12\n",
      "dtype: datetime64[ns]\n"
     ]
    }
   ],
   "source": [
    "sorted_dates = datetimes.sort_values()\n",
    "print(sorted_dates.head())"
   ]
  },
  {
   "cell_type": "code",
   "execution_count": 83,
   "metadata": {},
   "outputs": [
    {
     "name": "stdout",
     "output_type": "stream",
     "text": [
      "     match\n",
      "231  0       2016-05-01\n",
      "141  0       2016-05-30\n",
      "186  0       2016-10-13\n",
      "161  0       2016-10-19\n",
      "413  0       2016-11-01\n",
      "dtype: datetime64[ns]\n"
     ]
    }
   ],
   "source": [
    "print(sorted_dates.tail())"
   ]
  },
  {
   "cell_type": "code",
   "execution_count": 84,
   "metadata": {},
   "outputs": [
    {
     "name": "stdout",
     "output_type": "stream",
     "text": [
      "0     9\n",
      "1    84\n",
      "2     2\n",
      "3    53\n",
      "4    28\n",
      "dtype: int16\n"
     ]
    }
   ],
   "source": [
    "answer = pandas.Series(sorted_dates.index.labels[0])\n",
    "print(answer.head())"
   ]
  },
  {
   "cell_type": "code",
   "execution_count": 85,
   "metadata": {
    "collapsed": true
   },
   "outputs": [],
   "source": [
    "def date_sorter():\n",
    "    return answer"
   ]
  }
 ],
 "metadata": {
  "coursera": {
   "course_slug": "python-text-mining",
   "graded_item_id": "LvcWI",
   "launcher_item_id": "krne9",
   "part_id": "Mkp1I"
  },
  "kernelspec": {
   "display_name": "Python 3",
   "language": "python",
   "name": "python3"
  },
  "language_info": {
   "codemirror_mode": {
    "name": "ipython",
    "version": 3
   },
   "file_extension": ".py",
   "mimetype": "text/x-python",
   "name": "python",
   "nbconvert_exporter": "python",
   "pygments_lexer": "ipython3",
   "version": "3.7.1"
  }
 },
 "nbformat": 4,
 "nbformat_minor": 2
}
